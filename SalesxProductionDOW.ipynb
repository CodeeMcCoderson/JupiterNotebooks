{
  "nbformat": 4,
  "nbformat_minor": 0,
  "metadata": {
    "colab": {
      "provenance": [],
      "collapsed_sections": []
    },
    "kernelspec": {
      "name": "python3",
      "display_name": "Python 3"
    },
    "language_info": {
      "name": "python"
    }
  },
  "cells": [
    {
      "cell_type": "markdown",
      "source": [
        "Machine Learning"
      ],
      "metadata": {
        "id": "3QLCQ6gQCier"
      }
    },
    {
      "cell_type": "code",
      "source": [
        "from google.colab import drive\n",
        "drive.mount('/content/drive')"
      ],
      "metadata": {
        "id": "Jy-oh3Zni8GJ",
        "colab": {
          "base_uri": "https://localhost:8080/"
        },
        "outputId": "47597e0b-cdca-4f8c-9392-15043476172b"
      },
      "execution_count": 6,
      "outputs": [
        {
          "output_type": "stream",
          "name": "stdout",
          "text": [
            "Drive already mounted at /content/drive; to attempt to forcibly remount, call drive.mount(\"/content/drive\", force_remount=True).\n"
          ]
        }
      ]
    },
    {
      "cell_type": "code",
      "execution_count": 7,
      "metadata": {
        "id": "eOqMjA6Mgml_"
      },
      "outputs": [],
      "source": [
        "import pandas as pd\n",
        "import numpy as np\n",
        "import statsmodels.api as sm \n",
        "import pandas.util.testing as tm\n",
        "import matplotlib.pyplot as plt"
      ]
    },
    {
      "cell_type": "code",
      "source": [
        "data_df=pd.read_csv('/content/drive/MyDrive/Data/SalesvProductionDOWData.csv')\n"
      ],
      "metadata": {
        "id": "SpAxyhHwhBuL"
      },
      "execution_count": 8,
      "outputs": []
    },
    {
      "cell_type": "code",
      "source": [
        "data_df.head()"
      ],
      "metadata": {
        "id": "GVaY3DPci96b",
        "colab": {
          "base_uri": "https://localhost:8080/",
          "height": 206
        },
        "outputId": "0de081f3-2537-4da8-efdc-ff7beaea8a5c"
      },
      "execution_count": 9,
      "outputs": [
        {
          "output_type": "execute_result",
          "data": {
            "text/plain": [
              "       Date  Production  Sunday  Monday  Tuesday  Wednesday  Thursday  Friday  \\\n",
              "0  1/1/2017     26879.0       1       0        0          0         0       0   \n",
              "1  1/2/2017     22456.0       0       1        0          0         0       0   \n",
              "2  1/3/2017     17247.0       0       0        1          0         0       0   \n",
              "3  1/4/2017     20987.0       0       0        0          1         0       0   \n",
              "4  1/5/2017     21905.0       0       0        0          0         1       0   \n",
              "\n",
              "      Sales        DOW  \n",
              "0  26174.45     Sunday  \n",
              "1  52560.55     Monday  \n",
              "2  46779.68    Tuesday  \n",
              "3  44393.35  Wednesday  \n",
              "4  45602.32   Thursday  "
            ],
            "text/html": [
              "\n",
              "  <div id=\"df-51746a1e-eb8c-4c7f-a60d-9002a4fb1586\">\n",
              "    <div class=\"colab-df-container\">\n",
              "      <div>\n",
              "<style scoped>\n",
              "    .dataframe tbody tr th:only-of-type {\n",
              "        vertical-align: middle;\n",
              "    }\n",
              "\n",
              "    .dataframe tbody tr th {\n",
              "        vertical-align: top;\n",
              "    }\n",
              "\n",
              "    .dataframe thead th {\n",
              "        text-align: right;\n",
              "    }\n",
              "</style>\n",
              "<table border=\"1\" class=\"dataframe\">\n",
              "  <thead>\n",
              "    <tr style=\"text-align: right;\">\n",
              "      <th></th>\n",
              "      <th>Date</th>\n",
              "      <th>Production</th>\n",
              "      <th>Sunday</th>\n",
              "      <th>Monday</th>\n",
              "      <th>Tuesday</th>\n",
              "      <th>Wednesday</th>\n",
              "      <th>Thursday</th>\n",
              "      <th>Friday</th>\n",
              "      <th>Sales</th>\n",
              "      <th>DOW</th>\n",
              "    </tr>\n",
              "  </thead>\n",
              "  <tbody>\n",
              "    <tr>\n",
              "      <th>0</th>\n",
              "      <td>1/1/2017</td>\n",
              "      <td>26879.0</td>\n",
              "      <td>1</td>\n",
              "      <td>0</td>\n",
              "      <td>0</td>\n",
              "      <td>0</td>\n",
              "      <td>0</td>\n",
              "      <td>0</td>\n",
              "      <td>26174.45</td>\n",
              "      <td>Sunday</td>\n",
              "    </tr>\n",
              "    <tr>\n",
              "      <th>1</th>\n",
              "      <td>1/2/2017</td>\n",
              "      <td>22456.0</td>\n",
              "      <td>0</td>\n",
              "      <td>1</td>\n",
              "      <td>0</td>\n",
              "      <td>0</td>\n",
              "      <td>0</td>\n",
              "      <td>0</td>\n",
              "      <td>52560.55</td>\n",
              "      <td>Monday</td>\n",
              "    </tr>\n",
              "    <tr>\n",
              "      <th>2</th>\n",
              "      <td>1/3/2017</td>\n",
              "      <td>17247.0</td>\n",
              "      <td>0</td>\n",
              "      <td>0</td>\n",
              "      <td>1</td>\n",
              "      <td>0</td>\n",
              "      <td>0</td>\n",
              "      <td>0</td>\n",
              "      <td>46779.68</td>\n",
              "      <td>Tuesday</td>\n",
              "    </tr>\n",
              "    <tr>\n",
              "      <th>3</th>\n",
              "      <td>1/4/2017</td>\n",
              "      <td>20987.0</td>\n",
              "      <td>0</td>\n",
              "      <td>0</td>\n",
              "      <td>0</td>\n",
              "      <td>1</td>\n",
              "      <td>0</td>\n",
              "      <td>0</td>\n",
              "      <td>44393.35</td>\n",
              "      <td>Wednesday</td>\n",
              "    </tr>\n",
              "    <tr>\n",
              "      <th>4</th>\n",
              "      <td>1/5/2017</td>\n",
              "      <td>21905.0</td>\n",
              "      <td>0</td>\n",
              "      <td>0</td>\n",
              "      <td>0</td>\n",
              "      <td>0</td>\n",
              "      <td>1</td>\n",
              "      <td>0</td>\n",
              "      <td>45602.32</td>\n",
              "      <td>Thursday</td>\n",
              "    </tr>\n",
              "  </tbody>\n",
              "</table>\n",
              "</div>\n",
              "      <button class=\"colab-df-convert\" onclick=\"convertToInteractive('df-51746a1e-eb8c-4c7f-a60d-9002a4fb1586')\"\n",
              "              title=\"Convert this dataframe to an interactive table.\"\n",
              "              style=\"display:none;\">\n",
              "        \n",
              "  <svg xmlns=\"http://www.w3.org/2000/svg\" height=\"24px\"viewBox=\"0 0 24 24\"\n",
              "       width=\"24px\">\n",
              "    <path d=\"M0 0h24v24H0V0z\" fill=\"none\"/>\n",
              "    <path d=\"M18.56 5.44l.94 2.06.94-2.06 2.06-.94-2.06-.94-.94-2.06-.94 2.06-2.06.94zm-11 1L8.5 8.5l.94-2.06 2.06-.94-2.06-.94L8.5 2.5l-.94 2.06-2.06.94zm10 10l.94 2.06.94-2.06 2.06-.94-2.06-.94-.94-2.06-.94 2.06-2.06.94z\"/><path d=\"M17.41 7.96l-1.37-1.37c-.4-.4-.92-.59-1.43-.59-.52 0-1.04.2-1.43.59L10.3 9.45l-7.72 7.72c-.78.78-.78 2.05 0 2.83L4 21.41c.39.39.9.59 1.41.59.51 0 1.02-.2 1.41-.59l7.78-7.78 2.81-2.81c.8-.78.8-2.07 0-2.86zM5.41 20L4 18.59l7.72-7.72 1.47 1.35L5.41 20z\"/>\n",
              "  </svg>\n",
              "      </button>\n",
              "      \n",
              "  <style>\n",
              "    .colab-df-container {\n",
              "      display:flex;\n",
              "      flex-wrap:wrap;\n",
              "      gap: 12px;\n",
              "    }\n",
              "\n",
              "    .colab-df-convert {\n",
              "      background-color: #E8F0FE;\n",
              "      border: none;\n",
              "      border-radius: 50%;\n",
              "      cursor: pointer;\n",
              "      display: none;\n",
              "      fill: #1967D2;\n",
              "      height: 32px;\n",
              "      padding: 0 0 0 0;\n",
              "      width: 32px;\n",
              "    }\n",
              "\n",
              "    .colab-df-convert:hover {\n",
              "      background-color: #E2EBFA;\n",
              "      box-shadow: 0px 1px 2px rgba(60, 64, 67, 0.3), 0px 1px 3px 1px rgba(60, 64, 67, 0.15);\n",
              "      fill: #174EA6;\n",
              "    }\n",
              "\n",
              "    [theme=dark] .colab-df-convert {\n",
              "      background-color: #3B4455;\n",
              "      fill: #D2E3FC;\n",
              "    }\n",
              "\n",
              "    [theme=dark] .colab-df-convert:hover {\n",
              "      background-color: #434B5C;\n",
              "      box-shadow: 0px 1px 3px 1px rgba(0, 0, 0, 0.15);\n",
              "      filter: drop-shadow(0px 1px 2px rgba(0, 0, 0, 0.3));\n",
              "      fill: #FFFFFF;\n",
              "    }\n",
              "  </style>\n",
              "\n",
              "      <script>\n",
              "        const buttonEl =\n",
              "          document.querySelector('#df-51746a1e-eb8c-4c7f-a60d-9002a4fb1586 button.colab-df-convert');\n",
              "        buttonEl.style.display =\n",
              "          google.colab.kernel.accessAllowed ? 'block' : 'none';\n",
              "\n",
              "        async function convertToInteractive(key) {\n",
              "          const element = document.querySelector('#df-51746a1e-eb8c-4c7f-a60d-9002a4fb1586');\n",
              "          const dataTable =\n",
              "            await google.colab.kernel.invokeFunction('convertToInteractive',\n",
              "                                                     [key], {});\n",
              "          if (!dataTable) return;\n",
              "\n",
              "          const docLinkHtml = 'Like what you see? Visit the ' +\n",
              "            '<a target=\"_blank\" href=https://colab.research.google.com/notebooks/data_table.ipynb>data table notebook</a>'\n",
              "            + ' to learn more about interactive tables.';\n",
              "          element.innerHTML = '';\n",
              "          dataTable['output_type'] = 'display_data';\n",
              "          await google.colab.output.renderOutput(dataTable, element);\n",
              "          const docLink = document.createElement('div');\n",
              "          docLink.innerHTML = docLinkHtml;\n",
              "          element.appendChild(docLink);\n",
              "        }\n",
              "      </script>\n",
              "    </div>\n",
              "  </div>\n",
              "  "
            ]
          },
          "metadata": {},
          "execution_count": 9
        }
      ]
    },
    {
      "cell_type": "code",
      "source": [
        "# Define x and y\n",
        "x=data_df.drop(['Date', 'Sales', 'DOW'], axis=1).values # create the independent variables dataframe\n",
        "y=data_df['Sales'].values # create the dependent variable array \n",
        "   "
      ],
      "metadata": {
        "id": "a6wnN-ZUjUOb"
      },
      "execution_count": 10,
      "outputs": []
    },
    {
      "cell_type": "code",
      "source": [
        "print(x) # display independent variables"
      ],
      "metadata": {
        "id": "-TBF3hBtkDqg",
        "colab": {
          "base_uri": "https://localhost:8080/"
        },
        "outputId": "f080d50d-d405-4419-e525-9eaaf01fea2a"
      },
      "execution_count": 11,
      "outputs": [
        {
          "output_type": "stream",
          "name": "stdout",
          "text": [
            "[[2.687900e+04 1.000000e+00 0.000000e+00 ... 0.000000e+00 0.000000e+00\n",
            "  0.000000e+00]\n",
            " [2.245600e+04 0.000000e+00 1.000000e+00 ... 0.000000e+00 0.000000e+00\n",
            "  0.000000e+00]\n",
            " [1.724700e+04 0.000000e+00 0.000000e+00 ... 0.000000e+00 0.000000e+00\n",
            "  0.000000e+00]\n",
            " ...\n",
            " [2.026900e+04 0.000000e+00 1.000000e+00 ... 0.000000e+00 0.000000e+00\n",
            "  0.000000e+00]\n",
            " [2.526801e+04 0.000000e+00 0.000000e+00 ... 0.000000e+00 0.000000e+00\n",
            "  0.000000e+00]\n",
            " [3.621200e+04 0.000000e+00 0.000000e+00 ... 1.000000e+00 0.000000e+00\n",
            "  0.000000e+00]]\n"
          ]
        }
      ]
    },
    {
      "cell_type": "code",
      "source": [
        "plt.xlabel(\"Items Produced\")\n",
        "plt.ylabel(\"Sales in USD\")\n",
        "plt.scatter(data_df.Production,data_df.Sales, c=\"blue\",s=10)"
      ],
      "metadata": {
        "colab": {
          "base_uri": "https://localhost:8080/",
          "height": 297
        },
        "id": "WVyKKUZIPY5f",
        "outputId": "b5c865ae-b5bd-4831-b56e-a37c9f9b677d"
      },
      "execution_count": 12,
      "outputs": [
        {
          "output_type": "execute_result",
          "data": {
            "text/plain": [
              "<matplotlib.collections.PathCollection at 0x7f7779660b90>"
            ]
          },
          "metadata": {},
          "execution_count": 12
        },
        {
          "output_type": "display_data",
          "data": {
            "text/plain": [
              "<Figure size 432x288 with 1 Axes>"
            ],
            "image/png": "[encoded data removed]"
          },
          "metadata": {
            "needs_background": "light"
          }
        }
      ]
    },
    {
      "cell_type": "code",
      "source": [
        "#print(y) to display target variable values\n",
        "print(y)"
      ],
      "metadata": {
        "id": "vBGKuhiASxmS",
        "colab": {
          "base_uri": "https://localhost:8080/"
        },
        "outputId": "f892896b-e930-4d34-9aea-db8995463826"
      },
      "execution_count": 13,
      "outputs": [
        {
          "output_type": "stream",
          "name": "stdout",
          "text": [
            "[26174.45 52560.55 46779.68 ... 82851.82 82212.81 79115.9 ]\n"
          ]
        }
      ]
    },
    {
      "cell_type": "code",
      "source": [
        "# Split dataset into training and testing datasets\n",
        "from sklearn.model_selection import train_test_split # get the train test and split function from the sklearn library\n",
        "x_train,x_test,y_train,y_test=train_test_split(x,y,test_size=0.3,random_state=0) # will test on 30% of data\n"
      ],
      "metadata": {
        "id": "1I4cksrIlH8Y"
      },
      "execution_count": 14,
      "outputs": []
    },
    {
      "cell_type": "code",
      "source": [
        "# train the Model on the Training set\n",
        "from sklearn.linear_model import LinearRegression\n",
        "ml=LinearRegression() # create the model\n",
        "ml.fit(x_train,y_train) # fit the model\n",
        "LinearRegression(copy_X=True, fit_intercept=True, n_jobs=None, normalize=False)"
      ],
      "metadata": {
        "id": "L2ZrOtP0mjlP",
        "colab": {
          "base_uri": "https://localhost:8080/"
        },
        "outputId": "bcec588c-f0f0-403e-d9af-0ab8d75748d2"
      },
      "execution_count": 15,
      "outputs": [
        {
          "output_type": "execute_result",
          "data": {
            "text/plain": [
              "LinearRegression(normalize=False)"
            ]
          },
          "metadata": {},
          "execution_count": 15
        }
      ]
    },
    {
      "cell_type": "code",
      "source": [
        "# Use trained model to predict the target variable (we know these values, it's how we can tell the accuracy of the model before putting into production)\n",
        "y_pred = ml.predict(x_test)\n",
        "print(y_pred)\n"
      ],
      "metadata": {
        "id": "02ppbdRWqYly",
        "colab": {
          "base_uri": "https://localhost:8080/"
        },
        "outputId": "246b8ce2-865f-49e3-bf8f-bf5e6365224b"
      },
      "execution_count": 16,
      "outputs": [
        {
          "output_type": "stream",
          "name": "stdout",
          "text": [
            "[ 78571.97596376  56168.31254085  59805.08564081  55380.1546646\n",
            "  56829.72732697  59049.91037412  57381.51519015  62747.30461787\n",
            "  57912.7096028   80968.36813461  77623.61944173  80879.66647444\n",
            "  58374.48203722  60254.84247237  55618.62911241  57703.39573962\n",
            "  55950.13347544  56934.48564493  49990.0091654   56935.01826467\n",
            "  76805.86181314  58972.21784483  54770.589411    55434.78861599\n",
            "  51135.48048779  59959.2831038   68328.87181961  79946.26586559\n",
            "  57418.34244621  57706.93636399  57350.4044945   63076.1091936\n",
            "  69370.95436157  83666.62852717  78864.20210136  59792.38082536\n",
            "  78250.10679272  79731.90696626  56720.1494175   57882.57274213\n",
            "  80505.9064876   59843.38255692  51446.97501385  68853.36949172\n",
            "  56347.99529599  51711.47605505  65589.94099219  77964.77967313\n",
            "  53964.6912722   59421.58445265  78763.58395554  58069.85007302\n",
            "  54607.73350957  53305.62477267  54101.13269286  59817.19247855\n",
            "  55842.80246848  67531.45285451  58793.01567965  56633.71953144\n",
            "  57387.2983157   57741.78991408  56524.82394242  76081.85088085\n",
            "  64725.29587058  57689.40472407  60177.76349442  54674.55067452\n",
            "  59713.24110177  52348.89865185  53880.42807163  58306.45675471\n",
            "  58864.31045726  57571.85069661  58819.50660573  53175.51329414\n",
            "  57148.86032404  56457.78182809  79248.09351326  54560.56806468\n",
            "  67142.73695449  70124.96671784  59088.49938696  53166.52106538\n",
            "  70439.92997874  55686.16505398  66732.65546422  57194.55008539\n",
            "  57587.19953044  79226.03871042  64966.98894118  77928.94751065\n",
            "  56587.84127685  54402.83060695  57597.53771927  46392.67095091\n",
            "  74455.99838415  56447.63213249  79845.64082764  69304.79684518\n",
            "  56314.23077127  58667.39738741  76790.36142202  55507.65899351\n",
            "  57972.17037865  59554.41398904  77254.89070679  53507.56406116\n",
            "  55784.18983442  56211.92142716  58524.06680913  53857.14454434\n",
            "  55942.94002435  58379.60785055  79699.52775884  56969.17756889\n",
            "  60673.88372629  57812.77377744  67962.91371927  66854.64609242\n",
            "  54966.80637614  57153.30374971  58360.46649091  61545.73765097\n",
            "  52798.52090025  55431.15639617  57117.12698093  58324.96515047\n",
            "  58169.09668579  78421.72761943  55934.66947328  64243.89502224\n",
            "  57088.20961623  65740.11352314  77563.37536936  76682.84425818\n",
            "  59249.97051807  55656.72196167  52510.45960221  55526.41743413\n",
            "  56758.76599884  81154.45553355  53213.42687864  57678.988863\n",
            "  56679.20067016  57584.25652321  49372.44512192  79170.90170332\n",
            "  66606.5295605   57939.77738699  58836.03895688  54794.32396422\n",
            "  78285.95273946  58653.61313563  80659.60089488  56019.7439469\n",
            "  56884.86233855  63942.12982181  56213.41268432  60328.18421137\n",
            "  53439.90839549  58550.91356779  67574.32187752  55536.99380961\n",
            "  56616.6020487   59768.25838476  79914.56208651  58002.79472141\n",
            "  78922.7851714   75119.02089447  58608.12510478  54199.69009304\n",
            "  54999.89547253  50934.2304119   54350.47105711  61458.89686479\n",
            "  76701.4598902   58359.50785349  80536.21116512  80118.56901276\n",
            "  67723.74316675  77115.66976388  54071.49655155  58355.67156682\n",
            "  77716.66314121  54959.4336603   53189.83705777  59543.57508085\n",
            "  59961.73862895  53185.01946178  77866.22227295  68492.21520313\n",
            "  56178.2628423   57332.39260313  57943.01042595  56578.16273658\n",
            "  78140.52199112  60123.00748257  77655.32322081  68252.36922227\n",
            "  52576.43785385  64857.30801042  59738.20245569  58108.74730319\n",
            "  58668.69310707  79281.8649301   76816.54460826  58660.50526152\n",
            "  61376.88056674  57029.32066521  52635.17751674  56084.71608711\n",
            "  81725.12355698  58576.03343832  77558.8334584   57637.32589254\n",
            "  56716.23654885  58432.17416416  60881.83054271  76535.33897995\n",
            "  67778.88017384  55197.69948548  56482.36218676  56963.66386818\n",
            "  48766.62725647  76156.97505302  59799.08445802  60524.8253139\n",
            "  55213.94159875  57791.40818719  58584.69876889  51546.24429852\n",
            "  55432.53482134  67443.92285574  81697.19666288  55379.46545202\n",
            "  55413.23686886  69323.40558508  65607.8605195   79107.01169635\n",
            "  66544.70938865  57204.65697969  59252.99679326  63028.92314181\n",
            "  57128.84359494  71049.88311972  55957.90097079  53039.08565773\n",
            "  57986.06746241  78297.87611724  54196.77664984  67638.99666951\n",
            "  58761.43162468  68234.44969496  55085.3282695   58753.04824163\n",
            "  56289.80244968  57281.58625692  58203.05659586  57375.31227686\n",
            "  58708.93863596  58575.73211311  67982.1978875   64923.47241894\n",
            "  51961.12760501  67774.05568572  55937.72764885  55600.19963727\n",
            "  54448.03606064  51679.08306338  53731.55126035  78952.42131271\n",
            "  56852.31275403  79845.64082764  55934.66947328  59001.43419839\n",
            "  54143.01806792  56979.5088656   66402.52263425  76804.1121305\n",
            "  69612.87487232  60004.08192207  66952.51428001  61078.03172808\n",
            "  55074.82659569  69690.06668226  53743.07296879  68210.35390552\n",
            "  78401.74045436  53513.92356731  79029.61312264  56368.87340415\n",
            "  50626.12282073  51960.28179957  56341.78549056 122197.82388011\n",
            "  78874.54029019  53673.82088788  55438.23467893  52439.44114155\n",
            "  69650.7815647   54918.26939821  59658.48508993  58851.70468954\n",
            "  59056.30178065  57173.48582035  59123.84461434  56493.23299532\n",
            "  56113.17553375  71189.10406264  63013.19097638  60431.09240184\n",
            "  59490.11548779  57985.07692461  69357.86621451  57784.70455453\n",
            "  59553.22405709  57159.40024337  56628.0173375   56547.83738268\n",
            "  79742.25893934  57130.75463986  55413.62475624  51999.72350997\n",
            "  56122.62277949  58495.97194605  55121.8565367   56764.23635128\n",
            "  56431.59174972  66709.90455667  74076.93146038  53685.38090904\n",
            "  58540.8835963   57248.49716054  58055.57199401  52595.89239918\n",
            "  66901.51254845  65525.84422144  56335.40331252  78318.34573113\n",
            "  68841.96991551  58721.34446255  68282.00536358  57768.46244126\n",
            "  70224.89565107  75951.58970159  58393.09077711  66871.18719455\n",
            "  51983.87162043  52821.11521496  58972.51683369  78633.31588415\n",
            "  57882.3842489   68222.73308095  59079.73500867  58117.17444711\n",
            "  80663.73617041  58559.67849307  57498.68133023  57796.23267531\n",
            "  68069.03867368  78701.54793043  78159.13762314  58427.55140654\n",
            "  57599.99558077  59082.99257838  67619.2585383   89897.09056981\n",
            "  78895.21666785  50273.96475194  55485.10113496  77912.39951639\n",
            "  57269.27947805  65243.95627267  55769.0567215   56912.66213662\n",
            "  55371.38105783  51714.41906228  81756.13812347  57680.24322991\n",
            "  69033.93629783  53143.81640718  68585.2589026   58953.42061171\n",
            "  77250.76232338  55733.03151001  52606.26015204  56210.65583397\n",
            "  59284.93186686  54326.50520936  68132.43244758  57508.4293542\n",
            "  59842.69334434  56343.37253837  53082.20706196  59380.93918047\n",
            "  55707.22931902  55101.41145357  54092.8621418   54528.43071359\n",
            "  55734.29710321  53609.72411713  66714.73593692  68765.83260083\n",
            "  54108.02481875  59013.18037642  59821.32775409  59254.79500619\n",
            "  56006.11628798  77367.92157133  56929.00150825  53666.92876199\n",
            "  76916.48043362  57599.30636818  59746.88590238  62122.60858769\n",
            "  60666.12078671  51745.41095687  56528.08151214  55929.84498516\n",
            "  57890.95612517  58368.46761715  55543.8859355   55292.1353249\n",
            "  57442.96794253  78670.53336394  76704.81450642  51974.91185678\n",
            "  55730.46081653  64441.02360686  55200.95939155  52413.09447033\n",
            "  68592.15102849  71731.51436993  53711.75714428  54413.39616646\n",
            "  58217.33467487  57659.95707598  58306.43848417  54039.08977563\n",
            "  55939.10607402  55398.64368039  51334.63336189  57786.58369907\n",
            "  59181.05615133  57491.0862075   55234.91696527  81063.48636397\n",
            "  64856.28824711  57216.3735937   76710.41276173  58554.16479236\n",
            "  56014.11741421  54417.48127107  67339.15565014  53467.07978317\n",
            "  60005.15902204  53316.80876694  53497.38246518  58259.68486012\n",
            "  54556.70221398  82243.40453154  55103.29796773  68856.80866254\n",
            "  54815.15693474  79738.33042759  54497.28023063  59514.20147224\n",
            "  57978.18479872  54790.34528154  67215.1042763   53058.35404619\n",
            "  53931.58639605  62009.7940065   53916.45328312  61406.78613289\n",
            "  49500.63866341  77638.76833443  56220.69958971  61319.67592188\n",
            "  57572.92779658  59876.27626795  51200.95568372  55843.49168107\n",
            "  53238.76425945  52601.43566392  58604.67904184  56921.92322548\n",
            " 127299.1869683   57011.11919267  69481.23526789  68877.82275437\n",
            "  69352.3525138   58084.51203061  69243.45692479  68830.61858417\n",
            "  54880.1742126   78492.01351922  58311.37580427  58875.72808242\n",
            " 101256.71910762  58838.80959148  56842.16072207  59527.53469808\n",
            "  59877.94912621  56183.77654301  69785.86723208  54801.9053027\n",
            "  74944.65010953  52937.0821946   50723.83441547  57198.87385415\n",
            "  79146.08315801  54427.13024731  59057.97919468  54194.86560492\n",
            "  82406.0655946   67625.18576657  57162.26977357  60376.14388798\n",
            "  77092.23653586  59911.42610998  57850.86896305  67652.75427011\n",
            "  56880.57047016  57370.48778874  53947.46784961  67568.66344217\n",
            "  52917.59808525  57770.73180953  61514.03387189  57495.53425614\n",
            "  77983.38841303  78669.15493876  68923.66228364  60867.55246371\n",
            "  56912.46040612  56297.68277701  55261.79625623  51171.28997838\n",
            "  63289.0050362   76520.87929984  50266.35384944  57199.16595088\n",
            "  60186.61042609  57508.33030647  71359.33267992]\n"
          ]
        }
      ]
    },
    {
      "cell_type": "code",
      "source": [
        "# input a row of values for the independent variables and see how close it gets to predicting the already known target variable\n",
        "ml.predict([[61037, 0, 0, 0, 0, 0, 0]])  # the actual value for profit is 41754.42, if you refit the model, the prediction will (should) change"
      ],
      "metadata": {
        "id": "mrr7sttyrgAb",
        "colab": {
          "base_uri": "https://localhost:8080/"
        },
        "outputId": "e6c0e5a7-6b40-434a-9dd1-0470ca98c361"
      },
      "execution_count": 18,
      "outputs": [
        {
          "output_type": "execute_result",
          "data": {
            "text/plain": [
              "array([101256.71910762])"
            ]
          },
          "metadata": {},
          "execution_count": 18
        }
      ]
    },
    {
      "cell_type": "code",
      "source": [
        "# R-Square tells how much of the variation in the dependent variable can be explained by the independent variables used in the regression\n",
        "# This means, 10% of the variation can be explained\n",
        "from sklearn.metrics import r2_score\n",
        "r2_score(y_test,y_pred)"
      ],
      "metadata": {
        "id": "j2kD542Lsaz0",
        "colab": {
          "base_uri": "https://localhost:8080/"
        },
        "outputId": "daa9acea-afe6-4486-9777-b2a07d4fc292"
      },
      "execution_count": 19,
      "outputs": [
        {
          "output_type": "execute_result",
          "data": {
            "text/plain": [
              "0.319072553050206"
            ]
          },
          "metadata": {},
          "execution_count": 19
        }
      ]
    },
    {
      "cell_type": "markdown",
      "source": [
        "### **Plot Results**"
      ],
      "metadata": {
        "id": "qpG1kAUhZnBf"
      }
    },
    {
      "cell_type": "code",
      "source": [
        "# Plot the actual values and the predicte values (y)\n",
        "import matplotlib.pyplot as plt \n",
        "plt.figure(figsize=(15,10))\n",
        "plt.scatter(y_test, y_pred) \n",
        "plt.xlabel('Actual')\n",
        "plt.ylabel('Predicted')\n",
        "plt.title('Actual vs. Predicted')\n",
        "# This shows a moderate to low positive correlation"
      ],
      "metadata": {
        "id": "ISlO7MAHmF3x",
        "colab": {
          "base_uri": "https://localhost:8080/",
          "height": 639
        },
        "outputId": "71415e4f-15a3-4cfb-f7e6-d4c56d77a9e9"
      },
      "execution_count": 20,
      "outputs": [
        {
          "output_type": "execute_result",
          "data": {
            "text/plain": [
              "Text(0.5, 1.0, 'Actual vs. Predicted')"
            ]
          },
          "metadata": {},
          "execution_count": 20
        },
        {
          "output_type": "display_data",
          "data": {
            "text/plain": [
              "<Figure size 1080x720 with 1 Axes>"
            ],
            "image/png": "[encoded data removed]"
          },
          "metadata": {
            "needs_background": "light"
          }
        }
      ]
    },
    {
      "cell_type": "markdown",
      "source": [
        "Predicted Values"
      ],
      "metadata": {
        "id": "WlMZE_uSaQfe"
      }
    },
    {
      "cell_type": "code",
      "source": [
        "#Predicted Values of \"y\" from the test set\n",
        "pred_y_df=pd.DataFrame({'Actual Value':y_test, 'Predicted Value':y_pred, 'Difference':y_test - y_pred})\n",
        "pred_y_df[0:20]\n",
        "# Especially when the prediction is being made by a glorified adding machine"
      ],
      "metadata": {
        "id": "pbzsOGI8uiss",
        "colab": {
          "base_uri": "https://localhost:8080/",
          "height": 676
        },
        "outputId": "2f396418-ad88-4545-bf33-1fef3222c2b1"
      },
      "execution_count": 21,
      "outputs": [
        {
          "output_type": "execute_result",
          "data": {
            "text/plain": [
              "    Actual Value  Predicted Value    Difference\n",
              "0       65928.35     78571.975964 -12643.625964\n",
              "1       51222.42     56168.312541  -4945.892541\n",
              "2       46043.26     59805.085641 -13761.825641\n",
              "3       44410.41     55380.154665 -10969.744665\n",
              "4       60648.42     56829.727327   3818.692673\n",
              "5       53087.60     59049.910374  -5962.310374\n",
              "6       48616.99     57381.515190  -8764.525190\n",
              "7       73098.35     62747.304618  10351.045382\n",
              "8       50906.17     57912.709603  -7006.539603\n",
              "9       57906.71     80968.368135 -23061.658135\n",
              "10      72621.85     77623.619442  -5001.769442\n",
              "11     107540.34     80879.666474  26660.673526\n",
              "12      86009.28     58374.482037  27634.797963\n",
              "13      52486.95     60254.842472  -7767.892472\n",
              "14      68404.46     55618.629112  12785.830888\n",
              "15      82920.88     57703.395740  25217.484260\n",
              "16      46700.95     55950.133475  -9249.183475\n",
              "17      25067.45     56934.485645 -31867.035645\n",
              "18      59637.89     49990.009165   9647.880835\n",
              "19      69506.57     56935.018265  12571.551735"
            ],
            "text/html": [
              "\n",
              "  <div id=\"df-c39a03fc-5eb5-45e7-a21f-befd38a83bcb\">\n",
              "    <div class=\"colab-df-container\">\n",
              "      <div>\n",
              "<style scoped>\n",
              "    .dataframe tbody tr th:only-of-type {\n",
              "        vertical-align: middle;\n",
              "    }\n",
              "\n",
              "    .dataframe tbody tr th {\n",
              "        vertical-align: top;\n",
              "    }\n",
              "\n",
              "    .dataframe thead th {\n",
              "        text-align: right;\n",
              "    }\n",
              "</style>\n",
              "<table border=\"1\" class=\"dataframe\">\n",
              "  <thead>\n",
              "    <tr style=\"text-align: right;\">\n",
              "      <th></th>\n",
              "      <th>Actual Value</th>\n",
              "      <th>Predicted Value</th>\n",
              "      <th>Difference</th>\n",
              "    </tr>\n",
              "  </thead>\n",
              "  <tbody>\n",
              "    <tr>\n",
              "      <th>0</th>\n",
              "      <td>65928.35</td>\n",
              "      <td>78571.975964</td>\n",
              "      <td>-12643.625964</td>\n",
              "    </tr>\n",
              "    <tr>\n",
              "      <th>1</th>\n",
              "      <td>51222.42</td>\n",
              "      <td>56168.312541</td>\n",
              "      <td>-4945.892541</td>\n",
              "    </tr>\n",
              "    <tr>\n",
              "      <th>2</th>\n",
              "      <td>46043.26</td>\n",
              "      <td>59805.085641</td>\n",
              "      <td>-13761.825641</td>\n",
              "    </tr>\n",
              "    <tr>\n",
              "      <th>3</th>\n",
              "      <td>44410.41</td>\n",
              "      <td>55380.154665</td>\n",
              "      <td>-10969.744665</td>\n",
              "    </tr>\n",
              "    <tr>\n",
              "      <th>4</th>\n",
              "      <td>60648.42</td>\n",
              "      <td>56829.727327</td>\n",
              "      <td>3818.692673</td>\n",
              "    </tr>\n",
              "    <tr>\n",
              "      <th>5</th>\n",
              "      <td>53087.60</td>\n",
              "      <td>59049.910374</td>\n",
              "      <td>-5962.310374</td>\n",
              "    </tr>\n",
              "    <tr>\n",
              "      <th>6</th>\n",
              "      <td>48616.99</td>\n",
              "      <td>57381.515190</td>\n",
              "      <td>-8764.525190</td>\n",
              "    </tr>\n",
              "    <tr>\n",
              "      <th>7</th>\n",
              "      <td>73098.35</td>\n",
              "      <td>62747.304618</td>\n",
              "      <td>10351.045382</td>\n",
              "    </tr>\n",
              "    <tr>\n",
              "      <th>8</th>\n",
              "      <td>50906.17</td>\n",
              "      <td>57912.709603</td>\n",
              "      <td>-7006.539603</td>\n",
              "    </tr>\n",
              "    <tr>\n",
              "      <th>9</th>\n",
              "      <td>57906.71</td>\n",
              "      <td>80968.368135</td>\n",
              "      <td>-23061.658135</td>\n",
              "    </tr>\n",
              "    <tr>\n",
              "      <th>10</th>\n",
              "      <td>72621.85</td>\n",
              "      <td>77623.619442</td>\n",
              "      <td>-5001.769442</td>\n",
              "    </tr>\n",
              "    <tr>\n",
              "      <th>11</th>\n",
              "      <td>107540.34</td>\n",
              "      <td>80879.666474</td>\n",
              "      <td>26660.673526</td>\n",
              "    </tr>\n",
              "    <tr>\n",
              "      <th>12</th>\n",
              "      <td>86009.28</td>\n",
              "      <td>58374.482037</td>\n",
              "      <td>27634.797963</td>\n",
              "    </tr>\n",
              "    <tr>\n",
              "      <th>13</th>\n",
              "      <td>52486.95</td>\n",
              "      <td>60254.842472</td>\n",
              "      <td>-7767.892472</td>\n",
              "    </tr>\n",
              "    <tr>\n",
              "      <th>14</th>\n",
              "      <td>68404.46</td>\n",
              "      <td>55618.629112</td>\n",
              "      <td>12785.830888</td>\n",
              "    </tr>\n",
              "    <tr>\n",
              "      <th>15</th>\n",
              "      <td>82920.88</td>\n",
              "      <td>57703.395740</td>\n",
              "      <td>25217.484260</td>\n",
              "    </tr>\n",
              "    <tr>\n",
              "      <th>16</th>\n",
              "      <td>46700.95</td>\n",
              "      <td>55950.133475</td>\n",
              "      <td>-9249.183475</td>\n",
              "    </tr>\n",
              "    <tr>\n",
              "      <th>17</th>\n",
              "      <td>25067.45</td>\n",
              "      <td>56934.485645</td>\n",
              "      <td>-31867.035645</td>\n",
              "    </tr>\n",
              "    <tr>\n",
              "      <th>18</th>\n",
              "      <td>59637.89</td>\n",
              "      <td>49990.009165</td>\n",
              "      <td>9647.880835</td>\n",
              "    </tr>\n",
              "    <tr>\n",
              "      <th>19</th>\n",
              "      <td>69506.57</td>\n",
              "      <td>56935.018265</td>\n",
              "      <td>12571.551735</td>\n",
              "    </tr>\n",
              "  </tbody>\n",
              "</table>\n",
              "</div>\n",
              "      <button class=\"colab-df-convert\" onclick=\"convertToInteractive('df-c39a03fc-5eb5-45e7-a21f-befd38a83bcb')\"\n",
              "              title=\"Convert this dataframe to an interactive table.\"\n",
              "              style=\"display:none;\">\n",
              "        \n",
              "  <svg xmlns=\"http://www.w3.org/2000/svg\" height=\"24px\"viewBox=\"0 0 24 24\"\n",
              "       width=\"24px\">\n",
              "    <path d=\"M0 0h24v24H0V0z\" fill=\"none\"/>\n",
              "    <path d=\"M18.56 5.44l.94 2.06.94-2.06 2.06-.94-2.06-.94-.94-2.06-.94 2.06-2.06.94zm-11 1L8.5 8.5l.94-2.06 2.06-.94-2.06-.94L8.5 2.5l-.94 2.06-2.06.94zm10 10l.94 2.06.94-2.06 2.06-.94-2.06-.94-.94-2.06-.94 2.06-2.06.94z\"/><path d=\"M17.41 7.96l-1.37-1.37c-.4-.4-.92-.59-1.43-.59-.52 0-1.04.2-1.43.59L10.3 9.45l-7.72 7.72c-.78.78-.78 2.05 0 2.83L4 21.41c.39.39.9.59 1.41.59.51 0 1.02-.2 1.41-.59l7.78-7.78 2.81-2.81c.8-.78.8-2.07 0-2.86zM5.41 20L4 18.59l7.72-7.72 1.47 1.35L5.41 20z\"/>\n",
              "  </svg>\n",
              "      </button>\n",
              "      \n",
              "  <style>\n",
              "    .colab-df-container {\n",
              "      display:flex;\n",
              "      flex-wrap:wrap;\n",
              "      gap: 12px;\n",
              "    }\n",
              "\n",
              "    .colab-df-convert {\n",
              "      background-color: #E8F0FE;\n",
              "      border: none;\n",
              "      border-radius: 50%;\n",
              "      cursor: pointer;\n",
              "      display: none;\n",
              "      fill: #1967D2;\n",
              "      height: 32px;\n",
              "      padding: 0 0 0 0;\n",
              "      width: 32px;\n",
              "    }\n",
              "\n",
              "    .colab-df-convert:hover {\n",
              "      background-color: #E2EBFA;\n",
              "      box-shadow: 0px 1px 2px rgba(60, 64, 67, 0.3), 0px 1px 3px 1px rgba(60, 64, 67, 0.15);\n",
              "      fill: #174EA6;\n",
              "    }\n",
              "\n",
              "    [theme=dark] .colab-df-convert {\n",
              "      background-color: #3B4455;\n",
              "      fill: #D2E3FC;\n",
              "    }\n",
              "\n",
              "    [theme=dark] .colab-df-convert:hover {\n",
              "      background-color: #434B5C;\n",
              "      box-shadow: 0px 1px 3px 1px rgba(0, 0, 0, 0.15);\n",
              "      filter: drop-shadow(0px 1px 2px rgba(0, 0, 0, 0.3));\n",
              "      fill: #FFFFFF;\n",
              "    }\n",
              "  </style>\n",
              "\n",
              "      <script>\n",
              "        const buttonEl =\n",
              "          document.querySelector('#df-c39a03fc-5eb5-45e7-a21f-befd38a83bcb button.colab-df-convert');\n",
              "        buttonEl.style.display =\n",
              "          google.colab.kernel.accessAllowed ? 'block' : 'none';\n",
              "\n",
              "        async function convertToInteractive(key) {\n",
              "          const element = document.querySelector('#df-c39a03fc-5eb5-45e7-a21f-befd38a83bcb');\n",
              "          const dataTable =\n",
              "            await google.colab.kernel.invokeFunction('convertToInteractive',\n",
              "                                                     [key], {});\n",
              "          if (!dataTable) return;\n",
              "\n",
              "          const docLinkHtml = 'Like what you see? Visit the ' +\n",
              "            '<a target=\"_blank\" href=https://colab.research.google.com/notebooks/data_table.ipynb>data table notebook</a>'\n",
              "            + ' to learn more about interactive tables.';\n",
              "          element.innerHTML = '';\n",
              "          dataTable['output_type'] = 'display_data';\n",
              "          await google.colab.output.renderOutput(dataTable, element);\n",
              "          const docLink = document.createElement('div');\n",
              "          docLink.innerHTML = docLinkHtml;\n",
              "          element.appendChild(docLink);\n",
              "        }\n",
              "      </script>\n",
              "    </div>\n",
              "  </div>\n",
              "  "
            ]
          },
          "metadata": {},
          "execution_count": 21
        }
      ]
    }
  ]
}