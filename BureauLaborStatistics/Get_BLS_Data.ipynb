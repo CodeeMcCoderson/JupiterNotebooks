{
 "cells": [
  {
   "cell_type": "markdown",
   "id": "b79a5f3b",
   "metadata": {},
   "source": [
    "Gross Domestic Product (Quarterly)<br>\n",
    "Unemployment Rate (Monthly)<br>\n",
    "Consumer Price Index (Monthly)<br>\n",
    "Federal Funds Rate (Daily)<br>\n",
    "Stock Market Performance<br>\n",
    "Consumer Confidence<br>"
   ]
  },
  {
   "cell_type": "code",
   "execution_count": 31,
   "id": "57c2c084",
   "metadata": {},
   "outputs": [],
   "source": [
    "import pandas as pd\n",
    "import numpy as np\n",
    "import datetime\n",
    "from Modules import c_bls_data\n",
    "import os"
   ]
  },
  {
   "cell_type": "markdown",
   "id": "d063d4ab",
   "metadata": {},
   "source": [
    "Get API Key"
   ]
  },
  {
   "cell_type": "code",
   "execution_count": 2,
   "id": "b1f2dfd0",
   "metadata": {},
   "outputs": [],
   "source": [
    "df = pd.read_csv(\"FILE WITH API KEY\")\n",
    "df = df[df['Site']=='BLS']\n",
    "APIkey = df._get_value(1,'Key') "
   ]
  },
  {
   "cell_type": "code",
   "execution_count": 3,
   "id": "7077a390",
   "metadata": {},
   "outputs": [],
   "source": [
    "# Parameters\n",
    "CPIPath = 'FILE PATH'\n",
    "UnemploymentPath = 'FILE PATH'\n",
    "StartYear = 2010\n",
    "EndYear = 2023\n",
    "\n",
    "#- Serial IDs\n",
    "Unemployment = 'LNS14000000' # Unemployment unadjusted, all occupations, races, sexes\n",
    "CPI = 'CUSR0000SA0' # All items in U.S. city average, all urban consumers, seasonally adjusted"
   ]
  },
  {
   "cell_type": "code",
   "execution_count": 4,
   "id": "93031a9d",
   "metadata": {},
   "outputs": [
    {
     "data": {
      "text/plain": [
       "<Modules.c_bls_data.c_bls_data at 0x176a0ebbc40>"
      ]
     },
     "execution_count": 4,
     "metadata": {},
     "output_type": "execute_result"
    }
   ],
   "source": [
    "c_bls_data.c_bls_data(APIkey, CPIPath, [CPI], StartYear, EndYear)\n",
    "c_bls_data.c_bls_data(APIkey, UnemploymentPath, [Unemployment], StartYear, EndYear)"
   ]
  },
  {
   "cell_type": "code",
   "execution_count": 6,
   "id": "72d944de",
   "metadata": {},
   "outputs": [
    {
     "data": {
      "text/html": [
       "<div>\n",
       "<style scoped>\n",
       "    .dataframe tbody tr th:only-of-type {\n",
       "        vertical-align: middle;\n",
       "    }\n",
       "\n",
       "    .dataframe tbody tr th {\n",
       "        vertical-align: top;\n",
       "    }\n",
       "\n",
       "    .dataframe thead th {\n",
       "        text-align: right;\n",
       "    }\n",
       "</style>\n",
       "<table border=\"1\" class=\"dataframe\">\n",
       "  <thead>\n",
       "    <tr style=\"text-align: right;\">\n",
       "      <th></th>\n",
       "      <th>Series ID</th>\n",
       "      <th>Month</th>\n",
       "      <th>Value</th>\n",
       "      <th>Annual Percent Change</th>\n",
       "    </tr>\n",
       "  </thead>\n",
       "  <tbody>\n",
       "    <tr>\n",
       "      <th>0</th>\n",
       "      <td>LNS14000000</td>\n",
       "      <td>December 1, 2022</td>\n",
       "      <td>3.5</td>\n",
       "      <td>-10.3</td>\n",
       "    </tr>\n",
       "    <tr>\n",
       "      <th>1</th>\n",
       "      <td>LNS14000000</td>\n",
       "      <td>November 1, 2022</td>\n",
       "      <td>3.6</td>\n",
       "      <td>-14.3</td>\n",
       "    </tr>\n",
       "    <tr>\n",
       "      <th>2</th>\n",
       "      <td>LNS14000000</td>\n",
       "      <td>October 1, 2022</td>\n",
       "      <td>3.7</td>\n",
       "      <td>-17.8</td>\n",
       "    </tr>\n",
       "    <tr>\n",
       "      <th>3</th>\n",
       "      <td>LNS14000000</td>\n",
       "      <td>September 1, 2022</td>\n",
       "      <td>3.5</td>\n",
       "      <td>-27.1</td>\n",
       "    </tr>\n",
       "    <tr>\n",
       "      <th>4</th>\n",
       "      <td>LNS14000000</td>\n",
       "      <td>August 1, 2022</td>\n",
       "      <td>3.7</td>\n",
       "      <td>-28.8</td>\n",
       "    </tr>\n",
       "  </tbody>\n",
       "</table>\n",
       "</div>"
      ],
      "text/plain": [
       "     Series ID              Month  Value  Annual Percent Change\n",
       "0  LNS14000000   December 1, 2022    3.5                  -10.3\n",
       "1  LNS14000000   November 1, 2022    3.6                  -14.3\n",
       "2  LNS14000000    October 1, 2022    3.7                  -17.8\n",
       "3  LNS14000000  September 1, 2022    3.5                  -27.1\n",
       "4  LNS14000000     August 1, 2022    3.7                  -28.8"
      ]
     },
     "execution_count": 6,
     "metadata": {},
     "output_type": "execute_result"
    }
   ],
   "source": [
    "unemployment = pd.read_csv('FILE PATH WRITTEN TO')\n",
    "unemployment.head()"
   ]
  },
  {
   "cell_type": "code",
   "execution_count": 7,
   "id": "636f5c41",
   "metadata": {},
   "outputs": [],
   "source": [
    "unemployment.rename(columns={'Value': 'Unemployment_Rate', 'Annual Percent Change': 'Unemployment_12mo_%Change'}, inplace=True)"
   ]
  },
  {
   "cell_type": "code",
   "execution_count": 8,
   "id": "289e9054",
   "metadata": {},
   "outputs": [
    {
     "data": {
      "text/html": [
       "<div>\n",
       "<style scoped>\n",
       "    .dataframe tbody tr th:only-of-type {\n",
       "        vertical-align: middle;\n",
       "    }\n",
       "\n",
       "    .dataframe tbody tr th {\n",
       "        vertical-align: top;\n",
       "    }\n",
       "\n",
       "    .dataframe thead th {\n",
       "        text-align: right;\n",
       "    }\n",
       "</style>\n",
       "<table border=\"1\" class=\"dataframe\">\n",
       "  <thead>\n",
       "    <tr style=\"text-align: right;\">\n",
       "      <th></th>\n",
       "      <th>Series ID</th>\n",
       "      <th>Month</th>\n",
       "      <th>Value</th>\n",
       "      <th>Annual Percent Change</th>\n",
       "    </tr>\n",
       "  </thead>\n",
       "  <tbody>\n",
       "    <tr>\n",
       "      <th>0</th>\n",
       "      <td>CUSR0000SA0</td>\n",
       "      <td>November 1, 2022</td>\n",
       "      <td>298.349</td>\n",
       "      <td>7.1</td>\n",
       "    </tr>\n",
       "    <tr>\n",
       "      <th>1</th>\n",
       "      <td>CUSR0000SA0</td>\n",
       "      <td>October 1, 2022</td>\n",
       "      <td>298.062</td>\n",
       "      <td>7.8</td>\n",
       "    </tr>\n",
       "    <tr>\n",
       "      <th>2</th>\n",
       "      <td>CUSR0000SA0</td>\n",
       "      <td>September 1, 2022</td>\n",
       "      <td>296.761</td>\n",
       "      <td>8.2</td>\n",
       "    </tr>\n",
       "    <tr>\n",
       "      <th>3</th>\n",
       "      <td>CUSR0000SA0</td>\n",
       "      <td>August 1, 2022</td>\n",
       "      <td>295.620</td>\n",
       "      <td>8.2</td>\n",
       "    </tr>\n",
       "    <tr>\n",
       "      <th>4</th>\n",
       "      <td>CUSR0000SA0</td>\n",
       "      <td>July 1, 2022</td>\n",
       "      <td>295.271</td>\n",
       "      <td>8.5</td>\n",
       "    </tr>\n",
       "  </tbody>\n",
       "</table>\n",
       "</div>"
      ],
      "text/plain": [
       "     Series ID              Month    Value  Annual Percent Change\n",
       "0  CUSR0000SA0   November 1, 2022  298.349                    7.1\n",
       "1  CUSR0000SA0    October 1, 2022  298.062                    7.8\n",
       "2  CUSR0000SA0  September 1, 2022  296.761                    8.2\n",
       "3  CUSR0000SA0     August 1, 2022  295.620                    8.2\n",
       "4  CUSR0000SA0       July 1, 2022  295.271                    8.5"
      ]
     },
     "execution_count": 8,
     "metadata": {},
     "output_type": "execute_result"
    }
   ],
   "source": [
    "cpi = pd.read_csv('FILE PATH WRITTEN TO')\n",
    "cpi.head()"
   ]
  },
  {
   "cell_type": "code",
   "execution_count": 9,
   "id": "acac4272",
   "metadata": {},
   "outputs": [],
   "source": [
    "cpi.rename(columns={'Value': 'CPI', 'Annual Percent Change': 'CPI_12mo_%Change'}, inplace=True)"
   ]
  },
  {
   "cell_type": "code",
   "execution_count": 10,
   "id": "a2f93300",
   "metadata": {},
   "outputs": [],
   "source": [
    "unemployment['Month_Year'] = pd.to_datetime(unemployment['Month']).dt.to_period('M')\n",
    "cpi['Month_Year'] = pd.to_datetime(cpi['Month']).dt.to_period('M')"
   ]
  },
  {
   "cell_type": "code",
   "execution_count": 12,
   "id": "7cfa83d6",
   "metadata": {},
   "outputs": [],
   "source": [
    "unemployment.drop(['Series ID', 'Month'], axis= 1, inplace= True)"
   ]
  },
  {
   "cell_type": "code",
   "execution_count": 15,
   "id": "9b9ea45e",
   "metadata": {},
   "outputs": [],
   "source": [
    "cols = list(unemployment.columns.values) #Make a list of all of the columns in the df\n",
    "cols.pop(cols.index('Month_Year')) \n",
    "cols.pop(cols.index('Unemployment_Rate'))\n",
    "cols.pop(cols.index('Unemployment_12mo_%Change')) \n",
    "unemployment = unemployment[cols+['Month_Year','Unemployment_Rate', 'Unemployment_12mo_%Change']]"
   ]
  },
  {
   "cell_type": "code",
   "execution_count": 20,
   "id": "34047e2a",
   "metadata": {},
   "outputs": [],
   "source": [
    "unemployment = unemployment.sort_values(by='Month_Year')"
   ]
  },
  {
   "cell_type": "code",
   "execution_count": 21,
   "id": "95a1f813",
   "metadata": {},
   "outputs": [
    {
     "data": {
      "text/html": [
       "<div>\n",
       "<style scoped>\n",
       "    .dataframe tbody tr th:only-of-type {\n",
       "        vertical-align: middle;\n",
       "    }\n",
       "\n",
       "    .dataframe tbody tr th {\n",
       "        vertical-align: top;\n",
       "    }\n",
       "\n",
       "    .dataframe thead th {\n",
       "        text-align: right;\n",
       "    }\n",
       "</style>\n",
       "<table border=\"1\" class=\"dataframe\">\n",
       "  <thead>\n",
       "    <tr style=\"text-align: right;\">\n",
       "      <th></th>\n",
       "      <th>Month_Year</th>\n",
       "      <th>Unemployment_Rate</th>\n",
       "      <th>Unemployment_12mo_%Change</th>\n",
       "    </tr>\n",
       "  </thead>\n",
       "  <tbody>\n",
       "    <tr>\n",
       "      <th>155</th>\n",
       "      <td>2010-01</td>\n",
       "      <td>9.8</td>\n",
       "      <td>25.6</td>\n",
       "    </tr>\n",
       "    <tr>\n",
       "      <th>154</th>\n",
       "      <td>2010-02</td>\n",
       "      <td>9.8</td>\n",
       "      <td>18.1</td>\n",
       "    </tr>\n",
       "    <tr>\n",
       "      <th>153</th>\n",
       "      <td>2010-03</td>\n",
       "      <td>9.9</td>\n",
       "      <td>13.8</td>\n",
       "    </tr>\n",
       "    <tr>\n",
       "      <th>152</th>\n",
       "      <td>2010-04</td>\n",
       "      <td>9.9</td>\n",
       "      <td>10.0</td>\n",
       "    </tr>\n",
       "    <tr>\n",
       "      <th>151</th>\n",
       "      <td>2010-05</td>\n",
       "      <td>9.6</td>\n",
       "      <td>2.1</td>\n",
       "    </tr>\n",
       "  </tbody>\n",
       "</table>\n",
       "</div>"
      ],
      "text/plain": [
       "    Month_Year  Unemployment_Rate  Unemployment_12mo_%Change\n",
       "155    2010-01                9.8                       25.6\n",
       "154    2010-02                9.8                       18.1\n",
       "153    2010-03                9.9                       13.8\n",
       "152    2010-04                9.9                       10.0\n",
       "151    2010-05                9.6                        2.1"
      ]
     },
     "execution_count": 21,
     "metadata": {},
     "output_type": "execute_result"
    }
   ],
   "source": [
    "unemployment.head()"
   ]
  },
  {
   "cell_type": "code",
   "execution_count": 23,
   "id": "901f150d",
   "metadata": {},
   "outputs": [],
   "source": [
    "cpi.drop(['Series ID', 'Month'], axis= 1, inplace= True)"
   ]
  },
  {
   "cell_type": "code",
   "execution_count": 25,
   "id": "a7d2d4f5",
   "metadata": {},
   "outputs": [],
   "source": [
    "cols = list(cpi.columns.values) #Make a list of all of the columns in the df\n",
    "cols.pop(cols.index('Month_Year')) \n",
    "cols.pop(cols.index('CPI'))\n",
    "cols.pop(cols.index('CPI_12mo_%Change')) \n",
    "cpi = cpi[cols+['Month_Year','CPI', 'CPI_12mo_%Change']]"
   ]
  },
  {
   "cell_type": "code",
   "execution_count": 27,
   "id": "a0d28d52",
   "metadata": {},
   "outputs": [],
   "source": [
    "cpi = cpi.sort_values(by='Month_Year')"
   ]
  },
  {
   "cell_type": "code",
   "execution_count": 28,
   "id": "32c533df",
   "metadata": {},
   "outputs": [
    {
     "data": {
      "text/html": [
       "<div>\n",
       "<style scoped>\n",
       "    .dataframe tbody tr th:only-of-type {\n",
       "        vertical-align: middle;\n",
       "    }\n",
       "\n",
       "    .dataframe tbody tr th {\n",
       "        vertical-align: top;\n",
       "    }\n",
       "\n",
       "    .dataframe thead th {\n",
       "        text-align: right;\n",
       "    }\n",
       "</style>\n",
       "<table border=\"1\" class=\"dataframe\">\n",
       "  <thead>\n",
       "    <tr style=\"text-align: right;\">\n",
       "      <th></th>\n",
       "      <th>Month_Year</th>\n",
       "      <th>CPI</th>\n",
       "      <th>CPI_12mo_%Change</th>\n",
       "    </tr>\n",
       "  </thead>\n",
       "  <tbody>\n",
       "    <tr>\n",
       "      <th>154</th>\n",
       "      <td>2010-01</td>\n",
       "      <td>217.488</td>\n",
       "      <td>2.6</td>\n",
       "    </tr>\n",
       "    <tr>\n",
       "      <th>153</th>\n",
       "      <td>2010-02</td>\n",
       "      <td>217.281</td>\n",
       "      <td>2.2</td>\n",
       "    </tr>\n",
       "    <tr>\n",
       "      <th>152</th>\n",
       "      <td>2010-03</td>\n",
       "      <td>217.353</td>\n",
       "      <td>2.3</td>\n",
       "    </tr>\n",
       "    <tr>\n",
       "      <th>151</th>\n",
       "      <td>2010-04</td>\n",
       "      <td>217.403</td>\n",
       "      <td>2.2</td>\n",
       "    </tr>\n",
       "    <tr>\n",
       "      <th>150</th>\n",
       "      <td>2010-05</td>\n",
       "      <td>217.290</td>\n",
       "      <td>2.0</td>\n",
       "    </tr>\n",
       "  </tbody>\n",
       "</table>\n",
       "</div>"
      ],
      "text/plain": [
       "    Month_Year      CPI  CPI_12mo_%Change\n",
       "154    2010-01  217.488               2.6\n",
       "153    2010-02  217.281               2.2\n",
       "152    2010-03  217.353               2.3\n",
       "151    2010-04  217.403               2.2\n",
       "150    2010-05  217.290               2.0"
      ]
     },
     "execution_count": 28,
     "metadata": {},
     "output_type": "execute_result"
    }
   ],
   "source": [
    "cpi.head()"
   ]
  },
  {
   "cell_type": "code",
   "execution_count": 29,
   "id": "c6281596",
   "metadata": {},
   "outputs": [],
   "source": [
    "excelfilename = 'Unemployment.xlsx'\n",
    "exportpath = 'NEW FILE PATH'\n",
    "unemployment.to_excel(exportpath+excelfilename)"
   ]
  },
  {
   "cell_type": "code",
   "execution_count": 30,
   "id": "8cbc7ef0",
   "metadata": {},
   "outputs": [],
   "source": [
    "excelfilename = 'CPI.xlsx'\n",
    "exportpath = 'NEW FILE PATH'\n",
    "cpi.to_excel(exportpath+excelfilename)"
   ]
  },
  {
   "cell_type": "code",
   "execution_count": 32,
   "id": "81657b0d",
   "metadata": {},
   "outputs": [],
   "source": [
    "os.remove(\"OLD FILE PATH\")\n",
    "os.remove(\"OLD FILE PATH\")"
   ]
  },
  {
   "cell_type": "code",
   "execution_count": null,
   "id": "cf2f6940",
   "metadata": {},
   "outputs": [],
   "source": []
  }
 ],
 "metadata": {
  "kernelspec": {
   "display_name": "Python 3 (ipykernel)",
   "language": "python",
   "name": "python3"
  },
  "language_info": {
   "codemirror_mode": {
    "name": "ipython",
    "version": 3
   },
   "file_extension": ".py",
   "mimetype": "text/x-python",
   "name": "python",
   "nbconvert_exporter": "python",
   "pygments_lexer": "ipython3",
   "version": "3.9.12"
  }
 },
 "nbformat": 4,
 "nbformat_minor": 5
}
