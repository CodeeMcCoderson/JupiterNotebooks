{
 "cells": [
  {
   "cell_type": "code",
   "execution_count": 1,
   "id": "6d5fb92f",
   "metadata": {},
   "outputs": [],
   "source": [
    "import pandas as pd"
   ]
  },
  {
   "cell_type": "markdown",
   "id": "9dbe4d99",
   "metadata": {},
   "source": [
    "axis = 0 is horizontal axis <br>\n",
    "axis = 1 is vertical axis"
   ]
  },
  {
   "cell_type": "code",
   "execution_count": 2,
   "id": "cfe42aa0",
   "metadata": {},
   "outputs": [],
   "source": [
    "cpi = pd.read_excel('FILE PATH')\n",
    "unemployment = pd.read_excel('FILE PATH')\n",
    "fed_rate = pd.read_excel('FILE PATH')\n",
    "dow = pd.read_excel('FILE PATH')\n",
    "sp500 = pd.read_excel('FILE PATH')"
   ]
  },
  {
   "cell_type": "code",
   "execution_count": 18,
   "id": "6bf79fc8",
   "metadata": {},
   "outputs": [],
   "source": [
    "cpi.drop(['Unnamed: 0'], axis= 1, inplace= True)\n",
    "unemployment.drop(['Unnamed: 0'], axis= 1, inplace= True)\n",
    "fed_rate.drop(['Unnamed: 0'], axis= 1, inplace= True)\n",
    "dow.drop(['Unnamed: 0'], axis= 1, inplace= True)\n",
    "sp500.drop(['Unnamed: 0'], axis= 1, inplace= True)"
   ]
  },
  {
   "cell_type": "code",
   "execution_count": 20,
   "id": "43610821",
   "metadata": {},
   "outputs": [],
   "source": [
    "merge_1 = pd.merge(cpi, unemployment, left_on = ['Month_Year'], right_on = ['Month_Year'])"
   ]
  },
  {
   "cell_type": "code",
   "execution_count": 22,
   "id": "a7bf8e4a",
   "metadata": {},
   "outputs": [],
   "source": [
    "merge_2 = pd.merge(merge_1, fed_rate, left_on = ['Month_Year'], right_on = ['Month_Year'])"
   ]
  },
  {
   "cell_type": "code",
   "execution_count": 24,
   "id": "a7247a1e",
   "metadata": {},
   "outputs": [],
   "source": [
    "merge_3 = pd.merge(merge_2, dow, left_on = ['Month_Year'], right_on = ['Month_Year'])"
   ]
  },
  {
   "cell_type": "code",
   "execution_count": 26,
   "id": "7880244b",
   "metadata": {},
   "outputs": [],
   "source": [
    "final = pd.merge(merge_3, sp500, left_on = ['Month_Year'], right_on = ['Month_Year'])"
   ]
  },
  {
   "cell_type": "markdown",
   "id": "118499a2",
   "metadata": {},
   "source": [
    "<b> Complete Dataset <b>"
   ]
  },
  {
   "cell_type": "code",
   "execution_count": 28,
   "id": "a85b6d1a",
   "metadata": {},
   "outputs": [],
   "source": [
    "final.drop(['Start_Month_x', 'Start_Month_y', 'End_Month_x', 'End_Month_y'], axis= 1, inplace= True)"
   ]
  },
  {
   "cell_type": "code",
   "execution_count": 30,
   "id": "a3397c0d",
   "metadata": {},
   "outputs": [],
   "source": [
    "excelfilename = 'Combined_Data.xlsx'\n",
    "exportpath = 'FILE PATH'\n",
    "final.to_excel(exportpath+excelfilename)"
   ]
  }
 ],
 "metadata": {
  "kernelspec": {
   "display_name": "Python 3 (ipykernel)",
   "language": "python",
   "name": "python3"
  },
  "language_info": {
   "codemirror_mode": {
    "name": "ipython",
    "version": 3
   },
   "file_extension": ".py",
   "mimetype": "text/x-python",
   "name": "python",
   "nbconvert_exporter": "python",
   "pygments_lexer": "ipython3",
   "version": "3.9.12"
  }
 },
 "nbformat": 4,
 "nbformat_minor": 5
}
