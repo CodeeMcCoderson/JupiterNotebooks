{
 "cells": [
  {
   "cell_type": "markdown",
   "id": "813be08f",
   "metadata": {},
   "source": [
    "## Hypotheses"
   ]
  },
  {
   "cell_type": "markdown",
   "id": "978c676e",
   "metadata": {},
   "source": [
    "Null Hypothesis (H0): There is no difference in the conversion rates between the control group and the test group. This means that any observed difference is due to chance and not due to the change that's being tested.\n",
    "\n",
    "Alternative Hypothesis (H1): There is a difference in the conversion rates between the control group and the test group. This means that the observed difference is statistically significant, and not due to chance alone. This difference could be either positive or negative depending on the context of the test."
   ]
  },
  {
   "cell_type": "code",
   "execution_count": 87,
   "id": "11853116",
   "metadata": {},
   "outputs": [],
   "source": [
    "import math\n",
    "from scipy.stats import norm"
   ]
  },
  {
   "cell_type": "code",
   "execution_count": 88,
   "id": "d9e3fb20",
   "metadata": {},
   "outputs": [],
   "source": [
    "# Parameters\n",
    "\n",
    "total_test = 89425\n",
    "conversions_test = 87482\n",
    "\n",
    "total_control = 9659\n",
    "conversions_control = 9410\n",
    "\n",
    "confidence_level = 0.99\n",
    "one_tailed = True"
   ]
  },
  {
   "cell_type": "markdown",
   "id": "aa32b78f",
   "metadata": {},
   "source": [
    "## When to use a one tailed and two tailed test"
   ]
  },
  {
   "cell_type": "markdown",
   "id": "87d89793",
   "metadata": {},
   "source": [
    "A one-tailed test or a two-tailed test refers to the tail ends of the probability distribution where we look for significant results.\n",
    "\n",
    "One-tailed test: You would use a one-tailed test when you want to determine if a parameter of your sample data is either greater than or less than a certain value, but not both. That is, when you have a specific direction in mind. For instance, you might want to test whether a new web page design leads to more clicks than the old design (i.e., \"greater than\"), or if a new medicine lowers blood pressure more than the standard medicine (i.e., \"less than\"). The critical region (where we would reject the null hypothesis) is only in one tail of the distribution.\n",
    "\n",
    "Two-tailed test: On the other hand, a two-tailed test is used when you're interested in determining if a parameter is simply different from a certain value, without concern for which direction the difference falls. You would use a two-tailed test if you're testing whether a new drug has a different effect (it could be higher or lower) from the standard drug. The critical region is in both tails of the distribution.\n",
    "\n",
    "When calculating a Z-score for a hypothesis test, the decision of whether to use a one-tailed or two-tailed test depends on the nature of your hypothesis or the question you are trying to answer with your test. If you have a specific direction in mind, use a one-tailed test. If you are just looking for a difference without a specific direction, use a two-tailed test."
   ]
  },
  {
   "cell_type": "code",
   "execution_count": 89,
   "id": "b8dcc808",
   "metadata": {},
   "outputs": [],
   "source": [
    "# Conversions\n",
    "\n",
    "p1 = conversions_test/total_test\n",
    "p2 = conversions_control/total_control\n",
    "n1 = total_test\n",
    "n2 = total_control\n",
    "p = ((p1 * n1) + (p2 * n2)) / (n1 + n2)"
   ]
  },
  {
   "cell_type": "markdown",
   "id": "4acc7a35",
   "metadata": {},
   "source": [
    "p1 is the conversion rate of group 1 (e.g. test group), \n",
    "<br> p2 is the conversion rate of group 2 (e.g. control group),\n",
    "<br> n1 is the size of group 1,\n",
    "<br> n2 is the size of group 2,\n",
    "<br> p is the pooled probability of the two groups, calculated as ((p1 * n1) + (p2 * n2)) / (n1 + n2)."
   ]
  },
  {
   "cell_type": "markdown",
   "id": "b21e6c24",
   "metadata": {},
   "source": [
    "## Function 1"
   ]
  },
  {
   "cell_type": "markdown",
   "id": "f064cd8c",
   "metadata": {},
   "source": [
    "This function calculates the z-score for an A/B test, given the total population and number of conversions for both the test and control group, the desired confidence level, and whether a one-tailed or two-tailed test is desired. It then returns the calculated z-score and the critical z-score for the desired confidence level."
   ]
  },
  {
   "cell_type": "code",
   "execution_count": 90,
   "id": "b5b9d739",
   "metadata": {},
   "outputs": [],
   "source": [
    "def calculate_z_score(p1, p2, n1, n2, p, confidence_level, one_tailed):\n",
    "    \n",
    "    z_score = (p1 - p2) / math.sqrt((p * (1 - p) * ((1/n1) + (1/n2))))\n",
    "\n",
    "    # Calculate the critical z-score for the desired confidence level\n",
    "    if one_tailed == True:\n",
    "        critical_z_score = norm.ppf(1 - (1 - confidence_level))\n",
    "    else:\n",
    "        critical_z_score = norm.ppf(1 - (1 - confidence_level) / 2)\n",
    "\n",
    "    return z_score, critical_z_score\n",
    "\n",
    "    # Calculate the p-value\n",
    "    if one_tailed == True:\n",
    "        p_value = 1 - norm.cdf(abs(z_score))\n",
    "    else:\n",
    "        p_value = 2 * (1 - norm.cdf(abs(z_score)))\n",
    "\n",
    "    return p_value"
   ]
  },
  {
   "cell_type": "code",
   "execution_count": 91,
   "id": "beffe3ac",
   "metadata": {},
   "outputs": [
    {
     "name": "stdout",
     "output_type": "stream",
     "text": [
      "Z Score: 2.5717815178854773, Critical Z Score: 2.3263478740408408, P Value: 0.010117671942198925\n"
     ]
    }
   ],
   "source": [
    "# usage\n",
    "z_score, critical_z_score = calculate_z_score(p1, p2, n1, n2, p, confidence_level, one_tailed)\n",
    "print(f\"Z Score: {z_score}, Critical Z Score: {critical_z_score}, P Value: {p_value}\")"
   ]
  },
  {
   "cell_type": "code",
   "execution_count": 85,
   "id": "5874761f",
   "metadata": {},
   "outputs": [
    {
     "name": "stdout",
     "output_type": "stream",
     "text": [
      "Significant based off Critical Z\n"
     ]
    }
   ],
   "source": [
    "if z_score > critical_z_score:\n",
    "    print('Significant based off Critical Z')\n",
    "else:\n",
    "    print('Not Significant based off Critical Z')"
   ]
  },
  {
   "cell_type": "code",
   "execution_count": 86,
   "id": "185d04fd",
   "metadata": {},
   "outputs": [
    {
     "name": "stdout",
     "output_type": "stream",
     "text": [
      "Not Significant based off P Value\n"
     ]
    }
   ],
   "source": [
    "if p_value < (1-confidence_level):\n",
    "    print('Significant based off P Value')\n",
    "else:\n",
    "    print('Not Significant based off P Value')"
   ]
  },
  {
   "cell_type": "markdown",
   "id": "540a30de",
   "metadata": {},
   "source": [
    "Note: If your z-score is greater than the critical z-score, then you can reject the null hypothesis and conclude that there's a significant difference between your test and control groups. If it's less than the critical z-score, you fail to reject the null hypothesis, meaning you didn't find a significant difference.\n",
    "\n",
    "The function assumes that both the test and control groups follow a binomial distribution and uses the approximation to the normal distribution when the sample size is large."
   ]
  },
  {
   "cell_type": "markdown",
   "id": "52ec149c",
   "metadata": {},
   "source": [
    "Note: The confidence level is usually used to decide the critical value (or threshold), and if the calculated p-value is less than the significance level (1 - confidence level), then the null hypothesis can be rejected."
   ]
  }
 ],
 "metadata": {
  "kernelspec": {
   "display_name": "Python 3 (ipykernel)",
   "language": "python",
   "name": "python3"
  },
  "language_info": {
   "codemirror_mode": {
    "name": "ipython",
    "version": 3
   },
   "file_extension": ".py",
   "mimetype": "text/x-python",
   "name": "python",
   "nbconvert_exporter": "python",
   "pygments_lexer": "ipython3",
   "version": "3.9.12"
  }
 },
 "nbformat": 4,
 "nbformat_minor": 5
}
