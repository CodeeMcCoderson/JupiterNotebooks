{
  "nbformat": 4,
  "nbformat_minor": 0,
  "metadata": {
    "colab": {
      "provenance": [],
      "collapsed_sections": []
    },
    "kernelspec": {
      "name": "python3",
      "display_name": "Python 3"
    },
    "language_info": {
      "name": "python"
    }
  },
  "cells": [
    {
      "cell_type": "markdown",
      "source": [
        "Exploratory data analysis and visualization of employee churn dataset using matplotlib and seaborn, model building and evaluation using python scikit-learn package."
      ],
      "metadata": {
        "id": "gR0dWumFl2s_"
      }
    },
    {
      "cell_type": "markdown",
      "source": [
        "Predicting Employee Churn with Machine Learning (Colab)\n",
        "\n",
        "Classification model trained on 1,470 employees"
      ],
      "metadata": {
        "id": "SgtQW3a0HBaQ"
      }
    },
    {
      "cell_type": "markdown",
      "source": [
        "The dataset contains 1470 samples, and 32 features\n"
      ],
      "metadata": {
        "id": "MzP0enTeMbKr"
      }
    },
    {
      "cell_type": "code",
      "source": [
        "#import modules\n",
        "import pandas  # for dataframes\n",
        "import matplotlib.pyplot as plt # for plotting graphs\n",
        "import seaborn as sns # for plotting graphs\n",
        "import numpy as np\n",
        "#MODEL\n",
        "from imblearn.over_sampling import SMOTE\n",
        "from sklearn.linear_model import LogisticRegression\n",
        "from sklearn.ensemble import RandomForestClassifier\n",
        "from sklearn.svm import SVC\n",
        "from sklearn.tree import DecisionTreeClassifier\n",
        "from sklearn.naive_bayes import GaussianNB"
      ],
      "metadata": {
        "id": "oupxBJrJUSdK"
      },
      "execution_count": null,
      "outputs": []
    },
    {
      "cell_type": "code",
      "source": [
        "#Mount your google drive\n",
        "from google.colab import drive\n",
        "drive.mount('/content/drive')"
      ],
      "metadata": {
        "id": "LXB8rmVWUTsc",
        "colab": {
          "base_uri": "https://localhost:8080/"
        },
        "outputId": "81ce3ac0-bbca-464d-dc45-edd9afb4861c"
      },
      "execution_count": null,
      "outputs": [
        {
          "output_type": "stream",
          "name": "stdout",
          "text": [
            "Mounted at /content/drive\n"
          ]
        }
      ]
    },
    {
      "cell_type": "code",
      "source": [
        "# read dataset into df dataframe from Data Directory and display top and bottom rows of the dataframe\n",
        "df=pandas.read_csv('/content/drive/MyDrive/Data/Attrition.csv')\n",
        "df"
      ],
      "metadata": {
        "id": "0AYDSL6QJJVp",
        "colab": {
          "base_uri": "https://localhost:8080/",
          "height": 505
        },
        "outputId": "f5bbe6b0-a38c-4535-e0bd-9868e457d322"
      },
      "execution_count": null,
      "outputs": [
        {
          "output_type": "execute_result",
          "data": {
            "text/plain": [
              "      Unnamed: 0  Age  Attrition  BusinessTravel  DailyRate  Department  \\\n",
              "0              0   41          1               2       1102           2   \n",
              "1              1   49          0               1        279           1   \n",
              "2              2   37          1               2       1373           1   \n",
              "3              3   33          0               1       1392           1   \n",
              "4              4   27          0               2        591           1   \n",
              "...          ...  ...        ...             ...        ...         ...   \n",
              "1465        1465   36          0               1        884           1   \n",
              "1466        1466   39          0               2        613           1   \n",
              "1467        1467   27          0               2        155           1   \n",
              "1468        1468   49          0               1       1023           2   \n",
              "1469        1469   34          0               2        628           1   \n",
              "\n",
              "      DistanceFromHome  Education  EducationField  EmployeeNumber  ...  \\\n",
              "0                    1          2               1               1  ...   \n",
              "1                    8          1               1               2  ...   \n",
              "2                    2          2               4               4  ...   \n",
              "3                    3          4               1               5  ...   \n",
              "4                    2          1               3               7  ...   \n",
              "...                ...        ...             ...             ...  ...   \n",
              "1465                23          2               3            2061  ...   \n",
              "1466                 6          1               3            2062  ...   \n",
              "1467                 4          3               1            2064  ...   \n",
              "1468                 2          3               3            2065  ...   \n",
              "1469                 8          3               3            2068  ...   \n",
              "\n",
              "      PerformanceRating  RelationshipSatisfaction  StockOptionLevel  \\\n",
              "0                     3                         1                 0   \n",
              "1                     4                         4                 1   \n",
              "2                     3                         2                 0   \n",
              "3                     3                         3                 0   \n",
              "4                     3                         4                 1   \n",
              "...                 ...                       ...               ...   \n",
              "1465                  3                         3                 1   \n",
              "1466                  3                         1                 1   \n",
              "1467                  4                         2                 1   \n",
              "1468                  3                         4                 0   \n",
              "1469                  3                         1                 0   \n",
              "\n",
              "      TotalWorkingYears  TrainingTimesLastYear  WorkLifeBalance  \\\n",
              "0                     8                      0                1   \n",
              "1                    10                      3                3   \n",
              "2                     7                      3                3   \n",
              "3                     8                      3                3   \n",
              "4                     6                      3                3   \n",
              "...                 ...                    ...              ...   \n",
              "1465                 17                      3                3   \n",
              "1466                  9                      5                3   \n",
              "1467                  6                      0                3   \n",
              "1468                 17                      3                2   \n",
              "1469                  6                      3                4   \n",
              "\n",
              "      YearsAtCompany  YearsInCurrentRole  YearsSinceLastPromotion  \\\n",
              "0                  6                   4                        0   \n",
              "1                 10                   7                        1   \n",
              "2                  0                   0                        0   \n",
              "3                  8                   7                        3   \n",
              "4                  2                   2                        2   \n",
              "...              ...                 ...                      ...   \n",
              "1465               5                   2                        0   \n",
              "1466               7                   7                        1   \n",
              "1467               6                   2                        0   \n",
              "1468               9                   6                        0   \n",
              "1469               4                   3                        1   \n",
              "\n",
              "      YearsWithCurrManager  \n",
              "0                        5  \n",
              "1                        7  \n",
              "2                        0  \n",
              "3                        0  \n",
              "4                        2  \n",
              "...                    ...  \n",
              "1465                     3  \n",
              "1466                     7  \n",
              "1467                     3  \n",
              "1468                     8  \n",
              "1469                     2  \n",
              "\n",
              "[1470 rows x 33 columns]"
            ],
            "text/html": [
              "\n",
              "  <div id=\"df-a09b4cef-9836-43e5-86b1-f2fdefdb1db0\">\n",
              "    <div class=\"colab-df-container\">\n",
              "      <div>\n",
              "<style scoped>\n",
              "    .dataframe tbody tr th:only-of-type {\n",
              "        vertical-align: middle;\n",
              "    }\n",
              "\n",
              "    .dataframe tbody tr th {\n",
              "        vertical-align: top;\n",
              "    }\n",
              "\n",
              "    .dataframe thead th {\n",
              "        text-align: right;\n",
              "    }\n",
              "</style>\n",
              "<table border=\"1\" class=\"dataframe\">\n",
              "  <thead>\n",
              "    <tr style=\"text-align: right;\">\n",
              "      <th></th>\n",
              "      <th>Unnamed: 0</th>\n",
              "      <th>Age</th>\n",
              "      <th>Attrition</th>\n",
              "      <th>BusinessTravel</th>\n",
              "      <th>DailyRate</th>\n",
              "      <th>Department</th>\n",
              "      <th>DistanceFromHome</th>\n",
              "      <th>Education</th>\n",
              "      <th>EducationField</th>\n",
              "      <th>EmployeeNumber</th>\n",
              "      <th>...</th>\n",
              "      <th>PerformanceRating</th>\n",
              "      <th>RelationshipSatisfaction</th>\n",
              "      <th>StockOptionLevel</th>\n",
              "      <th>TotalWorkingYears</th>\n",
              "      <th>TrainingTimesLastYear</th>\n",
              "      <th>WorkLifeBalance</th>\n",
              "      <th>YearsAtCompany</th>\n",
              "      <th>YearsInCurrentRole</th>\n",
              "      <th>YearsSinceLastPromotion</th>\n",
              "      <th>YearsWithCurrManager</th>\n",
              "    </tr>\n",
              "  </thead>\n",
              "  <tbody>\n",
              "    <tr>\n",
              "      <th>0</th>\n",
              "      <td>0</td>\n",
              "      <td>41</td>\n",
              "      <td>1</td>\n",
              "      <td>2</td>\n",
              "      <td>1102</td>\n",
              "      <td>2</td>\n",
              "      <td>1</td>\n",
              "      <td>2</td>\n",
              "      <td>1</td>\n",
              "      <td>1</td>\n",
              "      <td>...</td>\n",
              "      <td>3</td>\n",
              "      <td>1</td>\n",
              "      <td>0</td>\n",
              "      <td>8</td>\n",
              "      <td>0</td>\n",
              "      <td>1</td>\n",
              "      <td>6</td>\n",
              "      <td>4</td>\n",
              "      <td>0</td>\n",
              "      <td>5</td>\n",
              "    </tr>\n",
              "    <tr>\n",
              "      <th>1</th>\n",
              "      <td>1</td>\n",
              "      <td>49</td>\n",
              "      <td>0</td>\n",
              "      <td>1</td>\n",
              "      <td>279</td>\n",
              "      <td>1</td>\n",
              "      <td>8</td>\n",
              "      <td>1</td>\n",
              "      <td>1</td>\n",
              "      <td>2</td>\n",
              "      <td>...</td>\n",
              "      <td>4</td>\n",
              "      <td>4</td>\n",
              "      <td>1</td>\n",
              "      <td>10</td>\n",
              "      <td>3</td>\n",
              "      <td>3</td>\n",
              "      <td>10</td>\n",
              "      <td>7</td>\n",
              "      <td>1</td>\n",
              "      <td>7</td>\n",
              "    </tr>\n",
              "    <tr>\n",
              "      <th>2</th>\n",
              "      <td>2</td>\n",
              "      <td>37</td>\n",
              "      <td>1</td>\n",
              "      <td>2</td>\n",
              "      <td>1373</td>\n",
              "      <td>1</td>\n",
              "      <td>2</td>\n",
              "      <td>2</td>\n",
              "      <td>4</td>\n",
              "      <td>4</td>\n",
              "      <td>...</td>\n",
              "      <td>3</td>\n",
              "      <td>2</td>\n",
              "      <td>0</td>\n",
              "      <td>7</td>\n",
              "      <td>3</td>\n",
              "      <td>3</td>\n",
              "      <td>0</td>\n",
              "      <td>0</td>\n",
              "      <td>0</td>\n",
              "      <td>0</td>\n",
              "    </tr>\n",
              "    <tr>\n",
              "      <th>3</th>\n",
              "      <td>3</td>\n",
              "      <td>33</td>\n",
              "      <td>0</td>\n",
              "      <td>1</td>\n",
              "      <td>1392</td>\n",
              "      <td>1</td>\n",
              "      <td>3</td>\n",
              "      <td>4</td>\n",
              "      <td>1</td>\n",
              "      <td>5</td>\n",
              "      <td>...</td>\n",
              "      <td>3</td>\n",
              "      <td>3</td>\n",
              "      <td>0</td>\n",
              "      <td>8</td>\n",
              "      <td>3</td>\n",
              "      <td>3</td>\n",
              "      <td>8</td>\n",
              "      <td>7</td>\n",
              "      <td>3</td>\n",
              "      <td>0</td>\n",
              "    </tr>\n",
              "    <tr>\n",
              "      <th>4</th>\n",
              "      <td>4</td>\n",
              "      <td>27</td>\n",
              "      <td>0</td>\n",
              "      <td>2</td>\n",
              "      <td>591</td>\n",
              "      <td>1</td>\n",
              "      <td>2</td>\n",
              "      <td>1</td>\n",
              "      <td>3</td>\n",
              "      <td>7</td>\n",
              "      <td>...</td>\n",
              "      <td>3</td>\n",
              "      <td>4</td>\n",
              "      <td>1</td>\n",
              "      <td>6</td>\n",
              "      <td>3</td>\n",
              "      <td>3</td>\n",
              "      <td>2</td>\n",
              "      <td>2</td>\n",
              "      <td>2</td>\n",
              "      <td>2</td>\n",
              "    </tr>\n",
              "    <tr>\n",
              "      <th>...</th>\n",
              "      <td>...</td>\n",
              "      <td>...</td>\n",
              "      <td>...</td>\n",
              "      <td>...</td>\n",
              "      <td>...</td>\n",
              "      <td>...</td>\n",
              "      <td>...</td>\n",
              "      <td>...</td>\n",
              "      <td>...</td>\n",
              "      <td>...</td>\n",
              "      <td>...</td>\n",
              "      <td>...</td>\n",
              "      <td>...</td>\n",
              "      <td>...</td>\n",
              "      <td>...</td>\n",
              "      <td>...</td>\n",
              "      <td>...</td>\n",
              "      <td>...</td>\n",
              "      <td>...</td>\n",
              "      <td>...</td>\n",
              "      <td>...</td>\n",
              "    </tr>\n",
              "    <tr>\n",
              "      <th>1465</th>\n",
              "      <td>1465</td>\n",
              "      <td>36</td>\n",
              "      <td>0</td>\n",
              "      <td>1</td>\n",
              "      <td>884</td>\n",
              "      <td>1</td>\n",
              "      <td>23</td>\n",
              "      <td>2</td>\n",
              "      <td>3</td>\n",
              "      <td>2061</td>\n",
              "      <td>...</td>\n",
              "      <td>3</td>\n",
              "      <td>3</td>\n",
              "      <td>1</td>\n",
              "      <td>17</td>\n",
              "      <td>3</td>\n",
              "      <td>3</td>\n",
              "      <td>5</td>\n",
              "      <td>2</td>\n",
              "      <td>0</td>\n",
              "      <td>3</td>\n",
              "    </tr>\n",
              "    <tr>\n",
              "      <th>1466</th>\n",
              "      <td>1466</td>\n",
              "      <td>39</td>\n",
              "      <td>0</td>\n",
              "      <td>2</td>\n",
              "      <td>613</td>\n",
              "      <td>1</td>\n",
              "      <td>6</td>\n",
              "      <td>1</td>\n",
              "      <td>3</td>\n",
              "      <td>2062</td>\n",
              "      <td>...</td>\n",
              "      <td>3</td>\n",
              "      <td>1</td>\n",
              "      <td>1</td>\n",
              "      <td>9</td>\n",
              "      <td>5</td>\n",
              "      <td>3</td>\n",
              "      <td>7</td>\n",
              "      <td>7</td>\n",
              "      <td>1</td>\n",
              "      <td>7</td>\n",
              "    </tr>\n",
              "    <tr>\n",
              "      <th>1467</th>\n",
              "      <td>1467</td>\n",
              "      <td>27</td>\n",
              "      <td>0</td>\n",
              "      <td>2</td>\n",
              "      <td>155</td>\n",
              "      <td>1</td>\n",
              "      <td>4</td>\n",
              "      <td>3</td>\n",
              "      <td>1</td>\n",
              "      <td>2064</td>\n",
              "      <td>...</td>\n",
              "      <td>4</td>\n",
              "      <td>2</td>\n",
              "      <td>1</td>\n",
              "      <td>6</td>\n",
              "      <td>0</td>\n",
              "      <td>3</td>\n",
              "      <td>6</td>\n",
              "      <td>2</td>\n",
              "      <td>0</td>\n",
              "      <td>3</td>\n",
              "    </tr>\n",
              "    <tr>\n",
              "      <th>1468</th>\n",
              "      <td>1468</td>\n",
              "      <td>49</td>\n",
              "      <td>0</td>\n",
              "      <td>1</td>\n",
              "      <td>1023</td>\n",
              "      <td>2</td>\n",
              "      <td>2</td>\n",
              "      <td>3</td>\n",
              "      <td>3</td>\n",
              "      <td>2065</td>\n",
              "      <td>...</td>\n",
              "      <td>3</td>\n",
              "      <td>4</td>\n",
              "      <td>0</td>\n",
              "      <td>17</td>\n",
              "      <td>3</td>\n",
              "      <td>2</td>\n",
              "      <td>9</td>\n",
              "      <td>6</td>\n",
              "      <td>0</td>\n",
              "      <td>8</td>\n",
              "    </tr>\n",
              "    <tr>\n",
              "      <th>1469</th>\n",
              "      <td>1469</td>\n",
              "      <td>34</td>\n",
              "      <td>0</td>\n",
              "      <td>2</td>\n",
              "      <td>628</td>\n",
              "      <td>1</td>\n",
              "      <td>8</td>\n",
              "      <td>3</td>\n",
              "      <td>3</td>\n",
              "      <td>2068</td>\n",
              "      <td>...</td>\n",
              "      <td>3</td>\n",
              "      <td>1</td>\n",
              "      <td>0</td>\n",
              "      <td>6</td>\n",
              "      <td>3</td>\n",
              "      <td>4</td>\n",
              "      <td>4</td>\n",
              "      <td>3</td>\n",
              "      <td>1</td>\n",
              "      <td>2</td>\n",
              "    </tr>\n",
              "  </tbody>\n",
              "</table>\n",
              "<p>1470 rows × 33 columns</p>\n",
              "</div>\n",
              "      <button class=\"colab-df-convert\" onclick=\"convertToInteractive('df-a09b4cef-9836-43e5-86b1-f2fdefdb1db0')\"\n",
              "              title=\"Convert this dataframe to an interactive table.\"\n",
              "              style=\"display:none;\">\n",
              "        \n",
              "  <svg xmlns=\"http://www.w3.org/2000/svg\" height=\"24px\"viewBox=\"0 0 24 24\"\n",
              "       width=\"24px\">\n",
              "    <path d=\"M0 0h24v24H0V0z\" fill=\"none\"/>\n",
              "    <path d=\"M18.56 5.44l.94 2.06.94-2.06 2.06-.94-2.06-.94-.94-2.06-.94 2.06-2.06.94zm-11 1L8.5 8.5l.94-2.06 2.06-.94-2.06-.94L8.5 2.5l-.94 2.06-2.06.94zm10 10l.94 2.06.94-2.06 2.06-.94-2.06-.94-.94-2.06-.94 2.06-2.06.94z\"/><path d=\"M17.41 7.96l-1.37-1.37c-.4-.4-.92-.59-1.43-.59-.52 0-1.04.2-1.43.59L10.3 9.45l-7.72 7.72c-.78.78-.78 2.05 0 2.83L4 21.41c.39.39.9.59 1.41.59.51 0 1.02-.2 1.41-.59l7.78-7.78 2.81-2.81c.8-.78.8-2.07 0-2.86zM5.41 20L4 18.59l7.72-7.72 1.47 1.35L5.41 20z\"/>\n",
              "  </svg>\n",
              "      </button>\n",
              "      \n",
              "  <style>\n",
              "    .colab-df-container {\n",
              "      display:flex;\n",
              "      flex-wrap:wrap;\n",
              "      gap: 12px;\n",
              "    }\n",
              "\n",
              "    .colab-df-convert {\n",
              "      background-color: #E8F0FE;\n",
              "      border: none;\n",
              "      border-radius: 50%;\n",
              "      cursor: pointer;\n",
              "      display: none;\n",
              "      fill: #1967D2;\n",
              "      height: 32px;\n",
              "      padding: 0 0 0 0;\n",
              "      width: 32px;\n",
              "    }\n",
              "\n",
              "    .colab-df-convert:hover {\n",
              "      background-color: #E2EBFA;\n",
              "      box-shadow: 0px 1px 2px rgba(60, 64, 67, 0.3), 0px 1px 3px 1px rgba(60, 64, 67, 0.15);\n",
              "      fill: #174EA6;\n",
              "    }\n",
              "\n",
              "    [theme=dark] .colab-df-convert {\n",
              "      background-color: #3B4455;\n",
              "      fill: #D2E3FC;\n",
              "    }\n",
              "\n",
              "    [theme=dark] .colab-df-convert:hover {\n",
              "      background-color: #434B5C;\n",
              "      box-shadow: 0px 1px 3px 1px rgba(0, 0, 0, 0.15);\n",
              "      filter: drop-shadow(0px 1px 2px rgba(0, 0, 0, 0.3));\n",
              "      fill: #FFFFFF;\n",
              "    }\n",
              "  </style>\n",
              "\n",
              "      <script>\n",
              "        const buttonEl =\n",
              "          document.querySelector('#df-a09b4cef-9836-43e5-86b1-f2fdefdb1db0 button.colab-df-convert');\n",
              "        buttonEl.style.display =\n",
              "          google.colab.kernel.accessAllowed ? 'block' : 'none';\n",
              "\n",
              "        async function convertToInteractive(key) {\n",
              "          const element = document.querySelector('#df-a09b4cef-9836-43e5-86b1-f2fdefdb1db0');\n",
              "          const dataTable =\n",
              "            await google.colab.kernel.invokeFunction('convertToInteractive',\n",
              "                                                     [key], {});\n",
              "          if (!dataTable) return;\n",
              "\n",
              "          const docLinkHtml = 'Like what you see? Visit the ' +\n",
              "            '<a target=\"_blank\" href=https://colab.research.google.com/notebooks/data_table.ipynb>data table notebook</a>'\n",
              "            + ' to learn more about interactive tables.';\n",
              "          element.innerHTML = '';\n",
              "          dataTable['output_type'] = 'display_data';\n",
              "          await google.colab.output.renderOutput(dataTable, element);\n",
              "          const docLink = document.createElement('div');\n",
              "          docLink.innerHTML = docLinkHtml;\n",
              "          element.appendChild(docLink);\n",
              "        }\n",
              "      </script>\n",
              "    </div>\n",
              "  </div>\n",
              "  "
            ]
          },
          "metadata": {},
          "execution_count": 3
        }
      ]
    },
    {
      "cell_type": "code",
      "source": [
        "print(df.info())"
      ],
      "metadata": {
        "colab": {
          "base_uri": "https://localhost:8080/"
        },
        "id": "LCrn73xoGa1I",
        "outputId": "2982a35f-c51d-43ff-8918-40249679bc9e"
      },
      "execution_count": null,
      "outputs": [
        {
          "output_type": "stream",
          "name": "stdout",
          "text": [
            "<class 'pandas.core.frame.DataFrame'>\n",
            "RangeIndex: 1470 entries, 0 to 1469\n",
            "Data columns (total 33 columns):\n",
            " #   Column                    Non-Null Count  Dtype\n",
            "---  ------                    --------------  -----\n",
            " 0   Unnamed: 0                1470 non-null   int64\n",
            " 1   Age                       1470 non-null   int64\n",
            " 2   Attrition                 1470 non-null   int64\n",
            " 3   BusinessTravel            1470 non-null   int64\n",
            " 4   DailyRate                 1470 non-null   int64\n",
            " 5   Department                1470 non-null   int64\n",
            " 6   DistanceFromHome          1470 non-null   int64\n",
            " 7   Education                 1470 non-null   int64\n",
            " 8   EducationField            1470 non-null   int64\n",
            " 9   EmployeeNumber            1470 non-null   int64\n",
            " 10  EnvironmentSatisfaction   1470 non-null   int64\n",
            " 11  Gender                    1470 non-null   int64\n",
            " 12  HourlyRate                1470 non-null   int64\n",
            " 13  JobInvolvement            1470 non-null   int64\n",
            " 14  JobLevel                  1470 non-null   int64\n",
            " 15  JobRole                   1470 non-null   int64\n",
            " 16  JobSatisfaction           1470 non-null   int64\n",
            " 17  MaritalStatus             1470 non-null   int64\n",
            " 18  MonthlyIncome             1470 non-null   int64\n",
            " 19  MonthlyRate               1470 non-null   int64\n",
            " 20  NumCompaniesWorked        1470 non-null   int64\n",
            " 21  OverTime                  1470 non-null   int64\n",
            " 22  PercentSalaryHike         1470 non-null   int64\n",
            " 23  PerformanceRating         1470 non-null   int64\n",
            " 24  RelationshipSatisfaction  1470 non-null   int64\n",
            " 25  StockOptionLevel          1470 non-null   int64\n",
            " 26  TotalWorkingYears         1470 non-null   int64\n",
            " 27  TrainingTimesLastYear     1470 non-null   int64\n",
            " 28  WorkLifeBalance           1470 non-null   int64\n",
            " 29  YearsAtCompany            1470 non-null   int64\n",
            " 30  YearsInCurrentRole        1470 non-null   int64\n",
            " 31  YearsSinceLastPromotion   1470 non-null   int64\n",
            " 32  YearsWithCurrManager      1470 non-null   int64\n",
            "dtypes: int64(33)\n",
            "memory usage: 379.1 KB\n",
            "None\n"
          ]
        }
      ]
    },
    {
      "cell_type": "code",
      "source": [
        "df.isnull().sum() # another way to count null values in dataset"
      ],
      "metadata": {
        "id": "BOtr08LbKonj",
        "colab": {
          "base_uri": "https://localhost:8080/"
        },
        "outputId": "6843b87d-667b-4afa-dbb8-8d55f8aa3e26"
      },
      "execution_count": null,
      "outputs": [
        {
          "output_type": "execute_result",
          "data": {
            "text/plain": [
              "Unnamed: 0                  0\n",
              "Age                         0\n",
              "Attrition                   0\n",
              "BusinessTravel              0\n",
              "DailyRate                   0\n",
              "Department                  0\n",
              "DistanceFromHome            0\n",
              "Education                   0\n",
              "EducationField              0\n",
              "EmployeeNumber              0\n",
              "EnvironmentSatisfaction     0\n",
              "Gender                      0\n",
              "HourlyRate                  0\n",
              "JobInvolvement              0\n",
              "JobLevel                    0\n",
              "JobRole                     0\n",
              "JobSatisfaction             0\n",
              "MaritalStatus               0\n",
              "MonthlyIncome               0\n",
              "MonthlyRate                 0\n",
              "NumCompaniesWorked          0\n",
              "OverTime                    0\n",
              "PercentSalaryHike           0\n",
              "PerformanceRating           0\n",
              "RelationshipSatisfaction    0\n",
              "StockOptionLevel            0\n",
              "TotalWorkingYears           0\n",
              "TrainingTimesLastYear       0\n",
              "WorkLifeBalance             0\n",
              "YearsAtCompany              0\n",
              "YearsInCurrentRole          0\n",
              "YearsSinceLastPromotion     0\n",
              "YearsWithCurrManager        0\n",
              "dtype: int64"
            ]
          },
          "metadata": {},
          "execution_count": 5
        }
      ]
    },
    {
      "cell_type": "markdown",
      "source": [
        "In this dataset, we have two types of employee, those who stayed and those that left the company. Compare their characteristics by group (the column 'left'). Here, you can find the average of both the groups using groupby() and mean() function."
      ],
      "metadata": {
        "id": "8PnmzqDWOLyG"
      }
    },
    {
      "cell_type": "code",
      "source": [
        "left = df.groupby('Attrition') #  (1=left, 0=remain with Co)\n",
        "left.mean() # mean of the variables group by 'Attrition' "
      ],
      "metadata": {
        "id": "6t-CC6xkK1Mh",
        "colab": {
          "base_uri": "https://localhost:8080/",
          "height": 254
        },
        "outputId": "2c6bfa70-0523-49e9-d008-9f63cdad0d1f"
      },
      "execution_count": null,
      "outputs": [
        {
          "output_type": "execute_result",
          "data": {
            "text/plain": [
              "           Unnamed: 0        Age  BusinessTravel   DailyRate  Department  \\\n",
              "Attrition                                                                  \n",
              "0          736.429035  37.561233        1.607461  812.504461    1.245742   \n",
              "1          724.464135  33.607595        1.607595  750.362869    1.337553   \n",
              "\n",
              "           DistanceFromHome  Education  EducationField  EmployeeNumber  \\\n",
              "Attrition                                                                \n",
              "0                  8.915653   2.927007        2.231955     1027.656123   \n",
              "1                 10.632911   2.839662        2.329114     1010.345992   \n",
              "\n",
              "           EnvironmentSatisfaction  ...  PerformanceRating  \\\n",
              "Attrition                           ...                      \n",
              "0                         2.771290  ...           3.153285   \n",
              "1                         2.464135  ...           3.156118   \n",
              "\n",
              "           RelationshipSatisfaction  StockOptionLevel  TotalWorkingYears  \\\n",
              "Attrition                                                                  \n",
              "0                          2.733982          0.845093          11.862936   \n",
              "1                          2.599156          0.527426           8.244726   \n",
              "\n",
              "           TrainingTimesLastYear  WorkLifeBalance  YearsAtCompany  \\\n",
              "Attrition                                                           \n",
              "0                       2.832928         2.781022        7.369019   \n",
              "1                       2.624473         2.658228        5.130802   \n",
              "\n",
              "           YearsInCurrentRole  YearsSinceLastPromotion  YearsWithCurrManager  \n",
              "Attrition                                                                     \n",
              "0                    4.484185                 2.234388              4.367397  \n",
              "1                    2.902954                 1.945148              2.852321  \n",
              "\n",
              "[2 rows x 32 columns]"
            ],
            "text/html": [
              "\n",
              "  <div id=\"df-b24de396-4852-48b2-a226-20679db27649\">\n",
              "    <div class=\"colab-df-container\">\n",
              "      <div>\n",
              "<style scoped>\n",
              "    .dataframe tbody tr th:only-of-type {\n",
              "        vertical-align: middle;\n",
              "    }\n",
              "\n",
              "    .dataframe tbody tr th {\n",
              "        vertical-align: top;\n",
              "    }\n",
              "\n",
              "    .dataframe thead th {\n",
              "        text-align: right;\n",
              "    }\n",
              "</style>\n",
              "<table border=\"1\" class=\"dataframe\">\n",
              "  <thead>\n",
              "    <tr style=\"text-align: right;\">\n",
              "      <th></th>\n",
              "      <th>Unnamed: 0</th>\n",
              "      <th>Age</th>\n",
              "      <th>BusinessTravel</th>\n",
              "      <th>DailyRate</th>\n",
              "      <th>Department</th>\n",
              "      <th>DistanceFromHome</th>\n",
              "      <th>Education</th>\n",
              "      <th>EducationField</th>\n",
              "      <th>EmployeeNumber</th>\n",
              "      <th>EnvironmentSatisfaction</th>\n",
              "      <th>...</th>\n",
              "      <th>PerformanceRating</th>\n",
              "      <th>RelationshipSatisfaction</th>\n",
              "      <th>StockOptionLevel</th>\n",
              "      <th>TotalWorkingYears</th>\n",
              "      <th>TrainingTimesLastYear</th>\n",
              "      <th>WorkLifeBalance</th>\n",
              "      <th>YearsAtCompany</th>\n",
              "      <th>YearsInCurrentRole</th>\n",
              "      <th>YearsSinceLastPromotion</th>\n",
              "      <th>YearsWithCurrManager</th>\n",
              "    </tr>\n",
              "    <tr>\n",
              "      <th>Attrition</th>\n",
              "      <th></th>\n",
              "      <th></th>\n",
              "      <th></th>\n",
              "      <th></th>\n",
              "      <th></th>\n",
              "      <th></th>\n",
              "      <th></th>\n",
              "      <th></th>\n",
              "      <th></th>\n",
              "      <th></th>\n",
              "      <th></th>\n",
              "      <th></th>\n",
              "      <th></th>\n",
              "      <th></th>\n",
              "      <th></th>\n",
              "      <th></th>\n",
              "      <th></th>\n",
              "      <th></th>\n",
              "      <th></th>\n",
              "      <th></th>\n",
              "      <th></th>\n",
              "    </tr>\n",
              "  </thead>\n",
              "  <tbody>\n",
              "    <tr>\n",
              "      <th>0</th>\n",
              "      <td>736.429035</td>\n",
              "      <td>37.561233</td>\n",
              "      <td>1.607461</td>\n",
              "      <td>812.504461</td>\n",
              "      <td>1.245742</td>\n",
              "      <td>8.915653</td>\n",
              "      <td>2.927007</td>\n",
              "      <td>2.231955</td>\n",
              "      <td>1027.656123</td>\n",
              "      <td>2.771290</td>\n",
              "      <td>...</td>\n",
              "      <td>3.153285</td>\n",
              "      <td>2.733982</td>\n",
              "      <td>0.845093</td>\n",
              "      <td>11.862936</td>\n",
              "      <td>2.832928</td>\n",
              "      <td>2.781022</td>\n",
              "      <td>7.369019</td>\n",
              "      <td>4.484185</td>\n",
              "      <td>2.234388</td>\n",
              "      <td>4.367397</td>\n",
              "    </tr>\n",
              "    <tr>\n",
              "      <th>1</th>\n",
              "      <td>724.464135</td>\n",
              "      <td>33.607595</td>\n",
              "      <td>1.607595</td>\n",
              "      <td>750.362869</td>\n",
              "      <td>1.337553</td>\n",
              "      <td>10.632911</td>\n",
              "      <td>2.839662</td>\n",
              "      <td>2.329114</td>\n",
              "      <td>1010.345992</td>\n",
              "      <td>2.464135</td>\n",
              "      <td>...</td>\n",
              "      <td>3.156118</td>\n",
              "      <td>2.599156</td>\n",
              "      <td>0.527426</td>\n",
              "      <td>8.244726</td>\n",
              "      <td>2.624473</td>\n",
              "      <td>2.658228</td>\n",
              "      <td>5.130802</td>\n",
              "      <td>2.902954</td>\n",
              "      <td>1.945148</td>\n",
              "      <td>2.852321</td>\n",
              "    </tr>\n",
              "  </tbody>\n",
              "</table>\n",
              "<p>2 rows × 32 columns</p>\n",
              "</div>\n",
              "      <button class=\"colab-df-convert\" onclick=\"convertToInteractive('df-b24de396-4852-48b2-a226-20679db27649')\"\n",
              "              title=\"Convert this dataframe to an interactive table.\"\n",
              "              style=\"display:none;\">\n",
              "        \n",
              "  <svg xmlns=\"http://www.w3.org/2000/svg\" height=\"24px\"viewBox=\"0 0 24 24\"\n",
              "       width=\"24px\">\n",
              "    <path d=\"M0 0h24v24H0V0z\" fill=\"none\"/>\n",
              "    <path d=\"M18.56 5.44l.94 2.06.94-2.06 2.06-.94-2.06-.94-.94-2.06-.94 2.06-2.06.94zm-11 1L8.5 8.5l.94-2.06 2.06-.94-2.06-.94L8.5 2.5l-.94 2.06-2.06.94zm10 10l.94 2.06.94-2.06 2.06-.94-2.06-.94-.94-2.06-.94 2.06-2.06.94z\"/><path d=\"M17.41 7.96l-1.37-1.37c-.4-.4-.92-.59-1.43-.59-.52 0-1.04.2-1.43.59L10.3 9.45l-7.72 7.72c-.78.78-.78 2.05 0 2.83L4 21.41c.39.39.9.59 1.41.59.51 0 1.02-.2 1.41-.59l7.78-7.78 2.81-2.81c.8-.78.8-2.07 0-2.86zM5.41 20L4 18.59l7.72-7.72 1.47 1.35L5.41 20z\"/>\n",
              "  </svg>\n",
              "      </button>\n",
              "      \n",
              "  <style>\n",
              "    .colab-df-container {\n",
              "      display:flex;\n",
              "      flex-wrap:wrap;\n",
              "      gap: 12px;\n",
              "    }\n",
              "\n",
              "    .colab-df-convert {\n",
              "      background-color: #E8F0FE;\n",
              "      border: none;\n",
              "      border-radius: 50%;\n",
              "      cursor: pointer;\n",
              "      display: none;\n",
              "      fill: #1967D2;\n",
              "      height: 32px;\n",
              "      padding: 0 0 0 0;\n",
              "      width: 32px;\n",
              "    }\n",
              "\n",
              "    .colab-df-convert:hover {\n",
              "      background-color: #E2EBFA;\n",
              "      box-shadow: 0px 1px 2px rgba(60, 64, 67, 0.3), 0px 1px 3px 1px rgba(60, 64, 67, 0.15);\n",
              "      fill: #174EA6;\n",
              "    }\n",
              "\n",
              "    [theme=dark] .colab-df-convert {\n",
              "      background-color: #3B4455;\n",
              "      fill: #D2E3FC;\n",
              "    }\n",
              "\n",
              "    [theme=dark] .colab-df-convert:hover {\n",
              "      background-color: #434B5C;\n",
              "      box-shadow: 0px 1px 3px 1px rgba(0, 0, 0, 0.15);\n",
              "      filter: drop-shadow(0px 1px 2px rgba(0, 0, 0, 0.3));\n",
              "      fill: #FFFFFF;\n",
              "    }\n",
              "  </style>\n",
              "\n",
              "      <script>\n",
              "        const buttonEl =\n",
              "          document.querySelector('#df-b24de396-4852-48b2-a226-20679db27649 button.colab-df-convert');\n",
              "        buttonEl.style.display =\n",
              "          google.colab.kernel.accessAllowed ? 'block' : 'none';\n",
              "\n",
              "        async function convertToInteractive(key) {\n",
              "          const element = document.querySelector('#df-b24de396-4852-48b2-a226-20679db27649');\n",
              "          const dataTable =\n",
              "            await google.colab.kernel.invokeFunction('convertToInteractive',\n",
              "                                                     [key], {});\n",
              "          if (!dataTable) return;\n",
              "\n",
              "          const docLinkHtml = 'Like what you see? Visit the ' +\n",
              "            '<a target=\"_blank\" href=https://colab.research.google.com/notebooks/data_table.ipynb>data table notebook</a>'\n",
              "            + ' to learn more about interactive tables.';\n",
              "          element.innerHTML = '';\n",
              "          dataTable['output_type'] = 'display_data';\n",
              "          await google.colab.output.renderOutput(dataTable, element);\n",
              "          const docLink = document.createElement('div');\n",
              "          docLink.innerHTML = docLinkHtml;\n",
              "          element.appendChild(docLink);\n",
              "        }\n",
              "      </script>\n",
              "    </div>\n",
              "  </div>\n",
              "  "
            ]
          },
          "metadata": {},
          "execution_count": 6
        }
      ]
    },
    {
      "cell_type": "markdown",
      "source": [
        "Use the 'describe()' function in pandas to get various summary statistics. \n",
        "\n",
        "This function returns the count, mean, standard deviation, minimum and maximum values and the quantiles of the data (except 'Departments' and 'salary' are not in the output as they are not numeric but objects)"
      ],
      "metadata": {
        "id": "H9mzZpXrPY-J"
      }
    },
    {
      "cell_type": "code",
      "source": [
        "df.describe() # Summary statistics of dataframe ~ use '.T' to transpose the table"
      ],
      "metadata": {
        "id": "fM4b8zmBPbdo",
        "colab": {
          "base_uri": "https://localhost:8080/",
          "height": 394
        },
        "outputId": "59c44b28-ad7d-4bac-df9e-d33b60a18c4f"
      },
      "execution_count": null,
      "outputs": [
        {
          "output_type": "execute_result",
          "data": {
            "text/plain": [
              "        Unnamed: 0          Age    Attrition  BusinessTravel    DailyRate  \\\n",
              "count  1470.000000  1470.000000  1470.000000     1470.000000  1470.000000   \n",
              "mean    734.500000    36.923810     0.161224        1.607483   802.485714   \n",
              "std     424.496761     9.135373     0.367863        0.665455   403.509100   \n",
              "min       0.000000    18.000000     0.000000        0.000000   102.000000   \n",
              "25%     367.250000    30.000000     0.000000        1.000000   465.000000   \n",
              "50%     734.500000    36.000000     0.000000        2.000000   802.000000   \n",
              "75%    1101.750000    43.000000     0.000000        2.000000  1157.000000   \n",
              "max    1469.000000    60.000000     1.000000        2.000000  1499.000000   \n",
              "\n",
              "        Department  DistanceFromHome    Education  EducationField  \\\n",
              "count  1470.000000       1470.000000  1470.000000     1470.000000   \n",
              "mean      1.260544          9.192517     2.912925        2.247619   \n",
              "std       0.527792          8.106864     1.024165        1.331369   \n",
              "min       0.000000          1.000000     1.000000        0.000000   \n",
              "25%       1.000000          2.000000     2.000000        1.000000   \n",
              "50%       1.000000          7.000000     3.000000        2.000000   \n",
              "75%       2.000000         14.000000     4.000000        3.000000   \n",
              "max       2.000000         29.000000     5.000000        5.000000   \n",
              "\n",
              "       EmployeeNumber  ...  PerformanceRating  RelationshipSatisfaction  \\\n",
              "count     1470.000000  ...        1470.000000               1470.000000   \n",
              "mean      1024.865306  ...           3.153741                  2.712245   \n",
              "std        602.024335  ...           0.360824                  1.081209   \n",
              "min          1.000000  ...           3.000000                  1.000000   \n",
              "25%        491.250000  ...           3.000000                  2.000000   \n",
              "50%       1020.500000  ...           3.000000                  3.000000   \n",
              "75%       1555.750000  ...           3.000000                  4.000000   \n",
              "max       2068.000000  ...           4.000000                  4.000000   \n",
              "\n",
              "       StockOptionLevel  TotalWorkingYears  TrainingTimesLastYear  \\\n",
              "count       1470.000000        1470.000000            1470.000000   \n",
              "mean           0.793878          11.279592               2.799320   \n",
              "std            0.852077           7.780782               1.289271   \n",
              "min            0.000000           0.000000               0.000000   \n",
              "25%            0.000000           6.000000               2.000000   \n",
              "50%            1.000000          10.000000               3.000000   \n",
              "75%            1.000000          15.000000               3.000000   \n",
              "max            3.000000          40.000000               6.000000   \n",
              "\n",
              "       WorkLifeBalance  YearsAtCompany  YearsInCurrentRole  \\\n",
              "count      1470.000000     1470.000000         1470.000000   \n",
              "mean          2.761224        7.008163            4.229252   \n",
              "std           0.706476        6.126525            3.623137   \n",
              "min           1.000000        0.000000            0.000000   \n",
              "25%           2.000000        3.000000            2.000000   \n",
              "50%           3.000000        5.000000            3.000000   \n",
              "75%           3.000000        9.000000            7.000000   \n",
              "max           4.000000       40.000000           18.000000   \n",
              "\n",
              "       YearsSinceLastPromotion  YearsWithCurrManager  \n",
              "count              1470.000000           1470.000000  \n",
              "mean                  2.187755              4.123129  \n",
              "std                   3.222430              3.568136  \n",
              "min                   0.000000              0.000000  \n",
              "25%                   0.000000              2.000000  \n",
              "50%                   1.000000              3.000000  \n",
              "75%                   3.000000              7.000000  \n",
              "max                  15.000000             17.000000  \n",
              "\n",
              "[8 rows x 33 columns]"
            ],
            "text/html": [
              "\n",
              "  <div id=\"df-9c901ebc-11ea-47dd-9e10-8e7b5766a3a6\">\n",
              "    <div class=\"colab-df-container\">\n",
              "      <div>\n",
              "<style scoped>\n",
              "    .dataframe tbody tr th:only-of-type {\n",
              "        vertical-align: middle;\n",
              "    }\n",
              "\n",
              "    .dataframe tbody tr th {\n",
              "        vertical-align: top;\n",
              "    }\n",
              "\n",
              "    .dataframe thead th {\n",
              "        text-align: right;\n",
              "    }\n",
              "</style>\n",
              "<table border=\"1\" class=\"dataframe\">\n",
              "  <thead>\n",
              "    <tr style=\"text-align: right;\">\n",
              "      <th></th>\n",
              "      <th>Unnamed: 0</th>\n",
              "      <th>Age</th>\n",
              "      <th>Attrition</th>\n",
              "      <th>BusinessTravel</th>\n",
              "      <th>DailyRate</th>\n",
              "      <th>Department</th>\n",
              "      <th>DistanceFromHome</th>\n",
              "      <th>Education</th>\n",
              "      <th>EducationField</th>\n",
              "      <th>EmployeeNumber</th>\n",
              "      <th>...</th>\n",
              "      <th>PerformanceRating</th>\n",
              "      <th>RelationshipSatisfaction</th>\n",
              "      <th>StockOptionLevel</th>\n",
              "      <th>TotalWorkingYears</th>\n",
              "      <th>TrainingTimesLastYear</th>\n",
              "      <th>WorkLifeBalance</th>\n",
              "      <th>YearsAtCompany</th>\n",
              "      <th>YearsInCurrentRole</th>\n",
              "      <th>YearsSinceLastPromotion</th>\n",
              "      <th>YearsWithCurrManager</th>\n",
              "    </tr>\n",
              "  </thead>\n",
              "  <tbody>\n",
              "    <tr>\n",
              "      <th>count</th>\n",
              "      <td>1470.000000</td>\n",
              "      <td>1470.000000</td>\n",
              "      <td>1470.000000</td>\n",
              "      <td>1470.000000</td>\n",
              "      <td>1470.000000</td>\n",
              "      <td>1470.000000</td>\n",
              "      <td>1470.000000</td>\n",
              "      <td>1470.000000</td>\n",
              "      <td>1470.000000</td>\n",
              "      <td>1470.000000</td>\n",
              "      <td>...</td>\n",
              "      <td>1470.000000</td>\n",
              "      <td>1470.000000</td>\n",
              "      <td>1470.000000</td>\n",
              "      <td>1470.000000</td>\n",
              "      <td>1470.000000</td>\n",
              "      <td>1470.000000</td>\n",
              "      <td>1470.000000</td>\n",
              "      <td>1470.000000</td>\n",
              "      <td>1470.000000</td>\n",
              "      <td>1470.000000</td>\n",
              "    </tr>\n",
              "    <tr>\n",
              "      <th>mean</th>\n",
              "      <td>734.500000</td>\n",
              "      <td>36.923810</td>\n",
              "      <td>0.161224</td>\n",
              "      <td>1.607483</td>\n",
              "      <td>802.485714</td>\n",
              "      <td>1.260544</td>\n",
              "      <td>9.192517</td>\n",
              "      <td>2.912925</td>\n",
              "      <td>2.247619</td>\n",
              "      <td>1024.865306</td>\n",
              "      <td>...</td>\n",
              "      <td>3.153741</td>\n",
              "      <td>2.712245</td>\n",
              "      <td>0.793878</td>\n",
              "      <td>11.279592</td>\n",
              "      <td>2.799320</td>\n",
              "      <td>2.761224</td>\n",
              "      <td>7.008163</td>\n",
              "      <td>4.229252</td>\n",
              "      <td>2.187755</td>\n",
              "      <td>4.123129</td>\n",
              "    </tr>\n",
              "    <tr>\n",
              "      <th>std</th>\n",
              "      <td>424.496761</td>\n",
              "      <td>9.135373</td>\n",
              "      <td>0.367863</td>\n",
              "      <td>0.665455</td>\n",
              "      <td>403.509100</td>\n",
              "      <td>0.527792</td>\n",
              "      <td>8.106864</td>\n",
              "      <td>1.024165</td>\n",
              "      <td>1.331369</td>\n",
              "      <td>602.024335</td>\n",
              "      <td>...</td>\n",
              "      <td>0.360824</td>\n",
              "      <td>1.081209</td>\n",
              "      <td>0.852077</td>\n",
              "      <td>7.780782</td>\n",
              "      <td>1.289271</td>\n",
              "      <td>0.706476</td>\n",
              "      <td>6.126525</td>\n",
              "      <td>3.623137</td>\n",
              "      <td>3.222430</td>\n",
              "      <td>3.568136</td>\n",
              "    </tr>\n",
              "    <tr>\n",
              "      <th>min</th>\n",
              "      <td>0.000000</td>\n",
              "      <td>18.000000</td>\n",
              "      <td>0.000000</td>\n",
              "      <td>0.000000</td>\n",
              "      <td>102.000000</td>\n",
              "      <td>0.000000</td>\n",
              "      <td>1.000000</td>\n",
              "      <td>1.000000</td>\n",
              "      <td>0.000000</td>\n",
              "      <td>1.000000</td>\n",
              "      <td>...</td>\n",
              "      <td>3.000000</td>\n",
              "      <td>1.000000</td>\n",
              "      <td>0.000000</td>\n",
              "      <td>0.000000</td>\n",
              "      <td>0.000000</td>\n",
              "      <td>1.000000</td>\n",
              "      <td>0.000000</td>\n",
              "      <td>0.000000</td>\n",
              "      <td>0.000000</td>\n",
              "      <td>0.000000</td>\n",
              "    </tr>\n",
              "    <tr>\n",
              "      <th>25%</th>\n",
              "      <td>367.250000</td>\n",
              "      <td>30.000000</td>\n",
              "      <td>0.000000</td>\n",
              "      <td>1.000000</td>\n",
              "      <td>465.000000</td>\n",
              "      <td>1.000000</td>\n",
              "      <td>2.000000</td>\n",
              "      <td>2.000000</td>\n",
              "      <td>1.000000</td>\n",
              "      <td>491.250000</td>\n",
              "      <td>...</td>\n",
              "      <td>3.000000</td>\n",
              "      <td>2.000000</td>\n",
              "      <td>0.000000</td>\n",
              "      <td>6.000000</td>\n",
              "      <td>2.000000</td>\n",
              "      <td>2.000000</td>\n",
              "      <td>3.000000</td>\n",
              "      <td>2.000000</td>\n",
              "      <td>0.000000</td>\n",
              "      <td>2.000000</td>\n",
              "    </tr>\n",
              "    <tr>\n",
              "      <th>50%</th>\n",
              "      <td>734.500000</td>\n",
              "      <td>36.000000</td>\n",
              "      <td>0.000000</td>\n",
              "      <td>2.000000</td>\n",
              "      <td>802.000000</td>\n",
              "      <td>1.000000</td>\n",
              "      <td>7.000000</td>\n",
              "      <td>3.000000</td>\n",
              "      <td>2.000000</td>\n",
              "      <td>1020.500000</td>\n",
              "      <td>...</td>\n",
              "      <td>3.000000</td>\n",
              "      <td>3.000000</td>\n",
              "      <td>1.000000</td>\n",
              "      <td>10.000000</td>\n",
              "      <td>3.000000</td>\n",
              "      <td>3.000000</td>\n",
              "      <td>5.000000</td>\n",
              "      <td>3.000000</td>\n",
              "      <td>1.000000</td>\n",
              "      <td>3.000000</td>\n",
              "    </tr>\n",
              "    <tr>\n",
              "      <th>75%</th>\n",
              "      <td>1101.750000</td>\n",
              "      <td>43.000000</td>\n",
              "      <td>0.000000</td>\n",
              "      <td>2.000000</td>\n",
              "      <td>1157.000000</td>\n",
              "      <td>2.000000</td>\n",
              "      <td>14.000000</td>\n",
              "      <td>4.000000</td>\n",
              "      <td>3.000000</td>\n",
              "      <td>1555.750000</td>\n",
              "      <td>...</td>\n",
              "      <td>3.000000</td>\n",
              "      <td>4.000000</td>\n",
              "      <td>1.000000</td>\n",
              "      <td>15.000000</td>\n",
              "      <td>3.000000</td>\n",
              "      <td>3.000000</td>\n",
              "      <td>9.000000</td>\n",
              "      <td>7.000000</td>\n",
              "      <td>3.000000</td>\n",
              "      <td>7.000000</td>\n",
              "    </tr>\n",
              "    <tr>\n",
              "      <th>max</th>\n",
              "      <td>1469.000000</td>\n",
              "      <td>60.000000</td>\n",
              "      <td>1.000000</td>\n",
              "      <td>2.000000</td>\n",
              "      <td>1499.000000</td>\n",
              "      <td>2.000000</td>\n",
              "      <td>29.000000</td>\n",
              "      <td>5.000000</td>\n",
              "      <td>5.000000</td>\n",
              "      <td>2068.000000</td>\n",
              "      <td>...</td>\n",
              "      <td>4.000000</td>\n",
              "      <td>4.000000</td>\n",
              "      <td>3.000000</td>\n",
              "      <td>40.000000</td>\n",
              "      <td>6.000000</td>\n",
              "      <td>4.000000</td>\n",
              "      <td>40.000000</td>\n",
              "      <td>18.000000</td>\n",
              "      <td>15.000000</td>\n",
              "      <td>17.000000</td>\n",
              "    </tr>\n",
              "  </tbody>\n",
              "</table>\n",
              "<p>8 rows × 33 columns</p>\n",
              "</div>\n",
              "      <button class=\"colab-df-convert\" onclick=\"convertToInteractive('df-9c901ebc-11ea-47dd-9e10-8e7b5766a3a6')\"\n",
              "              title=\"Convert this dataframe to an interactive table.\"\n",
              "              style=\"display:none;\">\n",
              "        \n",
              "  <svg xmlns=\"http://www.w3.org/2000/svg\" height=\"24px\"viewBox=\"0 0 24 24\"\n",
              "       width=\"24px\">\n",
              "    <path d=\"M0 0h24v24H0V0z\" fill=\"none\"/>\n",
              "    <path d=\"M18.56 5.44l.94 2.06.94-2.06 2.06-.94-2.06-.94-.94-2.06-.94 2.06-2.06.94zm-11 1L8.5 8.5l.94-2.06 2.06-.94-2.06-.94L8.5 2.5l-.94 2.06-2.06.94zm10 10l.94 2.06.94-2.06 2.06-.94-2.06-.94-.94-2.06-.94 2.06-2.06.94z\"/><path d=\"M17.41 7.96l-1.37-1.37c-.4-.4-.92-.59-1.43-.59-.52 0-1.04.2-1.43.59L10.3 9.45l-7.72 7.72c-.78.78-.78 2.05 0 2.83L4 21.41c.39.39.9.59 1.41.59.51 0 1.02-.2 1.41-.59l7.78-7.78 2.81-2.81c.8-.78.8-2.07 0-2.86zM5.41 20L4 18.59l7.72-7.72 1.47 1.35L5.41 20z\"/>\n",
              "  </svg>\n",
              "      </button>\n",
              "      \n",
              "  <style>\n",
              "    .colab-df-container {\n",
              "      display:flex;\n",
              "      flex-wrap:wrap;\n",
              "      gap: 12px;\n",
              "    }\n",
              "\n",
              "    .colab-df-convert {\n",
              "      background-color: #E8F0FE;\n",
              "      border: none;\n",
              "      border-radius: 50%;\n",
              "      cursor: pointer;\n",
              "      display: none;\n",
              "      fill: #1967D2;\n",
              "      height: 32px;\n",
              "      padding: 0 0 0 0;\n",
              "      width: 32px;\n",
              "    }\n",
              "\n",
              "    .colab-df-convert:hover {\n",
              "      background-color: #E2EBFA;\n",
              "      box-shadow: 0px 1px 2px rgba(60, 64, 67, 0.3), 0px 1px 3px 1px rgba(60, 64, 67, 0.15);\n",
              "      fill: #174EA6;\n",
              "    }\n",
              "\n",
              "    [theme=dark] .colab-df-convert {\n",
              "      background-color: #3B4455;\n",
              "      fill: #D2E3FC;\n",
              "    }\n",
              "\n",
              "    [theme=dark] .colab-df-convert:hover {\n",
              "      background-color: #434B5C;\n",
              "      box-shadow: 0px 1px 3px 1px rgba(0, 0, 0, 0.15);\n",
              "      filter: drop-shadow(0px 1px 2px rgba(0, 0, 0, 0.3));\n",
              "      fill: #FFFFFF;\n",
              "    }\n",
              "  </style>\n",
              "\n",
              "      <script>\n",
              "        const buttonEl =\n",
              "          document.querySelector('#df-9c901ebc-11ea-47dd-9e10-8e7b5766a3a6 button.colab-df-convert');\n",
              "        buttonEl.style.display =\n",
              "          google.colab.kernel.accessAllowed ? 'block' : 'none';\n",
              "\n",
              "        async function convertToInteractive(key) {\n",
              "          const element = document.querySelector('#df-9c901ebc-11ea-47dd-9e10-8e7b5766a3a6');\n",
              "          const dataTable =\n",
              "            await google.colab.kernel.invokeFunction('convertToInteractive',\n",
              "                                                     [key], {});\n",
              "          if (!dataTable) return;\n",
              "\n",
              "          const docLinkHtml = 'Like what you see? Visit the ' +\n",
              "            '<a target=\"_blank\" href=https://colab.research.google.com/notebooks/data_table.ipynb>data table notebook</a>'\n",
              "            + ' to learn more about interactive tables.';\n",
              "          element.innerHTML = '';\n",
              "          dataTable['output_type'] = 'display_data';\n",
              "          await google.colab.output.renderOutput(dataTable, element);\n",
              "          const docLink = document.createElement('div');\n",
              "          docLink.innerHTML = docLinkHtml;\n",
              "          element.appendChild(docLink);\n",
              "        }\n",
              "      </script>\n",
              "    </div>\n",
              "  </div>\n",
              "  "
            ]
          },
          "metadata": {},
          "execution_count": 7
        }
      ]
    },
    {
      "cell_type": "markdown",
      "source": [
        "**Data Visualization**"
      ],
      "metadata": {
        "id": "6fcdtkzFPsiK"
      }
    },
    {
      "cell_type": "markdown",
      "source": [
        "Compare the number of employees that left the company 'left' = 1 and those that stayed 'left' = 0"
      ],
      "metadata": {
        "id": "ElE-FW5DWjRm"
      }
    },
    {
      "cell_type": "code",
      "source": [
        "left_count=df.groupby('Attrition').count()\n",
        "plt.bar(left_count.index.values, left_count['JobSatisfaction'])\n",
        "plt.title('Number of employees that left (1) and did not leave (0)')\n",
        "plt.xlabel('Employees Left Company')\n",
        "plt.ylabel('Number of Employees')\n",
        "plt.show()"
      ],
      "metadata": {
        "id": "BQv4Tw05Qnd7",
        "colab": {
          "base_uri": "https://localhost:8080/",
          "height": 295
        },
        "outputId": "19807fc2-fe46-41fe-f8a4-f3974bdf3add"
      },
      "execution_count": null,
      "outputs": [
        {
          "output_type": "display_data",
          "data": {
            "text/plain": [
              "<Figure size 432x288 with 1 Axes>"
            ],
            "image/png": "[encoded data removed]"
          },
          "metadata": {
            "needs_background": "light"
          }
        }
      ]
    },
    {
      "cell_type": "code",
      "source": [
        "#Here, you can see that out of 1,470 approx 237 left ('left' column =1), and 1,233 stayed. The no of employee left is 19 % of the total employees.\n",
        "df.Attrition.value_counts()"
      ],
      "metadata": {
        "id": "Vn0u4R9gQ-By",
        "colab": {
          "base_uri": "https://localhost:8080/"
        },
        "outputId": "5afc220e-b9fc-4994-8ce4-e25953548204"
      },
      "execution_count": null,
      "outputs": [
        {
          "output_type": "execute_result",
          "data": {
            "text/plain": [
              "0    1233\n",
              "1     237\n",
              "Name: Attrition, dtype: int64"
            ]
          },
          "metadata": {},
          "execution_count": 9
        }
      ]
    },
    {
      "cell_type": "code",
      "source": [
        "#Here, you can see that out of 15,000 approx 319  got a promotion within last 5 yrs. ('promotion_last_5years' column =1), and 14,680 did not get a promotion. The no of employee promoted is 2.12% of the total employee.\n",
        "df.YearsSinceLastPromotion.value_counts()"
      ],
      "metadata": {
        "id": "dDgxZ9y5cIxM",
        "colab": {
          "base_uri": "https://localhost:8080/"
        },
        "outputId": "fed7a971-add3-4396-9e70-6d298f0a5013"
      },
      "execution_count": null,
      "outputs": [
        {
          "output_type": "execute_result",
          "data": {
            "text/plain": [
              "0     581\n",
              "1     357\n",
              "2     159\n",
              "7      76\n",
              "4      61\n",
              "3      52\n",
              "5      45\n",
              "6      32\n",
              "11     24\n",
              "8      18\n",
              "9      17\n",
              "15     13\n",
              "13     10\n",
              "12     10\n",
              "14      9\n",
              "10      6\n",
              "Name: YearsSinceLastPromotion, dtype: int64"
            ]
          },
          "metadata": {},
          "execution_count": 10
        }
      ]
    },
    {
      "cell_type": "markdown",
      "source": [
        "Number of Projects"
      ],
      "metadata": {
        "id": "j7W6SXk1RNOp"
      }
    },
    {
      "cell_type": "code",
      "source": [
        "# bar chart to show the number of projects employees are involved in?\n",
        "num_projects=df.groupby('JobInvolvement').count()\n",
        "plt.bar(num_projects.index.values, num_projects['JobSatisfaction'])\n",
        "plt.xlabel('Number of Projects')\n",
        "plt.ylabel('Number of Employees')\n",
        "plt.show()"
      ],
      "metadata": {
        "id": "h0x8sm4FkJJu",
        "colab": {
          "base_uri": "https://localhost:8080/",
          "height": 279
        },
        "outputId": "88a1b4ce-22fc-42be-a95c-3e62608b982e"
      },
      "execution_count": null,
      "outputs": [
        {
          "output_type": "display_data",
          "data": {
            "text/plain": [
              "<Figure size 432x288 with 1 Axes>"
            ],
            "image/png": "[encoded data removed]"
          },
          "metadata": {
            "needs_background": "light"
          }
        }
      ]
    },
    {
      "cell_type": "code",
      "source": [
        "#Time Spent in Company ~ as an indicator of employee work experience\n",
        "# bar chart to show the number of employees and their years of experience in the company?\n",
        "time_spent=df.groupby('YearsAtCompany').count()\n",
        "plt.bar(time_spent.index.values, time_spent['JobSatisfaction'])\n",
        "plt.xlabel('Number of Years Spent in Company')\n",
        "plt.ylabel('Number of Employees')\n",
        "plt.show()\n"
      ],
      "metadata": {
        "id": "4h86ZQzmkvCW",
        "colab": {
          "base_uri": "https://localhost:8080/",
          "height": 279
        },
        "outputId": "9c48f368-a728-4395-d3fd-51ff0b1a1341"
      },
      "execution_count": null,
      "outputs": [
        {
          "output_type": "display_data",
          "data": {
            "text/plain": [
              "<Figure size 432x288 with 1 Axes>"
            ],
            "image/png": "[encoded data removed]"
          },
          "metadata": {
            "needs_background": "light"
          }
        }
      ]
    },
    {
      "cell_type": "code",
      "source": [
        "#Subplots using Seaborn library to plot all the graphs in a single cell.\n",
        "features=['BusinessTravel','NumCompaniesWorked', 'JobLevel', 'JobRole', 'YearsSinceLastPromotion'\n",
        "          ,  'NumCompaniesWorked', 'PerformanceRating', 'StockOptionLevel']\n",
        "fig=plt.subplots(figsize=(10,15))\n",
        "for i, j in enumerate(features):\n",
        "    plt.subplot(6, 2, i+1)\n",
        "    plt.subplots_adjust(hspace = 1.0)\n",
        "    sns.countplot(x=j,data = df)\n",
        "    plt.xticks(rotation=90)\n",
        "    plt.title(\"No. of employee\")"
      ],
      "metadata": {
        "id": "DZbwrDDPlWuh",
        "colab": {
          "base_uri": "https://localhost:8080/",
          "height": 593
        },
        "outputId": "bd5fce84-2a45-4873-9387-b14e9440d117"
      },
      "execution_count": null,
      "outputs": [
        {
          "output_type": "display_data",
          "data": {
            "text/plain": [
              "<Figure size 720x1080 with 8 Axes>"
            ],
            "image/png": "[encoded data removed]"
          },
          "metadata": {
            "needs_background": "light"
          }
        }
      ]
    },
    {
      "cell_type": "code",
      "source": [
        "fig=plt.subplots(figsize=(10,15))\n",
        "for i, j in enumerate(features):\n",
        "    plt.subplot(6, 2, i+1)\n",
        "    plt.subplots_adjust(hspace = 1.0)\n",
        "    sns.countplot(x=j,data = df, hue='Attrition')\n",
        "    plt.xticks(rotation=90)\n",
        "    plt.title(\"No. of employee\")"
      ],
      "metadata": {
        "id": "8l_R_-_vmCil",
        "colab": {
          "base_uri": "https://localhost:8080/",
          "height": 593
        },
        "outputId": "d2945847-27e6-4a2b-d706-f1b9c046e4b9"
      },
      "execution_count": null,
      "outputs": [
        {
          "output_type": "display_data",
          "data": {
            "text/plain": [
              "<Figure size 720x1080 with 8 Axes>"
            ],
            "image/png": "[encoded data removed]"
          },
          "metadata": {
            "needs_background": "light"
          }
        }
      ]
    },
    {
      "cell_type": "markdown",
      "source": [
        "Cluster Analysis:\n",
        "\n",
        "Let's find out the groups of employees who left. You can observe that the most important factor for any employee to stay or leave is satisfaction and performance in the company. So let's bunch them in the group of people using cluster analysis."
      ],
      "metadata": {
        "id": "JfGshfaymv5P"
      }
    },
    {
      "cell_type": "code",
      "source": [
        "#import module\n",
        "from sklearn.cluster import KMeans\n",
        "# Filter data\n",
        "left_emp =  df[['YearsAtCompany', 'YearsSinceLastPromotion']][df.Attrition == 1]\n",
        "# Create groups using K-means clustering.\n",
        "kmeans = KMeans(n_clusters = 3, random_state = 0).fit(left_emp)"
      ],
      "metadata": {
        "id": "C-vgcDj0m3rl"
      },
      "execution_count": null,
      "outputs": []
    },
    {
      "cell_type": "code",
      "source": [
        "# Add new column \"label\" annd assign cluster labels.\n",
        "left_emp['label'] = kmeans.labels_\n",
        "# Draw scatter plot\n",
        "plt.scatter(left_emp['YearsAtCompany'], left_emp['YearsSinceLastPromotion'], c=left_emp['label'],cmap='Accent')\n",
        "plt.xlabel('YearsAtCompany')\n",
        "plt.ylabel('YearsSinceLastPromotion')\n",
        "plt.title('3 Clusters of employees who left')\n",
        "plt.show()"
      ],
      "metadata": {
        "id": "QT2-HKnxnFek",
        "colab": {
          "base_uri": "https://localhost:8080/",
          "height": 295
        },
        "outputId": "8857be17-08f8-4a49-d763-82a4868a55db"
      },
      "execution_count": null,
      "outputs": [
        {
          "output_type": "display_data",
          "data": {
            "text/plain": [
              "<Figure size 432x288 with 1 Axes>"
            ],
            "image/png": "[encoded data removed]"
          },
          "metadata": {
            "needs_background": "light"
          }
        }
      ]
    },
    {
      "cell_type": "markdown",
      "source": [
        "\n",
        "Here, Employee who left the company can be grouped into 3 type of employees:\n",
        "High Satisfaction and High Evaluation(Shaded by green color in the graph), you can also call them Winners.\n",
        "Low Satisfaction and High Evaluation(Shaded by blue color(Shaded by green color in the graph), you can also call them Frustrated.\n",
        "Moderate Satisfaction and moderate Evaluation (Shaded by grey color in the graph), you can also call them 'Bad match'."
      ],
      "metadata": {
        "id": "aU8V6hB8nPpT"
      }
    },
    {
      "cell_type": "markdown",
      "source": [
        "Building a Prediction Model\n",
        "\n",
        "Pre-Processing Data\n",
        "Lots of machine learning algorithms require numerical input data, so you need to represent categorical columns in a numerical column. In order to encode this data, you could map each value to a number. e.g. Salary column's value can be represented as low:0, medium:1, and high:2. This process is known as label encoding, and sklearn conveniently will do this for you using LabelEncoder."
      ],
      "metadata": {
        "id": "P7SRpEzNnWAu"
      }
    },
    {
      "cell_type": "code",
      "source": [
        "df # see 'Departments' & 'salary' columns. "
      ],
      "metadata": {
        "id": "mdcu95Rngabi",
        "colab": {
          "base_uri": "https://localhost:8080/",
          "height": 505
        },
        "outputId": "fd223291-edfb-4133-9495-8cc08ad641f1"
      },
      "execution_count": null,
      "outputs": [
        {
          "output_type": "execute_result",
          "data": {
            "text/plain": [
              "      Unnamed: 0  Age  Attrition  BusinessTravel  DailyRate  Department  \\\n",
              "0              0   41          1               2       1102           2   \n",
              "1              1   49          0               1        279           1   \n",
              "2              2   37          1               2       1373           1   \n",
              "3              3   33          0               1       1392           1   \n",
              "4              4   27          0               2        591           1   \n",
              "...          ...  ...        ...             ...        ...         ...   \n",
              "1465        1465   36          0               1        884           1   \n",
              "1466        1466   39          0               2        613           1   \n",
              "1467        1467   27          0               2        155           1   \n",
              "1468        1468   49          0               1       1023           2   \n",
              "1469        1469   34          0               2        628           1   \n",
              "\n",
              "      DistanceFromHome  Education  EducationField  EmployeeNumber  ...  \\\n",
              "0                    1          2               1               1  ...   \n",
              "1                    8          1               1               2  ...   \n",
              "2                    2          2               4               4  ...   \n",
              "3                    3          4               1               5  ...   \n",
              "4                    2          1               3               7  ...   \n",
              "...                ...        ...             ...             ...  ...   \n",
              "1465                23          2               3            2061  ...   \n",
              "1466                 6          1               3            2062  ...   \n",
              "1467                 4          3               1            2064  ...   \n",
              "1468                 2          3               3            2065  ...   \n",
              "1469                 8          3               3            2068  ...   \n",
              "\n",
              "      PerformanceRating  RelationshipSatisfaction  StockOptionLevel  \\\n",
              "0                     3                         1                 0   \n",
              "1                     4                         4                 1   \n",
              "2                     3                         2                 0   \n",
              "3                     3                         3                 0   \n",
              "4                     3                         4                 1   \n",
              "...                 ...                       ...               ...   \n",
              "1465                  3                         3                 1   \n",
              "1466                  3                         1                 1   \n",
              "1467                  4                         2                 1   \n",
              "1468                  3                         4                 0   \n",
              "1469                  3                         1                 0   \n",
              "\n",
              "      TotalWorkingYears  TrainingTimesLastYear  WorkLifeBalance  \\\n",
              "0                     8                      0                1   \n",
              "1                    10                      3                3   \n",
              "2                     7                      3                3   \n",
              "3                     8                      3                3   \n",
              "4                     6                      3                3   \n",
              "...                 ...                    ...              ...   \n",
              "1465                 17                      3                3   \n",
              "1466                  9                      5                3   \n",
              "1467                  6                      0                3   \n",
              "1468                 17                      3                2   \n",
              "1469                  6                      3                4   \n",
              "\n",
              "      YearsAtCompany  YearsInCurrentRole  YearsSinceLastPromotion  \\\n",
              "0                  6                   4                        0   \n",
              "1                 10                   7                        1   \n",
              "2                  0                   0                        0   \n",
              "3                  8                   7                        3   \n",
              "4                  2                   2                        2   \n",
              "...              ...                 ...                      ...   \n",
              "1465               5                   2                        0   \n",
              "1466               7                   7                        1   \n",
              "1467               6                   2                        0   \n",
              "1468               9                   6                        0   \n",
              "1469               4                   3                        1   \n",
              "\n",
              "      YearsWithCurrManager  \n",
              "0                        5  \n",
              "1                        7  \n",
              "2                        0  \n",
              "3                        0  \n",
              "4                        2  \n",
              "...                    ...  \n",
              "1465                     3  \n",
              "1466                     7  \n",
              "1467                     3  \n",
              "1468                     8  \n",
              "1469                     2  \n",
              "\n",
              "[1470 rows x 33 columns]"
            ],
            "text/html": [
              "\n",
              "  <div id=\"df-2abc7b84-31e7-41f4-aded-9bf30bacd0a1\">\n",
              "    <div class=\"colab-df-container\">\n",
              "      <div>\n",
              "<style scoped>\n",
              "    .dataframe tbody tr th:only-of-type {\n",
              "        vertical-align: middle;\n",
              "    }\n",
              "\n",
              "    .dataframe tbody tr th {\n",
              "        vertical-align: top;\n",
              "    }\n",
              "\n",
              "    .dataframe thead th {\n",
              "        text-align: right;\n",
              "    }\n",
              "</style>\n",
              "<table border=\"1\" class=\"dataframe\">\n",
              "  <thead>\n",
              "    <tr style=\"text-align: right;\">\n",
              "      <th></th>\n",
              "      <th>Unnamed: 0</th>\n",
              "      <th>Age</th>\n",
              "      <th>Attrition</th>\n",
              "      <th>BusinessTravel</th>\n",
              "      <th>DailyRate</th>\n",
              "      <th>Department</th>\n",
              "      <th>DistanceFromHome</th>\n",
              "      <th>Education</th>\n",
              "      <th>EducationField</th>\n",
              "      <th>EmployeeNumber</th>\n",
              "      <th>...</th>\n",
              "      <th>PerformanceRating</th>\n",
              "      <th>RelationshipSatisfaction</th>\n",
              "      <th>StockOptionLevel</th>\n",
              "      <th>TotalWorkingYears</th>\n",
              "      <th>TrainingTimesLastYear</th>\n",
              "      <th>WorkLifeBalance</th>\n",
              "      <th>YearsAtCompany</th>\n",
              "      <th>YearsInCurrentRole</th>\n",
              "      <th>YearsSinceLastPromotion</th>\n",
              "      <th>YearsWithCurrManager</th>\n",
              "    </tr>\n",
              "  </thead>\n",
              "  <tbody>\n",
              "    <tr>\n",
              "      <th>0</th>\n",
              "      <td>0</td>\n",
              "      <td>41</td>\n",
              "      <td>1</td>\n",
              "      <td>2</td>\n",
              "      <td>1102</td>\n",
              "      <td>2</td>\n",
              "      <td>1</td>\n",
              "      <td>2</td>\n",
              "      <td>1</td>\n",
              "      <td>1</td>\n",
              "      <td>...</td>\n",
              "      <td>3</td>\n",
              "      <td>1</td>\n",
              "      <td>0</td>\n",
              "      <td>8</td>\n",
              "      <td>0</td>\n",
              "      <td>1</td>\n",
              "      <td>6</td>\n",
              "      <td>4</td>\n",
              "      <td>0</td>\n",
              "      <td>5</td>\n",
              "    </tr>\n",
              "    <tr>\n",
              "      <th>1</th>\n",
              "      <td>1</td>\n",
              "      <td>49</td>\n",
              "      <td>0</td>\n",
              "      <td>1</td>\n",
              "      <td>279</td>\n",
              "      <td>1</td>\n",
              "      <td>8</td>\n",
              "      <td>1</td>\n",
              "      <td>1</td>\n",
              "      <td>2</td>\n",
              "      <td>...</td>\n",
              "      <td>4</td>\n",
              "      <td>4</td>\n",
              "      <td>1</td>\n",
              "      <td>10</td>\n",
              "      <td>3</td>\n",
              "      <td>3</td>\n",
              "      <td>10</td>\n",
              "      <td>7</td>\n",
              "      <td>1</td>\n",
              "      <td>7</td>\n",
              "    </tr>\n",
              "    <tr>\n",
              "      <th>2</th>\n",
              "      <td>2</td>\n",
              "      <td>37</td>\n",
              "      <td>1</td>\n",
              "      <td>2</td>\n",
              "      <td>1373</td>\n",
              "      <td>1</td>\n",
              "      <td>2</td>\n",
              "      <td>2</td>\n",
              "      <td>4</td>\n",
              "      <td>4</td>\n",
              "      <td>...</td>\n",
              "      <td>3</td>\n",
              "      <td>2</td>\n",
              "      <td>0</td>\n",
              "      <td>7</td>\n",
              "      <td>3</td>\n",
              "      <td>3</td>\n",
              "      <td>0</td>\n",
              "      <td>0</td>\n",
              "      <td>0</td>\n",
              "      <td>0</td>\n",
              "    </tr>\n",
              "    <tr>\n",
              "      <th>3</th>\n",
              "      <td>3</td>\n",
              "      <td>33</td>\n",
              "      <td>0</td>\n",
              "      <td>1</td>\n",
              "      <td>1392</td>\n",
              "      <td>1</td>\n",
              "      <td>3</td>\n",
              "      <td>4</td>\n",
              "      <td>1</td>\n",
              "      <td>5</td>\n",
              "      <td>...</td>\n",
              "      <td>3</td>\n",
              "      <td>3</td>\n",
              "      <td>0</td>\n",
              "      <td>8</td>\n",
              "      <td>3</td>\n",
              "      <td>3</td>\n",
              "      <td>8</td>\n",
              "      <td>7</td>\n",
              "      <td>3</td>\n",
              "      <td>0</td>\n",
              "    </tr>\n",
              "    <tr>\n",
              "      <th>4</th>\n",
              "      <td>4</td>\n",
              "      <td>27</td>\n",
              "      <td>0</td>\n",
              "      <td>2</td>\n",
              "      <td>591</td>\n",
              "      <td>1</td>\n",
              "      <td>2</td>\n",
              "      <td>1</td>\n",
              "      <td>3</td>\n",
              "      <td>7</td>\n",
              "      <td>...</td>\n",
              "      <td>3</td>\n",
              "      <td>4</td>\n",
              "      <td>1</td>\n",
              "      <td>6</td>\n",
              "      <td>3</td>\n",
              "      <td>3</td>\n",
              "      <td>2</td>\n",
              "      <td>2</td>\n",
              "      <td>2</td>\n",
              "      <td>2</td>\n",
              "    </tr>\n",
              "    <tr>\n",
              "      <th>...</th>\n",
              "      <td>...</td>\n",
              "      <td>...</td>\n",
              "      <td>...</td>\n",
              "      <td>...</td>\n",
              "      <td>...</td>\n",
              "      <td>...</td>\n",
              "      <td>...</td>\n",
              "      <td>...</td>\n",
              "      <td>...</td>\n",
              "      <td>...</td>\n",
              "      <td>...</td>\n",
              "      <td>...</td>\n",
              "      <td>...</td>\n",
              "      <td>...</td>\n",
              "      <td>...</td>\n",
              "      <td>...</td>\n",
              "      <td>...</td>\n",
              "      <td>...</td>\n",
              "      <td>...</td>\n",
              "      <td>...</td>\n",
              "      <td>...</td>\n",
              "    </tr>\n",
              "    <tr>\n",
              "      <th>1465</th>\n",
              "      <td>1465</td>\n",
              "      <td>36</td>\n",
              "      <td>0</td>\n",
              "      <td>1</td>\n",
              "      <td>884</td>\n",
              "      <td>1</td>\n",
              "      <td>23</td>\n",
              "      <td>2</td>\n",
              "      <td>3</td>\n",
              "      <td>2061</td>\n",
              "      <td>...</td>\n",
              "      <td>3</td>\n",
              "      <td>3</td>\n",
              "      <td>1</td>\n",
              "      <td>17</td>\n",
              "      <td>3</td>\n",
              "      <td>3</td>\n",
              "      <td>5</td>\n",
              "      <td>2</td>\n",
              "      <td>0</td>\n",
              "      <td>3</td>\n",
              "    </tr>\n",
              "    <tr>\n",
              "      <th>1466</th>\n",
              "      <td>1466</td>\n",
              "      <td>39</td>\n",
              "      <td>0</td>\n",
              "      <td>2</td>\n",
              "      <td>613</td>\n",
              "      <td>1</td>\n",
              "      <td>6</td>\n",
              "      <td>1</td>\n",
              "      <td>3</td>\n",
              "      <td>2062</td>\n",
              "      <td>...</td>\n",
              "      <td>3</td>\n",
              "      <td>1</td>\n",
              "      <td>1</td>\n",
              "      <td>9</td>\n",
              "      <td>5</td>\n",
              "      <td>3</td>\n",
              "      <td>7</td>\n",
              "      <td>7</td>\n",
              "      <td>1</td>\n",
              "      <td>7</td>\n",
              "    </tr>\n",
              "    <tr>\n",
              "      <th>1467</th>\n",
              "      <td>1467</td>\n",
              "      <td>27</td>\n",
              "      <td>0</td>\n",
              "      <td>2</td>\n",
              "      <td>155</td>\n",
              "      <td>1</td>\n",
              "      <td>4</td>\n",
              "      <td>3</td>\n",
              "      <td>1</td>\n",
              "      <td>2064</td>\n",
              "      <td>...</td>\n",
              "      <td>4</td>\n",
              "      <td>2</td>\n",
              "      <td>1</td>\n",
              "      <td>6</td>\n",
              "      <td>0</td>\n",
              "      <td>3</td>\n",
              "      <td>6</td>\n",
              "      <td>2</td>\n",
              "      <td>0</td>\n",
              "      <td>3</td>\n",
              "    </tr>\n",
              "    <tr>\n",
              "      <th>1468</th>\n",
              "      <td>1468</td>\n",
              "      <td>49</td>\n",
              "      <td>0</td>\n",
              "      <td>1</td>\n",
              "      <td>1023</td>\n",
              "      <td>2</td>\n",
              "      <td>2</td>\n",
              "      <td>3</td>\n",
              "      <td>3</td>\n",
              "      <td>2065</td>\n",
              "      <td>...</td>\n",
              "      <td>3</td>\n",
              "      <td>4</td>\n",
              "      <td>0</td>\n",
              "      <td>17</td>\n",
              "      <td>3</td>\n",
              "      <td>2</td>\n",
              "      <td>9</td>\n",
              "      <td>6</td>\n",
              "      <td>0</td>\n",
              "      <td>8</td>\n",
              "    </tr>\n",
              "    <tr>\n",
              "      <th>1469</th>\n",
              "      <td>1469</td>\n",
              "      <td>34</td>\n",
              "      <td>0</td>\n",
              "      <td>2</td>\n",
              "      <td>628</td>\n",
              "      <td>1</td>\n",
              "      <td>8</td>\n",
              "      <td>3</td>\n",
              "      <td>3</td>\n",
              "      <td>2068</td>\n",
              "      <td>...</td>\n",
              "      <td>3</td>\n",
              "      <td>1</td>\n",
              "      <td>0</td>\n",
              "      <td>6</td>\n",
              "      <td>3</td>\n",
              "      <td>4</td>\n",
              "      <td>4</td>\n",
              "      <td>3</td>\n",
              "      <td>1</td>\n",
              "      <td>2</td>\n",
              "    </tr>\n",
              "  </tbody>\n",
              "</table>\n",
              "<p>1470 rows × 33 columns</p>\n",
              "</div>\n",
              "      <button class=\"colab-df-convert\" onclick=\"convertToInteractive('df-2abc7b84-31e7-41f4-aded-9bf30bacd0a1')\"\n",
              "              title=\"Convert this dataframe to an interactive table.\"\n",
              "              style=\"display:none;\">\n",
              "        \n",
              "  <svg xmlns=\"http://www.w3.org/2000/svg\" height=\"24px\"viewBox=\"0 0 24 24\"\n",
              "       width=\"24px\">\n",
              "    <path d=\"M0 0h24v24H0V0z\" fill=\"none\"/>\n",
              "    <path d=\"M18.56 5.44l.94 2.06.94-2.06 2.06-.94-2.06-.94-.94-2.06-.94 2.06-2.06.94zm-11 1L8.5 8.5l.94-2.06 2.06-.94-2.06-.94L8.5 2.5l-.94 2.06-2.06.94zm10 10l.94 2.06.94-2.06 2.06-.94-2.06-.94-.94-2.06-.94 2.06-2.06.94z\"/><path d=\"M17.41 7.96l-1.37-1.37c-.4-.4-.92-.59-1.43-.59-.52 0-1.04.2-1.43.59L10.3 9.45l-7.72 7.72c-.78.78-.78 2.05 0 2.83L4 21.41c.39.39.9.59 1.41.59.51 0 1.02-.2 1.41-.59l7.78-7.78 2.81-2.81c.8-.78.8-2.07 0-2.86zM5.41 20L4 18.59l7.72-7.72 1.47 1.35L5.41 20z\"/>\n",
              "  </svg>\n",
              "      </button>\n",
              "      \n",
              "  <style>\n",
              "    .colab-df-container {\n",
              "      display:flex;\n",
              "      flex-wrap:wrap;\n",
              "      gap: 12px;\n",
              "    }\n",
              "\n",
              "    .colab-df-convert {\n",
              "      background-color: #E8F0FE;\n",
              "      border: none;\n",
              "      border-radius: 50%;\n",
              "      cursor: pointer;\n",
              "      display: none;\n",
              "      fill: #1967D2;\n",
              "      height: 32px;\n",
              "      padding: 0 0 0 0;\n",
              "      width: 32px;\n",
              "    }\n",
              "\n",
              "    .colab-df-convert:hover {\n",
              "      background-color: #E2EBFA;\n",
              "      box-shadow: 0px 1px 2px rgba(60, 64, 67, 0.3), 0px 1px 3px 1px rgba(60, 64, 67, 0.15);\n",
              "      fill: #174EA6;\n",
              "    }\n",
              "\n",
              "    [theme=dark] .colab-df-convert {\n",
              "      background-color: #3B4455;\n",
              "      fill: #D2E3FC;\n",
              "    }\n",
              "\n",
              "    [theme=dark] .colab-df-convert:hover {\n",
              "      background-color: #434B5C;\n",
              "      box-shadow: 0px 1px 3px 1px rgba(0, 0, 0, 0.15);\n",
              "      filter: drop-shadow(0px 1px 2px rgba(0, 0, 0, 0.3));\n",
              "      fill: #FFFFFF;\n",
              "    }\n",
              "  </style>\n",
              "\n",
              "      <script>\n",
              "        const buttonEl =\n",
              "          document.querySelector('#df-2abc7b84-31e7-41f4-aded-9bf30bacd0a1 button.colab-df-convert');\n",
              "        buttonEl.style.display =\n",
              "          google.colab.kernel.accessAllowed ? 'block' : 'none';\n",
              "\n",
              "        async function convertToInteractive(key) {\n",
              "          const element = document.querySelector('#df-2abc7b84-31e7-41f4-aded-9bf30bacd0a1');\n",
              "          const dataTable =\n",
              "            await google.colab.kernel.invokeFunction('convertToInteractive',\n",
              "                                                     [key], {});\n",
              "          if (!dataTable) return;\n",
              "\n",
              "          const docLinkHtml = 'Like what you see? Visit the ' +\n",
              "            '<a target=\"_blank\" href=https://colab.research.google.com/notebooks/data_table.ipynb>data table notebook</a>'\n",
              "            + ' to learn more about interactive tables.';\n",
              "          element.innerHTML = '';\n",
              "          dataTable['output_type'] = 'display_data';\n",
              "          await google.colab.output.renderOutput(dataTable, element);\n",
              "          const docLink = document.createElement('div');\n",
              "          docLink.innerHTML = docLinkHtml;\n",
              "          element.appendChild(docLink);\n",
              "        }\n",
              "      </script>\n",
              "    </div>\n",
              "  </div>\n",
              "  "
            ]
          },
          "metadata": {},
          "execution_count": 17
        }
      ]
    },
    {
      "cell_type": "code",
      "source": [
        "n = df.nunique(axis=0) # unique values in dataframe\n",
        "n"
      ],
      "metadata": {
        "id": "YqO9yDmjgvpO",
        "colab": {
          "base_uri": "https://localhost:8080/"
        },
        "outputId": "99124313-00bb-41be-b60a-26341dfb51ac"
      },
      "execution_count": null,
      "outputs": [
        {
          "output_type": "execute_result",
          "data": {
            "text/plain": [
              "Unnamed: 0                  1470\n",
              "Age                           43\n",
              "Attrition                      2\n",
              "BusinessTravel                 3\n",
              "DailyRate                    886\n",
              "Department                     3\n",
              "DistanceFromHome              29\n",
              "Education                      5\n",
              "EducationField                 6\n",
              "EmployeeNumber              1470\n",
              "EnvironmentSatisfaction        4\n",
              "Gender                         2\n",
              "HourlyRate                    71\n",
              "JobInvolvement                 4\n",
              "JobLevel                       5\n",
              "JobRole                        9\n",
              "JobSatisfaction                4\n",
              "MaritalStatus                  3\n",
              "MonthlyIncome               1349\n",
              "MonthlyRate                 1427\n",
              "NumCompaniesWorked            10\n",
              "OverTime                       2\n",
              "PercentSalaryHike             15\n",
              "PerformanceRating              2\n",
              "RelationshipSatisfaction       4\n",
              "StockOptionLevel               4\n",
              "TotalWorkingYears             40\n",
              "TrainingTimesLastYear          7\n",
              "WorkLifeBalance                4\n",
              "YearsAtCompany                37\n",
              "YearsInCurrentRole            19\n",
              "YearsSinceLastPromotion       16\n",
              "YearsWithCurrManager          18\n",
              "dtype: int64"
            ]
          },
          "metadata": {},
          "execution_count": 18
        }
      ]
    },
    {
      "cell_type": "code",
      "source": [
        "\n",
        "#imported preprocessing module and created Label Encoder object to fit and transform \"salary\" and \"Departments \" column into numeric column.\n",
        "# there are 3 levels of 'Salary' ~ \"Low\", \"Medium\" & \"High\"\n",
        "# There are 10 'Department' ~ \"accounting\",\"hr\",\"IT\",\"management\",\"marketing\",\"product_mng\",\"RandD\",\"sales\",suppport\",& \"technical\" \n",
        "# Import LabelEncoder\n",
        "#from sklearn import preprocessing\n",
        "#creating labelEncoder\n",
        "#le = preprocessing.LabelEncoder()\n",
        "# Converting string labels into numbers.\n",
        "#df['salary']=le.fit_transform(df['salary'])\n",
        "#df['Departments ']=le.fit_transform(df['Departments '])"
      ],
      "metadata": {
        "id": "XO2FDHbWnSh3"
      },
      "execution_count": null,
      "outputs": []
    },
    {
      "cell_type": "markdown",
      "source": [
        "Split the dataframe into Training and Testing Set using sklearn\n",
        "\n",
        "train_test_split is a function in Sklearn model selection for splitting data arrays into two subsets: for training data and for testing data. With this function, you don't need to divide the dataset manually.\n",
        "\n",
        "By default, Sklearn train_test_split will make random partitions for the two subsets. However, you can also specify a random state for the operation.\n",
        "\n",
        "Divide the dataset into training and testing set by splitting the HRdf dataset using the function \"train_test_split()\" function. \n",
        "\n",
        "3 parameters are needed as input to the function: features, target, and test_set size, typically 25 to 30% for testing.\n",
        "\n",
        "Use random_state to select records randomly."
      ],
      "metadata": {
        "id": "xy3S_3U5oIH8"
      }
    },
    {
      "cell_type": "code",
      "source": [
        "# create the X and y variable array \n",
        "X=df[['BusinessTravel','NumCompaniesWorked', 'JobLevel', 'JobRole', 'YearsSinceLastPromotion'\n",
        "          ,  'NumCompaniesWorked', 'PerformanceRating', 'StockOptionLevel']] \n",
        "y=df['Attrition'] # the target variable is the 'left' variable ~ put column into 'y'"
      ],
      "metadata": {
        "id": "RU-gMzkYoMU4"
      },
      "execution_count": null,
      "outputs": []
    },
    {
      "cell_type": "code",
      "source": [
        "X"
      ],
      "metadata": {
        "id": "jHcAfu_idmJT",
        "colab": {
          "base_uri": "https://localhost:8080/",
          "height": 424
        },
        "outputId": "a7dea48b-4358-4d2a-e9f3-1a26a9a5d1ff"
      },
      "execution_count": null,
      "outputs": [
        {
          "output_type": "execute_result",
          "data": {
            "text/plain": [
              "      BusinessTravel  NumCompaniesWorked  JobLevel  JobRole  \\\n",
              "0                  2                   8         2        7   \n",
              "1                  1                   1         2        6   \n",
              "2                  2                   6         1        2   \n",
              "3                  1                   1         1        6   \n",
              "4                  2                   9         1        2   \n",
              "...              ...                 ...       ...      ...   \n",
              "1465               1                   4         2        2   \n",
              "1466               2                   4         3        0   \n",
              "1467               2                   1         2        4   \n",
              "1468               1                   2         2        7   \n",
              "1469               2                   2         2        2   \n",
              "\n",
              "      YearsSinceLastPromotion  NumCompaniesWorked  PerformanceRating  \\\n",
              "0                           0                   8                  3   \n",
              "1                           1                   1                  4   \n",
              "2                           0                   6                  3   \n",
              "3                           3                   1                  3   \n",
              "4                           2                   9                  3   \n",
              "...                       ...                 ...                ...   \n",
              "1465                        0                   4                  3   \n",
              "1466                        1                   4                  3   \n",
              "1467                        0                   1                  4   \n",
              "1468                        0                   2                  3   \n",
              "1469                        1                   2                  3   \n",
              "\n",
              "      StockOptionLevel  \n",
              "0                    0  \n",
              "1                    1  \n",
              "2                    0  \n",
              "3                    0  \n",
              "4                    1  \n",
              "...                ...  \n",
              "1465                 1  \n",
              "1466                 1  \n",
              "1467                 1  \n",
              "1468                 0  \n",
              "1469                 0  \n",
              "\n",
              "[1470 rows x 8 columns]"
            ],
            "text/html": [
              "\n",
              "  <div id=\"df-b10882bf-a005-419c-9d30-f0c606d6c082\">\n",
              "    <div class=\"colab-df-container\">\n",
              "      <div>\n",
              "<style scoped>\n",
              "    .dataframe tbody tr th:only-of-type {\n",
              "        vertical-align: middle;\n",
              "    }\n",
              "\n",
              "    .dataframe tbody tr th {\n",
              "        vertical-align: top;\n",
              "    }\n",
              "\n",
              "    .dataframe thead th {\n",
              "        text-align: right;\n",
              "    }\n",
              "</style>\n",
              "<table border=\"1\" class=\"dataframe\">\n",
              "  <thead>\n",
              "    <tr style=\"text-align: right;\">\n",
              "      <th></th>\n",
              "      <th>BusinessTravel</th>\n",
              "      <th>NumCompaniesWorked</th>\n",
              "      <th>JobLevel</th>\n",
              "      <th>JobRole</th>\n",
              "      <th>YearsSinceLastPromotion</th>\n",
              "      <th>NumCompaniesWorked</th>\n",
              "      <th>PerformanceRating</th>\n",
              "      <th>StockOptionLevel</th>\n",
              "    </tr>\n",
              "  </thead>\n",
              "  <tbody>\n",
              "    <tr>\n",
              "      <th>0</th>\n",
              "      <td>2</td>\n",
              "      <td>8</td>\n",
              "      <td>2</td>\n",
              "      <td>7</td>\n",
              "      <td>0</td>\n",
              "      <td>8</td>\n",
              "      <td>3</td>\n",
              "      <td>0</td>\n",
              "    </tr>\n",
              "    <tr>\n",
              "      <th>1</th>\n",
              "      <td>1</td>\n",
              "      <td>1</td>\n",
              "      <td>2</td>\n",
              "      <td>6</td>\n",
              "      <td>1</td>\n",
              "      <td>1</td>\n",
              "      <td>4</td>\n",
              "      <td>1</td>\n",
              "    </tr>\n",
              "    <tr>\n",
              "      <th>2</th>\n",
              "      <td>2</td>\n",
              "      <td>6</td>\n",
              "      <td>1</td>\n",
              "      <td>2</td>\n",
              "      <td>0</td>\n",
              "      <td>6</td>\n",
              "      <td>3</td>\n",
              "      <td>0</td>\n",
              "    </tr>\n",
              "    <tr>\n",
              "      <th>3</th>\n",
              "      <td>1</td>\n",
              "      <td>1</td>\n",
              "      <td>1</td>\n",
              "      <td>6</td>\n",
              "      <td>3</td>\n",
              "      <td>1</td>\n",
              "      <td>3</td>\n",
              "      <td>0</td>\n",
              "    </tr>\n",
              "    <tr>\n",
              "      <th>4</th>\n",
              "      <td>2</td>\n",
              "      <td>9</td>\n",
              "      <td>1</td>\n",
              "      <td>2</td>\n",
              "      <td>2</td>\n",
              "      <td>9</td>\n",
              "      <td>3</td>\n",
              "      <td>1</td>\n",
              "    </tr>\n",
              "    <tr>\n",
              "      <th>...</th>\n",
              "      <td>...</td>\n",
              "      <td>...</td>\n",
              "      <td>...</td>\n",
              "      <td>...</td>\n",
              "      <td>...</td>\n",
              "      <td>...</td>\n",
              "      <td>...</td>\n",
              "      <td>...</td>\n",
              "    </tr>\n",
              "    <tr>\n",
              "      <th>1465</th>\n",
              "      <td>1</td>\n",
              "      <td>4</td>\n",
              "      <td>2</td>\n",
              "      <td>2</td>\n",
              "      <td>0</td>\n",
              "      <td>4</td>\n",
              "      <td>3</td>\n",
              "      <td>1</td>\n",
              "    </tr>\n",
              "    <tr>\n",
              "      <th>1466</th>\n",
              "      <td>2</td>\n",
              "      <td>4</td>\n",
              "      <td>3</td>\n",
              "      <td>0</td>\n",
              "      <td>1</td>\n",
              "      <td>4</td>\n",
              "      <td>3</td>\n",
              "      <td>1</td>\n",
              "    </tr>\n",
              "    <tr>\n",
              "      <th>1467</th>\n",
              "      <td>2</td>\n",
              "      <td>1</td>\n",
              "      <td>2</td>\n",
              "      <td>4</td>\n",
              "      <td>0</td>\n",
              "      <td>1</td>\n",
              "      <td>4</td>\n",
              "      <td>1</td>\n",
              "    </tr>\n",
              "    <tr>\n",
              "      <th>1468</th>\n",
              "      <td>1</td>\n",
              "      <td>2</td>\n",
              "      <td>2</td>\n",
              "      <td>7</td>\n",
              "      <td>0</td>\n",
              "      <td>2</td>\n",
              "      <td>3</td>\n",
              "      <td>0</td>\n",
              "    </tr>\n",
              "    <tr>\n",
              "      <th>1469</th>\n",
              "      <td>2</td>\n",
              "      <td>2</td>\n",
              "      <td>2</td>\n",
              "      <td>2</td>\n",
              "      <td>1</td>\n",
              "      <td>2</td>\n",
              "      <td>3</td>\n",
              "      <td>0</td>\n",
              "    </tr>\n",
              "  </tbody>\n",
              "</table>\n",
              "<p>1470 rows × 8 columns</p>\n",
              "</div>\n",
              "      <button class=\"colab-df-convert\" onclick=\"convertToInteractive('df-b10882bf-a005-419c-9d30-f0c606d6c082')\"\n",
              "              title=\"Convert this dataframe to an interactive table.\"\n",
              "              style=\"display:none;\">\n",
              "        \n",
              "  <svg xmlns=\"http://www.w3.org/2000/svg\" height=\"24px\"viewBox=\"0 0 24 24\"\n",
              "       width=\"24px\">\n",
              "    <path d=\"M0 0h24v24H0V0z\" fill=\"none\"/>\n",
              "    <path d=\"M18.56 5.44l.94 2.06.94-2.06 2.06-.94-2.06-.94-.94-2.06-.94 2.06-2.06.94zm-11 1L8.5 8.5l.94-2.06 2.06-.94-2.06-.94L8.5 2.5l-.94 2.06-2.06.94zm10 10l.94 2.06.94-2.06 2.06-.94-2.06-.94-.94-2.06-.94 2.06-2.06.94z\"/><path d=\"M17.41 7.96l-1.37-1.37c-.4-.4-.92-.59-1.43-.59-.52 0-1.04.2-1.43.59L10.3 9.45l-7.72 7.72c-.78.78-.78 2.05 0 2.83L4 21.41c.39.39.9.59 1.41.59.51 0 1.02-.2 1.41-.59l7.78-7.78 2.81-2.81c.8-.78.8-2.07 0-2.86zM5.41 20L4 18.59l7.72-7.72 1.47 1.35L5.41 20z\"/>\n",
              "  </svg>\n",
              "      </button>\n",
              "      \n",
              "  <style>\n",
              "    .colab-df-container {\n",
              "      display:flex;\n",
              "      flex-wrap:wrap;\n",
              "      gap: 12px;\n",
              "    }\n",
              "\n",
              "    .colab-df-convert {\n",
              "      background-color: #E8F0FE;\n",
              "      border: none;\n",
              "      border-radius: 50%;\n",
              "      cursor: pointer;\n",
              "      display: none;\n",
              "      fill: #1967D2;\n",
              "      height: 32px;\n",
              "      padding: 0 0 0 0;\n",
              "      width: 32px;\n",
              "    }\n",
              "\n",
              "    .colab-df-convert:hover {\n",
              "      background-color: #E2EBFA;\n",
              "      box-shadow: 0px 1px 2px rgba(60, 64, 67, 0.3), 0px 1px 3px 1px rgba(60, 64, 67, 0.15);\n",
              "      fill: #174EA6;\n",
              "    }\n",
              "\n",
              "    [theme=dark] .colab-df-convert {\n",
              "      background-color: #3B4455;\n",
              "      fill: #D2E3FC;\n",
              "    }\n",
              "\n",
              "    [theme=dark] .colab-df-convert:hover {\n",
              "      background-color: #434B5C;\n",
              "      box-shadow: 0px 1px 3px 1px rgba(0, 0, 0, 0.15);\n",
              "      filter: drop-shadow(0px 1px 2px rgba(0, 0, 0, 0.3));\n",
              "      fill: #FFFFFF;\n",
              "    }\n",
              "  </style>\n",
              "\n",
              "      <script>\n",
              "        const buttonEl =\n",
              "          document.querySelector('#df-b10882bf-a005-419c-9d30-f0c606d6c082 button.colab-df-convert');\n",
              "        buttonEl.style.display =\n",
              "          google.colab.kernel.accessAllowed ? 'block' : 'none';\n",
              "\n",
              "        async function convertToInteractive(key) {\n",
              "          const element = document.querySelector('#df-b10882bf-a005-419c-9d30-f0c606d6c082');\n",
              "          const dataTable =\n",
              "            await google.colab.kernel.invokeFunction('convertToInteractive',\n",
              "                                                     [key], {});\n",
              "          if (!dataTable) return;\n",
              "\n",
              "          const docLinkHtml = 'Like what you see? Visit the ' +\n",
              "            '<a target=\"_blank\" href=https://colab.research.google.com/notebooks/data_table.ipynb>data table notebook</a>'\n",
              "            + ' to learn more about interactive tables.';\n",
              "          element.innerHTML = '';\n",
              "          dataTable['output_type'] = 'display_data';\n",
              "          await google.colab.output.renderOutput(dataTable, element);\n",
              "          const docLink = document.createElement('div');\n",
              "          docLink.innerHTML = docLinkHtml;\n",
              "          element.appendChild(docLink);\n",
              "        }\n",
              "      </script>\n",
              "    </div>\n",
              "  </div>\n",
              "  "
            ]
          },
          "metadata": {},
          "execution_count": 20
        }
      ]
    },
    {
      "cell_type": "code",
      "source": [
        "y"
      ],
      "metadata": {
        "id": "Q2WYCZx_fMCQ",
        "colab": {
          "base_uri": "https://localhost:8080/"
        },
        "outputId": "31f2ef1c-bb42-4423-f3c5-c15bd25fea49"
      },
      "execution_count": null,
      "outputs": [
        {
          "output_type": "execute_result",
          "data": {
            "text/plain": [
              "0       1\n",
              "1       0\n",
              "2       1\n",
              "3       0\n",
              "4       0\n",
              "       ..\n",
              "1465    0\n",
              "1466    0\n",
              "1467    0\n",
              "1468    0\n",
              "1469    0\n",
              "Name: Attrition, Length: 1470, dtype: int64"
            ]
          },
          "metadata": {},
          "execution_count": 21
        }
      ]
    },
    {
      "cell_type": "code",
      "source": [
        "# Import train_test_split function\n",
        "from sklearn.model_selection import train_test_split\n",
        "\n",
        "# Split dataset into training set and test set\n",
        "X_train, X_test, y_train, y_test = train_test_split(X, y, test_size=0.3, random_state=42)  # 70% training and 30% test"
      ],
      "metadata": {
        "id": "x2FHlpHxoW30"
      },
      "execution_count": null,
      "outputs": []
    },
    {
      "cell_type": "code",
      "source": [
        "X_test"
      ],
      "metadata": {
        "id": "RK2pCC7IFTcU",
        "colab": {
          "base_uri": "https://localhost:8080/",
          "height": 424
        },
        "outputId": "d34dc183-8b27-4816-e31f-fba6167d2160"
      },
      "execution_count": null,
      "outputs": [
        {
          "output_type": "execute_result",
          "data": {
            "text/plain": [
              "      BusinessTravel  NumCompaniesWorked  JobLevel  JobRole  \\\n",
              "1041               2                   0         2        7   \n",
              "184                2                   1         2        4   \n",
              "1222               2                   1         1        1   \n",
              "67                 2                   2         3        6   \n",
              "220                2                   8         2        2   \n",
              "...              ...                 ...       ...      ...   \n",
              "1047               1                   0         2        7   \n",
              "331                0                   0         2        7   \n",
              "323                2                   5         1        6   \n",
              "654                2                   8         2        1   \n",
              "1110               2                   1         1        2   \n",
              "\n",
              "      YearsSinceLastPromotion  NumCompaniesWorked  PerformanceRating  \\\n",
              "1041                        1                   0                  3   \n",
              "184                         1                   1                  3   \n",
              "1222                        0                   1                  3   \n",
              "67                          0                   2                  3   \n",
              "220                         3                   8                  3   \n",
              "...                       ...                 ...                ...   \n",
              "1047                        0                   0                  3   \n",
              "331                         1                   0                  3   \n",
              "323                         2                   5                  3   \n",
              "654                         0                   8                  3   \n",
              "1110                        0                   1                  3   \n",
              "\n",
              "      StockOptionLevel  \n",
              "1041                 0  \n",
              "184                  2  \n",
              "1222                 1  \n",
              "67                   1  \n",
              "220                  0  \n",
              "...                ...  \n",
              "1047                 2  \n",
              "331                  1  \n",
              "323                  0  \n",
              "654                  2  \n",
              "1110                 1  \n",
              "\n",
              "[441 rows x 8 columns]"
            ],
            "text/html": [
              "\n",
              "  <div id=\"df-dcf9785e-19d6-4c81-8c94-7b632af0a3c1\">\n",
              "    <div class=\"colab-df-container\">\n",
              "      <div>\n",
              "<style scoped>\n",
              "    .dataframe tbody tr th:only-of-type {\n",
              "        vertical-align: middle;\n",
              "    }\n",
              "\n",
              "    .dataframe tbody tr th {\n",
              "        vertical-align: top;\n",
              "    }\n",
              "\n",
              "    .dataframe thead th {\n",
              "        text-align: right;\n",
              "    }\n",
              "</style>\n",
              "<table border=\"1\" class=\"dataframe\">\n",
              "  <thead>\n",
              "    <tr style=\"text-align: right;\">\n",
              "      <th></th>\n",
              "      <th>BusinessTravel</th>\n",
              "      <th>NumCompaniesWorked</th>\n",
              "      <th>JobLevel</th>\n",
              "      <th>JobRole</th>\n",
              "      <th>YearsSinceLastPromotion</th>\n",
              "      <th>NumCompaniesWorked</th>\n",
              "      <th>PerformanceRating</th>\n",
              "      <th>StockOptionLevel</th>\n",
              "    </tr>\n",
              "  </thead>\n",
              "  <tbody>\n",
              "    <tr>\n",
              "      <th>1041</th>\n",
              "      <td>2</td>\n",
              "      <td>0</td>\n",
              "      <td>2</td>\n",
              "      <td>7</td>\n",
              "      <td>1</td>\n",
              "      <td>0</td>\n",
              "      <td>3</td>\n",
              "      <td>0</td>\n",
              "    </tr>\n",
              "    <tr>\n",
              "      <th>184</th>\n",
              "      <td>2</td>\n",
              "      <td>1</td>\n",
              "      <td>2</td>\n",
              "      <td>4</td>\n",
              "      <td>1</td>\n",
              "      <td>1</td>\n",
              "      <td>3</td>\n",
              "      <td>2</td>\n",
              "    </tr>\n",
              "    <tr>\n",
              "      <th>1222</th>\n",
              "      <td>2</td>\n",
              "      <td>1</td>\n",
              "      <td>1</td>\n",
              "      <td>1</td>\n",
              "      <td>0</td>\n",
              "      <td>1</td>\n",
              "      <td>3</td>\n",
              "      <td>1</td>\n",
              "    </tr>\n",
              "    <tr>\n",
              "      <th>67</th>\n",
              "      <td>2</td>\n",
              "      <td>2</td>\n",
              "      <td>3</td>\n",
              "      <td>6</td>\n",
              "      <td>0</td>\n",
              "      <td>2</td>\n",
              "      <td>3</td>\n",
              "      <td>1</td>\n",
              "    </tr>\n",
              "    <tr>\n",
              "      <th>220</th>\n",
              "      <td>2</td>\n",
              "      <td>8</td>\n",
              "      <td>2</td>\n",
              "      <td>2</td>\n",
              "      <td>3</td>\n",
              "      <td>8</td>\n",
              "      <td>3</td>\n",
              "      <td>0</td>\n",
              "    </tr>\n",
              "    <tr>\n",
              "      <th>...</th>\n",
              "      <td>...</td>\n",
              "      <td>...</td>\n",
              "      <td>...</td>\n",
              "      <td>...</td>\n",
              "      <td>...</td>\n",
              "      <td>...</td>\n",
              "      <td>...</td>\n",
              "      <td>...</td>\n",
              "    </tr>\n",
              "    <tr>\n",
              "      <th>1047</th>\n",
              "      <td>1</td>\n",
              "      <td>0</td>\n",
              "      <td>2</td>\n",
              "      <td>7</td>\n",
              "      <td>0</td>\n",
              "      <td>0</td>\n",
              "      <td>3</td>\n",
              "      <td>2</td>\n",
              "    </tr>\n",
              "    <tr>\n",
              "      <th>331</th>\n",
              "      <td>0</td>\n",
              "      <td>0</td>\n",
              "      <td>2</td>\n",
              "      <td>7</td>\n",
              "      <td>1</td>\n",
              "      <td>0</td>\n",
              "      <td>3</td>\n",
              "      <td>1</td>\n",
              "    </tr>\n",
              "    <tr>\n",
              "      <th>323</th>\n",
              "      <td>2</td>\n",
              "      <td>5</td>\n",
              "      <td>1</td>\n",
              "      <td>6</td>\n",
              "      <td>2</td>\n",
              "      <td>5</td>\n",
              "      <td>3</td>\n",
              "      <td>0</td>\n",
              "    </tr>\n",
              "    <tr>\n",
              "      <th>654</th>\n",
              "      <td>2</td>\n",
              "      <td>8</td>\n",
              "      <td>2</td>\n",
              "      <td>1</td>\n",
              "      <td>0</td>\n",
              "      <td>8</td>\n",
              "      <td>3</td>\n",
              "      <td>2</td>\n",
              "    </tr>\n",
              "    <tr>\n",
              "      <th>1110</th>\n",
              "      <td>2</td>\n",
              "      <td>1</td>\n",
              "      <td>1</td>\n",
              "      <td>2</td>\n",
              "      <td>0</td>\n",
              "      <td>1</td>\n",
              "      <td>3</td>\n",
              "      <td>1</td>\n",
              "    </tr>\n",
              "  </tbody>\n",
              "</table>\n",
              "<p>441 rows × 8 columns</p>\n",
              "</div>\n",
              "      <button class=\"colab-df-convert\" onclick=\"convertToInteractive('df-dcf9785e-19d6-4c81-8c94-7b632af0a3c1')\"\n",
              "              title=\"Convert this dataframe to an interactive table.\"\n",
              "              style=\"display:none;\">\n",
              "        \n",
              "  <svg xmlns=\"http://www.w3.org/2000/svg\" height=\"24px\"viewBox=\"0 0 24 24\"\n",
              "       width=\"24px\">\n",
              "    <path d=\"M0 0h24v24H0V0z\" fill=\"none\"/>\n",
              "    <path d=\"M18.56 5.44l.94 2.06.94-2.06 2.06-.94-2.06-.94-.94-2.06-.94 2.06-2.06.94zm-11 1L8.5 8.5l.94-2.06 2.06-.94-2.06-.94L8.5 2.5l-.94 2.06-2.06.94zm10 10l.94 2.06.94-2.06 2.06-.94-2.06-.94-.94-2.06-.94 2.06-2.06.94z\"/><path d=\"M17.41 7.96l-1.37-1.37c-.4-.4-.92-.59-1.43-.59-.52 0-1.04.2-1.43.59L10.3 9.45l-7.72 7.72c-.78.78-.78 2.05 0 2.83L4 21.41c.39.39.9.59 1.41.59.51 0 1.02-.2 1.41-.59l7.78-7.78 2.81-2.81c.8-.78.8-2.07 0-2.86zM5.41 20L4 18.59l7.72-7.72 1.47 1.35L5.41 20z\"/>\n",
              "  </svg>\n",
              "      </button>\n",
              "      \n",
              "  <style>\n",
              "    .colab-df-container {\n",
              "      display:flex;\n",
              "      flex-wrap:wrap;\n",
              "      gap: 12px;\n",
              "    }\n",
              "\n",
              "    .colab-df-convert {\n",
              "      background-color: #E8F0FE;\n",
              "      border: none;\n",
              "      border-radius: 50%;\n",
              "      cursor: pointer;\n",
              "      display: none;\n",
              "      fill: #1967D2;\n",
              "      height: 32px;\n",
              "      padding: 0 0 0 0;\n",
              "      width: 32px;\n",
              "    }\n",
              "\n",
              "    .colab-df-convert:hover {\n",
              "      background-color: #E2EBFA;\n",
              "      box-shadow: 0px 1px 2px rgba(60, 64, 67, 0.3), 0px 1px 3px 1px rgba(60, 64, 67, 0.15);\n",
              "      fill: #174EA6;\n",
              "    }\n",
              "\n",
              "    [theme=dark] .colab-df-convert {\n",
              "      background-color: #3B4455;\n",
              "      fill: #D2E3FC;\n",
              "    }\n",
              "\n",
              "    [theme=dark] .colab-df-convert:hover {\n",
              "      background-color: #434B5C;\n",
              "      box-shadow: 0px 1px 3px 1px rgba(0, 0, 0, 0.15);\n",
              "      filter: drop-shadow(0px 1px 2px rgba(0, 0, 0, 0.3));\n",
              "      fill: #FFFFFF;\n",
              "    }\n",
              "  </style>\n",
              "\n",
              "      <script>\n",
              "        const buttonEl =\n",
              "          document.querySelector('#df-dcf9785e-19d6-4c81-8c94-7b632af0a3c1 button.colab-df-convert');\n",
              "        buttonEl.style.display =\n",
              "          google.colab.kernel.accessAllowed ? 'block' : 'none';\n",
              "\n",
              "        async function convertToInteractive(key) {\n",
              "          const element = document.querySelector('#df-dcf9785e-19d6-4c81-8c94-7b632af0a3c1');\n",
              "          const dataTable =\n",
              "            await google.colab.kernel.invokeFunction('convertToInteractive',\n",
              "                                                     [key], {});\n",
              "          if (!dataTable) return;\n",
              "\n",
              "          const docLinkHtml = 'Like what you see? Visit the ' +\n",
              "            '<a target=\"_blank\" href=https://colab.research.google.com/notebooks/data_table.ipynb>data table notebook</a>'\n",
              "            + ' to learn more about interactive tables.';\n",
              "          element.innerHTML = '';\n",
              "          dataTable['output_type'] = 'display_data';\n",
              "          await google.colab.output.renderOutput(dataTable, element);\n",
              "          const docLink = document.createElement('div');\n",
              "          docLink.innerHTML = docLinkHtml;\n",
              "          element.appendChild(docLink);\n",
              "        }\n",
              "      </script>\n",
              "    </div>\n",
              "  </div>\n",
              "  "
            ]
          },
          "metadata": {},
          "execution_count": 23
        }
      ]
    },
    {
      "cell_type": "markdown",
      "source": [
        "**Model Building **"
      ],
      "metadata": {
        "id": "7M0egqvhf2S-"
      }
    },
    {
      "cell_type": "markdown",
      "source": [
        "**There are a number of classification models:**\n",
        "1.   logistic regression \n",
        "2.   decision tree\n",
        "1.   random forest\n",
        "1.   gradient-boosted tree\n",
        "2.   multilayer perceptron\n",
        "2.   one-vs-rest\n",
        "1.   Naive Bayes\n",
        "1.   Support Vector Machine (SVM)\n",
        "\n",
        "\n",
        "\n",
        "Below are three that are demostrated ('Gradient Boosting' and 'Logistic Regression', SVM)"
      ],
      "metadata": {
        "id": "8ritAh8r0j7A"
      }
    },
    {
      "cell_type": "markdown",
      "source": [
        "To use the various Classifier. \n",
        "First, import the Classifier module and create classifier object using Classifier() function. \n",
        "Then, fit your model on training set using fit() and perform prediction on the test set using predict()."
      ],
      "metadata": {
        "id": "_NFnr3V10VNO"
      }
    },
    {
      "cell_type": "markdown",
      "source": [
        "***Logistic Regression***\n",
        "\n",
        "Logistic Regression to predict churn. First, import the Logistic Regression module and create Logistic Regression object using LogisticRegression(solver='lbfgs', max_iter=1000) function. Then, fit your model on train set using fit() and perform prediction on the test set using predict()."
      ],
      "metadata": {
        "id": "HxJcjaw8fkbz"
      }
    },
    {
      "cell_type": "code",
      "source": [
        "# Use Logistic Regression to predict\n",
        "# Import the Scikit Learn Logistic Regression module \n",
        "from sklearn.linear_model import LogisticRegression\n",
        "\n",
        "#Create Logistic regression Classifier\n",
        "lg = LogisticRegression(solver='lbfgs', max_iter=1000)\n",
        "\n",
        "#Train the model using the training sets\n",
        "lg.fit(X_train,y_train) \n",
        "\n",
        "#Predict the response for test dataset\n",
        "y_pred = lg.predict(X_test)"
      ],
      "metadata": {
        "id": "3QnMNsHXfjIr"
      },
      "execution_count": null,
      "outputs": []
    },
    {
      "cell_type": "code",
      "source": [
        "#Import scikit-learn metrics module for accuracy calculation\n",
        "from sklearn import metrics\n",
        "# Model Accuracy, how often is the classifier correct?\n",
        "print(\"Accuracy:\",metrics.accuracy_score(y_test, y_pred))\n",
        "# Model Precision\n",
        "print(\"Precision:\",metrics.precision_score(y_test, y_pred))\n",
        "# Model Recall\n",
        "print(\"Recall:\",metrics.recall_score(y_test, y_pred))"
      ],
      "metadata": {
        "colab": {
          "base_uri": "https://localhost:8080/"
        },
        "id": "9G0JP7o2n-tx",
        "outputId": "ba23c5c9-ed7f-4799-c6ab-ae3d516766d7"
      },
      "execution_count": null,
      "outputs": [
        {
          "output_type": "stream",
          "name": "stdout",
          "text": [
            "Accuracy: 0.8594104308390023\n",
            "Precision: 0.0\n",
            "Recall: 0.0\n"
          ]
        }
      ]
    },
    {
      "cell_type": "code",
      "source": [
        "from sklearn.metrics import classification_report, confusion_matrix\n",
        "import itertools\n",
        "def plot_confusion_matrix(cm, classes,\n",
        "                          normalize=True,\n",
        "                          title='Confusion matrix',\n",
        "                          cmap=plt.cm.Blues):\n",
        "    \"\"\"\n",
        "    This function prints and plots the confusion matrix.\n",
        "    Normalization can be applied by setting `normalize=True` above.\n",
        "    \"\"\"\n",
        "    if normalize:\n",
        "        cm = cm.astype('float') / cm.sum(axis=1)[:, np.newaxis]\n",
        "        print(\"Normalized confusion matrix\")\n",
        "    else:\n",
        "        print('Confusion matrix, without normalization')\n",
        "\n",
        "    print(cm)\n",
        "\n",
        "    plt.imshow(cm, interpolation='nearest', cmap=cmap)\n",
        "    plt.title(title)\n",
        "    plt.colorbar()\n",
        "    tick_marks = np.arange(len(classes))\n",
        "    plt.xticks(tick_marks, classes, rotation=45)\n",
        "    plt.yticks(tick_marks, classes)\n",
        "\n",
        "    fmt = '.2f' if normalize else 'd'\n",
        "    thresh = cm.max() / 2.\n",
        "    for i, j in itertools.product(range(cm.shape[0]), range(cm.shape[1])):\n",
        "        plt.text(j, i, format(cm[i, j], fmt),\n",
        "                 horizontalalignment=\"center\",\n",
        "                 color=\"white\" if cm[i, j] > thresh else \"black\")\n",
        "\n",
        "    plt.tight_layout()\n",
        "    plt.ylabel('True label')\n",
        "    plt.xlabel('Predicted label')\n",
        "print(confusion_matrix(y_test, y_pred, labels=[1,0]))"
      ],
      "metadata": {
        "colab": {
          "base_uri": "https://localhost:8080/"
        },
        "id": "8aUNt6X9MCrW",
        "outputId": "bd567f3d-7bfd-4d23-b492-e1bb73fbda79"
      },
      "execution_count": null,
      "outputs": [
        {
          "output_type": "stream",
          "name": "stdout",
          "text": [
            "[[  0  61]\n",
            " [  1 379]]\n"
          ]
        }
      ]
    },
    {
      "cell_type": "code",
      "source": [
        "# Compute confusion matrix\n",
        "cnf_matrix = confusion_matrix(y_test, y_pred, labels=[1,0])\n",
        "np.set_printoptions(precision=2)"
      ],
      "metadata": {
        "id": "BoSnvx2AMQ26"
      },
      "execution_count": null,
      "outputs": []
    },
    {
      "cell_type": "code",
      "source": [
        "#Plot non-normalized confusion matrix\n",
        "plt.figure()\n",
        "plot_confusion_matrix(cnf_matrix, classes=['churn=1','churn=0'],normalize= False,  title='Confusion matrix')"
      ],
      "metadata": {
        "colab": {
          "base_uri": "https://localhost:8080/",
          "height": 365
        },
        "id": "3qfSdxnnMe2F",
        "outputId": "720eacc6-ebd4-459c-97fa-7a40651bf71d"
      },
      "execution_count": null,
      "outputs": [
        {
          "output_type": "stream",
          "name": "stdout",
          "text": [
            "Confusion matrix, without normalization\n",
            "[[  0  61]\n",
            " [  1 379]]\n"
          ]
        },
        {
          "output_type": "display_data",
          "data": {
            "text/plain": [
              "<Figure size 432x288 with 2 Axes>"
            ],
            "image/png": "[encoded data removed]"
          },
          "metadata": {
            "needs_background": "light"
          }
        }
      ]
    },
    {
      "cell_type": "markdown",
      "source": [
        "**Decision Tree**"
      ],
      "metadata": {
        "id": "ENQhQNPxy2WX"
      }
    },
    {
      "cell_type": "code",
      "source": [
        "#Import DecisionTree Classifier model\n",
        "from sklearn.tree import DecisionTreeClassifier\n",
        "dt = DecisionTreeClassifier()\n",
        "dt.fit(X_train,y_train) \n",
        "y_pred = dt.predict(X_test)\n"
      ],
      "metadata": {
        "id": "2v61lxN4yJJN"
      },
      "execution_count": null,
      "outputs": []
    },
    {
      "cell_type": "code",
      "source": [
        "#Import scikit-learn metrics module for accuracy calculation\n",
        "from sklearn import metrics\n",
        "# Model Accuracy, how often is the classifier correct?\n",
        "print(\"Accuracy:\",metrics.accuracy_score(y_test, y_pred))\n",
        "# Model Precision\n",
        "print(\"Precision:\",metrics.precision_score(y_test, y_pred))\n",
        "# Model Recall\n",
        "print(\"Recall:\",metrics.recall_score(y_test, y_pred))"
      ],
      "metadata": {
        "colab": {
          "base_uri": "https://localhost:8080/"
        },
        "id": "4PVeM4kRoDno",
        "outputId": "c4cc0d5f-cb26-4c7f-9ac1-45d8223dc836"
      },
      "execution_count": null,
      "outputs": [
        {
          "output_type": "stream",
          "name": "stdout",
          "text": [
            "Accuracy: 0.782312925170068\n",
            "Precision: 0.1568627450980392\n",
            "Recall: 0.13114754098360656\n"
          ]
        }
      ]
    },
    {
      "cell_type": "code",
      "source": [
        "from sklearn.metrics import classification_report, confusion_matrix\n",
        "import itertools\n",
        "def plot_confusion_matrix(cm, classes,\n",
        "                          normalize=True,\n",
        "                          title='Confusion matrix',\n",
        "                          cmap=plt.cm.Blues):\n",
        "    \"\"\"\n",
        "    This function prints and plots the confusion matrix.\n",
        "    Normalization can be applied by setting `normalize=True` above.\n",
        "    \"\"\"\n",
        "    if normalize:\n",
        "        cm = cm.astype('float') / cm.sum(axis=1)[:, np.newaxis]\n",
        "        print(\"Normalized confusion matrix\")\n",
        "    else:\n",
        "        print('Confusion matrix, without normalization')\n",
        "\n",
        "    print(cm)\n",
        "\n",
        "    plt.imshow(cm, interpolation='nearest', cmap=cmap)\n",
        "    plt.title(title)\n",
        "    plt.colorbar()\n",
        "    tick_marks = np.arange(len(classes))\n",
        "    plt.xticks(tick_marks, classes, rotation=45)\n",
        "    plt.yticks(tick_marks, classes)\n",
        "\n",
        "    fmt = '.2f' if normalize else 'd'\n",
        "    thresh = cm.max() / 2.\n",
        "    for i, j in itertools.product(range(cm.shape[0]), range(cm.shape[1])):\n",
        "        plt.text(j, i, format(cm[i, j], fmt),\n",
        "                 horizontalalignment=\"center\",\n",
        "                 color=\"white\" if cm[i, j] > thresh else \"black\")\n",
        "\n",
        "    plt.tight_layout()\n",
        "    plt.ylabel('True label')\n",
        "    plt.xlabel('Predicted label')\n",
        "print(confusion_matrix(y_test, y_pred, labels=[1,0]))"
      ],
      "metadata": {
        "colab": {
          "base_uri": "https://localhost:8080/"
        },
        "id": "4Q4YzoqTMEjO",
        "outputId": "3d6d0fb3-04e2-4781-d762-5eaf477feb31"
      },
      "execution_count": null,
      "outputs": [
        {
          "output_type": "stream",
          "name": "stdout",
          "text": [
            "[[  8  53]\n",
            " [ 43 337]]\n"
          ]
        }
      ]
    },
    {
      "cell_type": "code",
      "source": [
        "# Compute confusion matrix\n",
        "cnf_matrix = confusion_matrix(y_test, y_pred, labels=[1,0])\n",
        "np.set_printoptions(precision=2)"
      ],
      "metadata": {
        "id": "zcumMQWtMSS1"
      },
      "execution_count": null,
      "outputs": []
    },
    {
      "cell_type": "code",
      "source": [
        "#Plot non-normalized confusion matrix\n",
        "plt.figure()\n",
        "plot_confusion_matrix(cnf_matrix, classes=['churn=1','churn=0'],normalize= False,  title='Confusion matrix')"
      ],
      "metadata": {
        "colab": {
          "base_uri": "https://localhost:8080/",
          "height": 365
        },
        "id": "DtVC2VnLMgb_",
        "outputId": "41f9a75b-ecd4-4587-aeec-146783e18d5f"
      },
      "execution_count": null,
      "outputs": [
        {
          "output_type": "stream",
          "name": "stdout",
          "text": [
            "Confusion matrix, without normalization\n",
            "[[  8  53]\n",
            " [ 43 337]]\n"
          ]
        },
        {
          "output_type": "display_data",
          "data": {
            "text/plain": [
              "<Figure size 432x288 with 2 Axes>"
            ],
            "image/png": "[encoded data removed]"
          },
          "metadata": {
            "needs_background": "light"
          }
        }
      ]
    },
    {
      "cell_type": "markdown",
      "source": [
        "**Support Vector Machine**"
      ],
      "metadata": {
        "id": "1QTwaxzIgX_w"
      }
    },
    {
      "cell_type": "code",
      "source": [
        "#Import Support Vector Machine Classifier model\n",
        "from sklearn.svm import SVC\n",
        "svm = SVC()\n",
        "#Train the model using the training sets\n",
        "svm.fit(X_train, y_train)\n",
        "#svm_score = cross_val_score(svm_model , x_train , y_train ,cv = k ,scoring = 'neg_mean_squared_error')\n",
        "y_pred = svm.predict(X_test)"
      ],
      "metadata": {
        "id": "oYQ7rDiYtIcg"
      },
      "execution_count": null,
      "outputs": []
    },
    {
      "cell_type": "code",
      "source": [
        "#Import scikit-learn metrics module for accuracy calculation\n",
        "from sklearn import metrics\n",
        "# Model Accuracy, how often is the classifier correct?\n",
        "print(\"Accuracy:\",metrics.accuracy_score(y_test, y_pred))\n",
        "# Model Precision\n",
        "print(\"Precision:\",metrics.precision_score(y_test, y_pred))\n",
        "# Model Recall\n",
        "print(\"Recall:\",metrics.recall_score(y_test, y_pred))"
      ],
      "metadata": {
        "colab": {
          "base_uri": "https://localhost:8080/"
        },
        "id": "82ktvwaToHxz",
        "outputId": "4ebff7eb-9159-43d5-ec02-8c2634b1f4ff"
      },
      "execution_count": null,
      "outputs": [
        {
          "output_type": "stream",
          "name": "stdout",
          "text": [
            "Accuracy: 0.8616780045351474\n",
            "Precision: 0.0\n",
            "Recall: 0.0\n"
          ]
        },
        {
          "output_type": "stream",
          "name": "stderr",
          "text": [
            "/usr/local/lib/python3.7/dist-packages/sklearn/metrics/_classification.py:1318: UndefinedMetricWarning: Precision is ill-defined and being set to 0.0 due to no predicted samples. Use `zero_division` parameter to control this behavior.\n",
            "  _warn_prf(average, modifier, msg_start, len(result))\n"
          ]
        }
      ]
    },
    {
      "cell_type": "code",
      "source": [
        "from sklearn.metrics import classification_report, confusion_matrix\n",
        "import itertools\n",
        "def plot_confusion_matrix(cm, classes,\n",
        "                          normalize=True,\n",
        "                          title='Confusion matrix',\n",
        "                          cmap=plt.cm.Blues):\n",
        "    \"\"\"\n",
        "    This function prints and plots the confusion matrix.\n",
        "    Normalization can be applied by setting `normalize=True` above.\n",
        "    \"\"\"\n",
        "    if normalize:\n",
        "        cm = cm.astype('float') / cm.sum(axis=1)[:, np.newaxis]\n",
        "        print(\"Normalized confusion matrix\")\n",
        "    else:\n",
        "        print('Confusion matrix, without normalization')\n",
        "\n",
        "    print(cm)\n",
        "\n",
        "    plt.imshow(cm, interpolation='nearest', cmap=cmap)\n",
        "    plt.title(title)\n",
        "    plt.colorbar()\n",
        "    tick_marks = np.arange(len(classes))\n",
        "    plt.xticks(tick_marks, classes, rotation=45)\n",
        "    plt.yticks(tick_marks, classes)\n",
        "\n",
        "    fmt = '.2f' if normalize else 'd'\n",
        "    thresh = cm.max() / 2.\n",
        "    for i, j in itertools.product(range(cm.shape[0]), range(cm.shape[1])):\n",
        "        plt.text(j, i, format(cm[i, j], fmt),\n",
        "                 horizontalalignment=\"center\",\n",
        "                 color=\"white\" if cm[i, j] > thresh else \"black\")\n",
        "\n",
        "    plt.tight_layout()\n",
        "    plt.ylabel('True label')\n",
        "    plt.xlabel('Predicted label')\n",
        "print(confusion_matrix(y_test, y_pred, labels=[1,0]))"
      ],
      "metadata": {
        "colab": {
          "base_uri": "https://localhost:8080/"
        },
        "id": "JhJDOSGfMGx0",
        "outputId": "c379c802-4a57-4ce8-a517-54b84b699db7"
      },
      "execution_count": null,
      "outputs": [
        {
          "output_type": "stream",
          "name": "stdout",
          "text": [
            "[[  0  61]\n",
            " [  0 380]]\n"
          ]
        }
      ]
    },
    {
      "cell_type": "code",
      "source": [
        "# Compute confusion matrix\n",
        "cnf_matrix = confusion_matrix(y_test, y_pred, labels=[1,0])\n",
        "np.set_printoptions(precision=2)"
      ],
      "metadata": {
        "id": "IlylZukyMT0o"
      },
      "execution_count": null,
      "outputs": []
    },
    {
      "cell_type": "code",
      "source": [
        "#Plot non-normalized confusion matrix\n",
        "plt.figure()\n",
        "plot_confusion_matrix(cnf_matrix, classes=['churn=1','churn=0'],normalize= False,  title='Confusion matrix')"
      ],
      "metadata": {
        "colab": {
          "base_uri": "https://localhost:8080/",
          "height": 365
        },
        "id": "b0yd07PUMhx6",
        "outputId": "2525ed65-3441-41b4-883d-2803372b7e7c"
      },
      "execution_count": null,
      "outputs": [
        {
          "output_type": "stream",
          "name": "stdout",
          "text": [
            "Confusion matrix, without normalization\n",
            "[[  0  61]\n",
            " [  0 380]]\n"
          ]
        },
        {
          "output_type": "display_data",
          "data": {
            "text/plain": [
              "<Figure size 432x288 with 2 Axes>"
            ],
            "image/png": "[encoded data removed]"
          },
          "metadata": {
            "needs_background": "light"
          }
        }
      ]
    },
    {
      "cell_type": "markdown",
      "source": [
        "**Gradient Boosting Classifier**"
      ],
      "metadata": {
        "id": "f50nC_5Qog2o"
      }
    },
    {
      "cell_type": "code",
      "source": [
        "#Import Gradient Boosting Classifier model\n",
        "from sklearn.ensemble import GradientBoostingClassifier\n",
        "\n",
        "#Create Gradient Boosting Classifier\n",
        "gb = GradientBoostingClassifier()\n",
        "\n",
        "#Train the model using the training sets\n",
        "gb.fit(X_train, y_train)\n",
        "\n",
        "#Predict the response for test dataset\n",
        "y_pred = gb.predict(X_test)"
      ],
      "metadata": {
        "id": "wgNEKPZ8oiKE"
      },
      "execution_count": null,
      "outputs": []
    },
    {
      "cell_type": "code",
      "source": [
        "#Import scikit-learn metrics module for accuracy calculation\n",
        "from sklearn import metrics\n",
        "# Model Accuracy, how often is the classifier correct?\n",
        "print(\"Accuracy:\",metrics.accuracy_score(y_test, y_pred))\n",
        "# Model Precision\n",
        "print(\"Precision:\",metrics.precision_score(y_test, y_pred))\n",
        "# Model Recall\n",
        "print(\"Recall:\",metrics.recall_score(y_test, y_pred))"
      ],
      "metadata": {
        "colab": {
          "base_uri": "https://localhost:8080/"
        },
        "id": "yIJWD_WOoOYh",
        "outputId": "741eb24b-0c1c-4120-b809-291b511e670e"
      },
      "execution_count": null,
      "outputs": [
        {
          "output_type": "stream",
          "name": "stdout",
          "text": [
            "Accuracy: 0.8367346938775511\n",
            "Precision: 0.3103448275862069\n",
            "Recall: 0.14754098360655737\n"
          ]
        }
      ]
    },
    {
      "cell_type": "code",
      "source": [
        "from sklearn.metrics import classification_report, confusion_matrix\n",
        "import itertools\n",
        "def plot_confusion_matrix(cm, classes,\n",
        "                          normalize=True,\n",
        "                          title='Confusion matrix',\n",
        "                          cmap=plt.cm.Blues):\n",
        "    \"\"\"\n",
        "    This function prints and plots the confusion matrix.\n",
        "    Normalization can be applied by setting `normalize=True` above.\n",
        "    \"\"\"\n",
        "    if normalize:\n",
        "        cm = cm.astype('float') / cm.sum(axis=1)[:, np.newaxis]\n",
        "        print(\"Normalized confusion matrix\")\n",
        "    else:\n",
        "        print('Confusion matrix, without normalization')\n",
        "\n",
        "    print(cm)\n",
        "\n",
        "    plt.imshow(cm, interpolation='nearest', cmap=cmap)\n",
        "    plt.title(title)\n",
        "    plt.colorbar()\n",
        "    tick_marks = np.arange(len(classes))\n",
        "    plt.xticks(tick_marks, classes, rotation=45)\n",
        "    plt.yticks(tick_marks, classes)\n",
        "\n",
        "    fmt = '.2f' if normalize else 'd'\n",
        "    thresh = cm.max() / 2.\n",
        "    for i, j in itertools.product(range(cm.shape[0]), range(cm.shape[1])):\n",
        "        plt.text(j, i, format(cm[i, j], fmt),\n",
        "                 horizontalalignment=\"center\",\n",
        "                 color=\"white\" if cm[i, j] > thresh else \"black\")\n",
        "\n",
        "    plt.tight_layout()\n",
        "    plt.ylabel('True label')\n",
        "    plt.xlabel('Predicted label')\n",
        "print(confusion_matrix(y_test, y_pred, labels=[1,0]))"
      ],
      "metadata": {
        "colab": {
          "base_uri": "https://localhost:8080/"
        },
        "id": "IT_t2uFOMIRO",
        "outputId": "05bd4322-80d1-48a1-fc2b-f9457a058cea"
      },
      "execution_count": null,
      "outputs": [
        {
          "output_type": "stream",
          "name": "stdout",
          "text": [
            "[[  9  52]\n",
            " [ 20 360]]\n"
          ]
        }
      ]
    },
    {
      "cell_type": "code",
      "source": [
        "# Compute confusion matrix\n",
        "cnf_matrix = confusion_matrix(y_test, y_pred, labels=[1,0])\n",
        "np.set_printoptions(precision=2)"
      ],
      "metadata": {
        "id": "wSZSIRspMVKm"
      },
      "execution_count": null,
      "outputs": []
    },
    {
      "cell_type": "code",
      "source": [
        "#Plot non-normalized confusion matrix\n",
        "plt.figure()\n",
        "plot_confusion_matrix(cnf_matrix, classes=['churn=1','churn=0'],normalize= False,  title='Confusion matrix')"
      ],
      "metadata": {
        "colab": {
          "base_uri": "https://localhost:8080/",
          "height": 365
        },
        "id": "LyH5hH3GMjry",
        "outputId": "b83cee98-8e5f-43ef-b77e-01a8db61c794"
      },
      "execution_count": null,
      "outputs": [
        {
          "output_type": "stream",
          "name": "stdout",
          "text": [
            "Confusion matrix, without normalization\n",
            "[[  9  52]\n",
            " [ 20 360]]\n"
          ]
        },
        {
          "output_type": "display_data",
          "data": {
            "text/plain": [
              "<Figure size 432x288 with 2 Axes>"
            ],
            "image/png": "[encoded data removed]"
          },
          "metadata": {
            "needs_background": "light"
          }
        }
      ]
    },
    {
      "cell_type": "markdown",
      "source": [
        "**Random Forest**"
      ],
      "metadata": {
        "id": "PV9av_V7yr6_"
      }
    },
    {
      "cell_type": "code",
      "source": [
        "#Import RandomForestClassifier model\n",
        "from sklearn.ensemble import RandomForestClassifier\n",
        "rf = RandomForestClassifier()\n",
        "rf.fit(X_train, y_train)\n",
        "y_pred = gb.predict(X_test)"
      ],
      "metadata": {
        "id": "klEW17yOxe09"
      },
      "execution_count": null,
      "outputs": []
    },
    {
      "cell_type": "code",
      "source": [
        "#Import scikit-learn metrics module for accuracy calculation\n",
        "from sklearn import metrics\n",
        "# Model Accuracy, how often is the classifier correct?\n",
        "print(\"Accuracy:\",metrics.accuracy_score(y_test, y_pred))\n",
        "# Model Precision\n",
        "print(\"Precision:\",metrics.precision_score(y_test, y_pred))\n",
        "# Model Recall\n",
        "print(\"Recall:\",metrics.recall_score(y_test, y_pred))"
      ],
      "metadata": {
        "colab": {
          "base_uri": "https://localhost:8080/"
        },
        "id": "Xi14HhUkoSgg",
        "outputId": "9a69e864-7b40-48af-8cf6-6cdf2b55bbb9"
      },
      "execution_count": null,
      "outputs": [
        {
          "output_type": "stream",
          "name": "stdout",
          "text": [
            "Accuracy: 0.8367346938775511\n",
            "Precision: 0.3103448275862069\n",
            "Recall: 0.14754098360655737\n"
          ]
        }
      ]
    },
    {
      "cell_type": "code",
      "source": [
        "from sklearn.metrics import classification_report, confusion_matrix\n",
        "import itertools\n",
        "def plot_confusion_matrix(cm, classes,\n",
        "                          normalize=True,\n",
        "                          title='Confusion matrix',\n",
        "                          cmap=plt.cm.Blues):\n",
        "    \"\"\"\n",
        "    This function prints and plots the confusion matrix.\n",
        "    Normalization can be applied by setting `normalize=True` above.\n",
        "    \"\"\"\n",
        "    if normalize:\n",
        "        cm = cm.astype('float') / cm.sum(axis=1)[:, np.newaxis]\n",
        "        print(\"Normalized confusion matrix\")\n",
        "    else:\n",
        "        print('Confusion matrix, without normalization')\n",
        "\n",
        "    print(cm)\n",
        "\n",
        "    plt.imshow(cm, interpolation='nearest', cmap=cmap)\n",
        "    plt.title(title)\n",
        "    plt.colorbar()\n",
        "    tick_marks = np.arange(len(classes))\n",
        "    plt.xticks(tick_marks, classes, rotation=45)\n",
        "    plt.yticks(tick_marks, classes)\n",
        "\n",
        "    fmt = '.2f' if normalize else 'd'\n",
        "    thresh = cm.max() / 2.\n",
        "    for i, j in itertools.product(range(cm.shape[0]), range(cm.shape[1])):\n",
        "        plt.text(j, i, format(cm[i, j], fmt),\n",
        "                 horizontalalignment=\"center\",\n",
        "                 color=\"white\" if cm[i, j] > thresh else \"black\")\n",
        "\n",
        "    plt.tight_layout()\n",
        "    plt.ylabel('True label')\n",
        "    plt.xlabel('Predicted label')\n",
        "print(confusion_matrix(y_test, y_pred, labels=[1,0]))"
      ],
      "metadata": {
        "colab": {
          "base_uri": "https://localhost:8080/"
        },
        "id": "rwfRXjPEMJpq",
        "outputId": "998b11bd-6d9d-4ae9-cede-cfcaa2bea96b"
      },
      "execution_count": null,
      "outputs": [
        {
          "output_type": "stream",
          "name": "stdout",
          "text": [
            "[[  9  52]\n",
            " [ 20 360]]\n"
          ]
        }
      ]
    },
    {
      "cell_type": "code",
      "source": [
        "# Compute confusion matrix\n",
        "cnf_matrix = confusion_matrix(y_test, y_pred, labels=[1,0])\n",
        "np.set_printoptions(precision=2)"
      ],
      "metadata": {
        "id": "JFkc2DuXMW2J"
      },
      "execution_count": null,
      "outputs": []
    },
    {
      "cell_type": "code",
      "source": [
        "#Plot non-normalized confusion matrix\n",
        "plt.figure()\n",
        "plot_confusion_matrix(cnf_matrix, classes=['churn=1','churn=0'],normalize= False,  title='Confusion matrix')"
      ],
      "metadata": {
        "colab": {
          "base_uri": "https://localhost:8080/",
          "height": 365
        },
        "id": "NImBXmZpMlce",
        "outputId": "2b1ba307-79cc-4a3f-fb39-c4e31d62895c"
      },
      "execution_count": null,
      "outputs": [
        {
          "output_type": "stream",
          "name": "stdout",
          "text": [
            "Confusion matrix, without normalization\n",
            "[[  9  52]\n",
            " [ 20 360]]\n"
          ]
        },
        {
          "output_type": "display_data",
          "data": {
            "text/plain": [
              "<Figure size 432x288 with 2 Axes>"
            ],
            "image/png": "[encoded data removed]"
          },
          "metadata": {
            "needs_background": "light"
          }
        }
      ]
    },
    {
      "cell_type": "markdown",
      "source": [
        "Naive Bayes"
      ],
      "metadata": {
        "id": "dGrg5F87EjS3"
      }
    },
    {
      "cell_type": "code",
      "source": [
        "#Import NaiveBayesClassifier model\n",
        "from sklearn.naive_bayes import GaussianNB\n",
        "nb = GaussianNB()\n",
        "nb.fit(X_train, y_train)\n",
        "y_pred = nb.predict(X_test)"
      ],
      "metadata": {
        "id": "6H084VxG1Y4_"
      },
      "execution_count": null,
      "outputs": []
    },
    {
      "cell_type": "code",
      "source": [
        "#Import scikit-learn metrics module for accuracy calculation\n",
        "from sklearn import metrics\n",
        "# Model Accuracy, how often is the classifier correct?\n",
        "print(\"Accuracy:\",metrics.accuracy_score(y_test, y_pred))\n",
        "# Model Precision\n",
        "print(\"Precision:\",metrics.precision_score(y_test, y_pred))\n",
        "# Model Recall\n",
        "print(\"Recall:\",metrics.recall_score(y_test, y_pred))"
      ],
      "metadata": {
        "colab": {
          "base_uri": "https://localhost:8080/"
        },
        "id": "H_qCvsvDoXnF",
        "outputId": "9dab4eb0-1364-4afc-e261-36d1c6b31514"
      },
      "execution_count": null,
      "outputs": [
        {
          "output_type": "stream",
          "name": "stdout",
          "text": [
            "Accuracy: 0.8140589569160998\n",
            "Precision: 0.043478260869565216\n",
            "Recall: 0.01639344262295082\n"
          ]
        }
      ]
    },
    {
      "cell_type": "code",
      "source": [
        "from sklearn.metrics import classification_report, confusion_matrix\n",
        "import itertools\n",
        "def plot_confusion_matrix(cm, classes,\n",
        "                          normalize=True,\n",
        "                          title='Confusion matrix',\n",
        "                          cmap=plt.cm.Blues):\n",
        "    \"\"\"\n",
        "    This function prints and plots the confusion matrix.\n",
        "    Normalization can be applied by setting `normalize=True` above.\n",
        "    \"\"\"\n",
        "    if normalize:\n",
        "        cm = cm.astype('float') / cm.sum(axis=1)[:, np.newaxis]\n",
        "        print(\"Normalized confusion matrix\")\n",
        "    else:\n",
        "        print('Confusion matrix, without normalization')\n",
        "\n",
        "    print(cm)\n",
        "\n",
        "    plt.imshow(cm, interpolation='nearest', cmap=cmap)\n",
        "    plt.title(title)\n",
        "    plt.colorbar()\n",
        "    tick_marks = np.arange(len(classes))\n",
        "    plt.xticks(tick_marks, classes, rotation=45)\n",
        "    plt.yticks(tick_marks, classes)\n",
        "\n",
        "    fmt = '.2f' if normalize else 'd'\n",
        "    thresh = cm.max() / 2.\n",
        "    for i, j in itertools.product(range(cm.shape[0]), range(cm.shape[1])):\n",
        "        plt.text(j, i, format(cm[i, j], fmt),\n",
        "                 horizontalalignment=\"center\",\n",
        "                 color=\"white\" if cm[i, j] > thresh else \"black\")\n",
        "\n",
        "    plt.tight_layout()\n",
        "    plt.ylabel('True label')\n",
        "    plt.xlabel('Predicted label')\n",
        "print(confusion_matrix(y_test, y_pred, labels=[1,0]))"
      ],
      "metadata": {
        "colab": {
          "base_uri": "https://localhost:8080/"
        },
        "id": "O6jiqrq_MLBe",
        "outputId": "134f283e-293b-4605-ad03-aa41416553ae"
      },
      "execution_count": null,
      "outputs": [
        {
          "output_type": "stream",
          "name": "stdout",
          "text": [
            "[[  1  60]\n",
            " [ 22 358]]\n"
          ]
        }
      ]
    },
    {
      "cell_type": "code",
      "source": [
        "# Compute confusion matrix\n",
        "cnf_matrix = confusion_matrix(y_test, y_pred, labels=[1,0])\n",
        "np.set_printoptions(precision=2)"
      ],
      "metadata": {
        "id": "_LSWGHw1MYOa"
      },
      "execution_count": null,
      "outputs": []
    },
    {
      "cell_type": "code",
      "source": [
        "#Plot non-normalized confusion matrix\n",
        "plt.figure()\n",
        "plot_confusion_matrix(cnf_matrix, classes=['churn=1','churn=0'],normalize= False,  title='Confusion matrix')"
      ],
      "metadata": {
        "colab": {
          "base_uri": "https://localhost:8080/",
          "height": 365
        },
        "id": "-Yv0RrpMMnGN",
        "outputId": "a073622a-5d83-4dd2-b5d8-c56780e23710"
      },
      "execution_count": null,
      "outputs": [
        {
          "output_type": "stream",
          "name": "stdout",
          "text": [
            "Confusion matrix, without normalization\n",
            "[[  1  60]\n",
            " [ 22 358]]\n"
          ]
        },
        {
          "output_type": "display_data",
          "data": {
            "text/plain": [
              "<Figure size 432x288 with 2 Axes>"
            ],
            "image/png": "[encoded data removed]"
          },
          "metadata": {
            "needs_background": "light"
          }
        }
      ]
    },
    {
      "cell_type": "markdown",
      "source": [
        "Evaluating Model Performance"
      ],
      "metadata": {
        "id": "9m74W_R4opq6"
      }
    },
    {
      "cell_type": "markdown",
      "source": [
        "Accuracy: Accuracy (classification) rate of 83% (Gradient Boosting Classifier), 86%  (Logistic Regression). \n",
        "\n",
        "Precision: \n",
        "Precision is about being precise, i.e., how precise your model is. In other words, you can say, when a model makes a prediction, how often it is correct. In your prediction case, when you predicted an employee is going to leave, that employee actually left 95% (Gradient Boosting model), 49% (Logistic Regression) of the time. \n",
        "\n",
        "Recall: If there is an employee who left present in the test set and your model can identify it 92% (Gradient Boosting), 23% (Logistic Regression) of the time.\n",
        "So which model is the better of the two?\n"
      ],
      "metadata": {
        "id": "6PAHvzDioyvI"
      }
    },
    {
      "cell_type": "code",
      "source": [
        "print (classification_report(y_test, y_pred))"
      ],
      "metadata": {
        "id": "VyTUqDKirDLX",
        "colab": {
          "base_uri": "https://localhost:8080/"
        },
        "outputId": "68537ac0-4504-433c-ad83-9bbf90f18066"
      },
      "execution_count": null,
      "outputs": [
        {
          "output_type": "stream",
          "name": "stdout",
          "text": [
            "              precision    recall  f1-score   support\n",
            "\n",
            "           0       0.86      0.94      0.90       380\n",
            "           1       0.04      0.02      0.02        61\n",
            "\n",
            "    accuracy                           0.81       441\n",
            "   macro avg       0.45      0.48      0.46       441\n",
            "weighted avg       0.74      0.81      0.78       441\n",
            "\n"
          ]
        }
      ]
    },
    {
      "cell_type": "markdown",
      "source": [
        "**Calculating the the Precision, Recall, and F Score**\n",
        "\n",
        "\n",
        "![Confusionmatrix.png](data:image/png;base64,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)"
      ],
      "metadata": {
        "id": "oB1c_bnFi-lL"
      }
    },
    {
      "cell_type": "markdown",
      "source": [
        "The most frequently used performance metrics for classification:\n",
        "\n",
        "*Accuracy*\n",
        "\n",
        "*Precision*\n",
        "\n",
        "*Specificity*\n",
        "\n",
        "*F-score*\n",
        "\n",
        "*Accuracy* = (TP + TN) / (TP + FP + TN + FN)  \n",
        "\n",
        "*Precision* = TP / (TP + FP)\n",
        "\n",
        "*Recall* = TP / (TP + FN)\n",
        "\n",
        "*Specifity* = TN / (TN + FP)\n",
        "\n",
        "*F-score* = (2 x Precision x Recall) / (Precision + Recall) \n"
      ],
      "metadata": {
        "id": "VMJup5LvjR19"
      }
    }
  ]
}