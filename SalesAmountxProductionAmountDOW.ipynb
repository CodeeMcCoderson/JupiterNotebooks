{
  "nbformat": 4,
  "nbformat_minor": 0,
  "metadata": {
    "colab": {
      "provenance": [],
      "collapsed_sections": []
    },
    "kernelspec": {
      "name": "python3",
      "display_name": "Python 3"
    },
    "language_info": {
      "name": "python"
    }
  },
  "cells": [
    {
      "cell_type": "markdown",
      "source": [
        "Machine Learning"
      ],
      "metadata": {
        "id": "3QLCQ6gQCier"
      }
    },
    {
      "cell_type": "code",
      "source": [
        "from google.colab import drive\n",
        "drive.mount('/content/drive')"
      ],
      "metadata": {
        "id": "Jy-oh3Zni8GJ",
        "colab": {
          "base_uri": "https://localhost:8080/"
        },
        "outputId": "cd552a4c-2a50-4466-860c-bb3883db2f30"
      },
      "execution_count": null,
      "outputs": [
        {
          "output_type": "stream",
          "name": "stdout",
          "text": [
            "Mounted at /content/drive\n"
          ]
        }
      ]
    },
    {
      "cell_type": "code",
      "execution_count": null,
      "metadata": {
        "id": "eOqMjA6Mgml_",
        "colab": {
          "base_uri": "https://localhost:8080/"
        },
        "outputId": "03af9fa8-ad61-4d39-b867-94e88eb3d721"
      },
      "outputs": [
        {
          "output_type": "stream",
          "name": "stderr",
          "text": [
            "/usr/local/lib/python3.7/dist-packages/ipykernel_launcher.py:4: FutureWarning: pandas.util.testing is deprecated. Use the functions in the public API at pandas.testing instead.\n",
            "  after removing the cwd from sys.path.\n"
          ]
        }
      ],
      "source": [
        "import pandas as pd\n",
        "import numpy as np\n",
        "import statsmodels.api as sm \n",
        "import pandas.util.testing as tm\n",
        "import matplotlib.pyplot as plt"
      ]
    },
    {
      "cell_type": "code",
      "source": [
        "data_df=pd.read_excel('/content/drive/MyDrive/Data/SalesAmountvProductionAmount.xlsx')\n"
      ],
      "metadata": {
        "id": "SpAxyhHwhBuL"
      },
      "execution_count": null,
      "outputs": []
    },
    {
      "cell_type": "code",
      "source": [
        "data_df.head()"
      ],
      "metadata": {
        "id": "GVaY3DPci96b",
        "colab": {
          "base_uri": "https://localhost:8080/",
          "height": 206
        },
        "outputId": "8d35919f-f193-465d-c6de-1016c6ba6edb"
      },
      "execution_count": null,
      "outputs": [
        {
          "output_type": "execute_result",
          "data": {
            "text/plain": [
              "        Date     Produced  Sunday  Monday  Tuesday  Wednesday  Thursday  \\\n",
              "0 2020-01-01   70683.8700       0       0        0          1         0   \n",
              "1 2020-01-02   87948.9100       0       0        0          0         1   \n",
              "2 2020-01-03   99238.2300       0       0        0          0         0   \n",
              "3 2020-01-04  128527.2800       0       0        0          0         0   \n",
              "4 2020-01-05  100142.6399       1       0        0          0         0   \n",
              "\n",
              "   Friday        Sold        DOW  \n",
              "0       0  35741.9051  Wednesday  \n",
              "1       0  58629.8239   Thursday  \n",
              "2       1  64896.4319     Friday  \n",
              "3       0  84125.2729   Saturday  \n",
              "4       0  56858.2200     Sunday  "
            ],
            "text/html": [
              "\n",
              "  <div id=\"df-c7f6d717-c171-4dc2-8c61-69ba87def274\">\n",
              "    <div class=\"colab-df-container\">\n",
              "      <div>\n",
              "<style scoped>\n",
              "    .dataframe tbody tr th:only-of-type {\n",
              "        vertical-align: middle;\n",
              "    }\n",
              "\n",
              "    .dataframe tbody tr th {\n",
              "        vertical-align: top;\n",
              "    }\n",
              "\n",
              "    .dataframe thead th {\n",
              "        text-align: right;\n",
              "    }\n",
              "</style>\n",
              "<table border=\"1\" class=\"dataframe\">\n",
              "  <thead>\n",
              "    <tr style=\"text-align: right;\">\n",
              "      <th></th>\n",
              "      <th>Date</th>\n",
              "      <th>Produced</th>\n",
              "      <th>Sunday</th>\n",
              "      <th>Monday</th>\n",
              "      <th>Tuesday</th>\n",
              "      <th>Wednesday</th>\n",
              "      <th>Thursday</th>\n",
              "      <th>Friday</th>\n",
              "      <th>Sold</th>\n",
              "      <th>DOW</th>\n",
              "    </tr>\n",
              "  </thead>\n",
              "  <tbody>\n",
              "    <tr>\n",
              "      <th>0</th>\n",
              "      <td>2020-01-01</td>\n",
              "      <td>70683.8700</td>\n",
              "      <td>0</td>\n",
              "      <td>0</td>\n",
              "      <td>0</td>\n",
              "      <td>1</td>\n",
              "      <td>0</td>\n",
              "      <td>0</td>\n",
              "      <td>35741.9051</td>\n",
              "      <td>Wednesday</td>\n",
              "    </tr>\n",
              "    <tr>\n",
              "      <th>1</th>\n",
              "      <td>2020-01-02</td>\n",
              "      <td>87948.9100</td>\n",
              "      <td>0</td>\n",
              "      <td>0</td>\n",
              "      <td>0</td>\n",
              "      <td>0</td>\n",
              "      <td>1</td>\n",
              "      <td>0</td>\n",
              "      <td>58629.8239</td>\n",
              "      <td>Thursday</td>\n",
              "    </tr>\n",
              "    <tr>\n",
              "      <th>2</th>\n",
              "      <td>2020-01-03</td>\n",
              "      <td>99238.2300</td>\n",
              "      <td>0</td>\n",
              "      <td>0</td>\n",
              "      <td>0</td>\n",
              "      <td>0</td>\n",
              "      <td>0</td>\n",
              "      <td>1</td>\n",
              "      <td>64896.4319</td>\n",
              "      <td>Friday</td>\n",
              "    </tr>\n",
              "    <tr>\n",
              "      <th>3</th>\n",
              "      <td>2020-01-04</td>\n",
              "      <td>128527.2800</td>\n",
              "      <td>0</td>\n",
              "      <td>0</td>\n",
              "      <td>0</td>\n",
              "      <td>0</td>\n",
              "      <td>0</td>\n",
              "      <td>0</td>\n",
              "      <td>84125.2729</td>\n",
              "      <td>Saturday</td>\n",
              "    </tr>\n",
              "    <tr>\n",
              "      <th>4</th>\n",
              "      <td>2020-01-05</td>\n",
              "      <td>100142.6399</td>\n",
              "      <td>1</td>\n",
              "      <td>0</td>\n",
              "      <td>0</td>\n",
              "      <td>0</td>\n",
              "      <td>0</td>\n",
              "      <td>0</td>\n",
              "      <td>56858.2200</td>\n",
              "      <td>Sunday</td>\n",
              "    </tr>\n",
              "  </tbody>\n",
              "</table>\n",
              "</div>\n",
              "      <button class=\"colab-df-convert\" onclick=\"convertToInteractive('df-c7f6d717-c171-4dc2-8c61-69ba87def274')\"\n",
              "              title=\"Convert this dataframe to an interactive table.\"\n",
              "              style=\"display:none;\">\n",
              "        \n",
              "  <svg xmlns=\"http://www.w3.org/2000/svg\" height=\"24px\"viewBox=\"0 0 24 24\"\n",
              "       width=\"24px\">\n",
              "    <path d=\"M0 0h24v24H0V0z\" fill=\"none\"/>\n",
              "    <path d=\"M18.56 5.44l.94 2.06.94-2.06 2.06-.94-2.06-.94-.94-2.06-.94 2.06-2.06.94zm-11 1L8.5 8.5l.94-2.06 2.06-.94-2.06-.94L8.5 2.5l-.94 2.06-2.06.94zm10 10l.94 2.06.94-2.06 2.06-.94-2.06-.94-.94-2.06-.94 2.06-2.06.94z\"/><path d=\"M17.41 7.96l-1.37-1.37c-.4-.4-.92-.59-1.43-.59-.52 0-1.04.2-1.43.59L10.3 9.45l-7.72 7.72c-.78.78-.78 2.05 0 2.83L4 21.41c.39.39.9.59 1.41.59.51 0 1.02-.2 1.41-.59l7.78-7.78 2.81-2.81c.8-.78.8-2.07 0-2.86zM5.41 20L4 18.59l7.72-7.72 1.47 1.35L5.41 20z\"/>\n",
              "  </svg>\n",
              "      </button>\n",
              "      \n",
              "  <style>\n",
              "    .colab-df-container {\n",
              "      display:flex;\n",
              "      flex-wrap:wrap;\n",
              "      gap: 12px;\n",
              "    }\n",
              "\n",
              "    .colab-df-convert {\n",
              "      background-color: #E8F0FE;\n",
              "      border: none;\n",
              "      border-radius: 50%;\n",
              "      cursor: pointer;\n",
              "      display: none;\n",
              "      fill: #1967D2;\n",
              "      height: 32px;\n",
              "      padding: 0 0 0 0;\n",
              "      width: 32px;\n",
              "    }\n",
              "\n",
              "    .colab-df-convert:hover {\n",
              "      background-color: #E2EBFA;\n",
              "      box-shadow: 0px 1px 2px rgba(60, 64, 67, 0.3), 0px 1px 3px 1px rgba(60, 64, 67, 0.15);\n",
              "      fill: #174EA6;\n",
              "    }\n",
              "\n",
              "    [theme=dark] .colab-df-convert {\n",
              "      background-color: #3B4455;\n",
              "      fill: #D2E3FC;\n",
              "    }\n",
              "\n",
              "    [theme=dark] .colab-df-convert:hover {\n",
              "      background-color: #434B5C;\n",
              "      box-shadow: 0px 1px 3px 1px rgba(0, 0, 0, 0.15);\n",
              "      filter: drop-shadow(0px 1px 2px rgba(0, 0, 0, 0.3));\n",
              "      fill: #FFFFFF;\n",
              "    }\n",
              "  </style>\n",
              "\n",
              "      <script>\n",
              "        const buttonEl =\n",
              "          document.querySelector('#df-c7f6d717-c171-4dc2-8c61-69ba87def274 button.colab-df-convert');\n",
              "        buttonEl.style.display =\n",
              "          google.colab.kernel.accessAllowed ? 'block' : 'none';\n",
              "\n",
              "        async function convertToInteractive(key) {\n",
              "          const element = document.querySelector('#df-c7f6d717-c171-4dc2-8c61-69ba87def274');\n",
              "          const dataTable =\n",
              "            await google.colab.kernel.invokeFunction('convertToInteractive',\n",
              "                                                     [key], {});\n",
              "          if (!dataTable) return;\n",
              "\n",
              "          const docLinkHtml = 'Like what you see? Visit the ' +\n",
              "            '<a target=\"_blank\" href=https://colab.research.google.com/notebooks/data_table.ipynb>data table notebook</a>'\n",
              "            + ' to learn more about interactive tables.';\n",
              "          element.innerHTML = '';\n",
              "          dataTable['output_type'] = 'display_data';\n",
              "          await google.colab.output.renderOutput(dataTable, element);\n",
              "          const docLink = document.createElement('div');\n",
              "          docLink.innerHTML = docLinkHtml;\n",
              "          element.appendChild(docLink);\n",
              "        }\n",
              "      </script>\n",
              "    </div>\n",
              "  </div>\n",
              "  "
            ]
          },
          "metadata": {},
          "execution_count": 5
        }
      ]
    },
    {
      "cell_type": "code",
      "source": [
        "# Define x and y\n",
        "x=data_df.drop(['Date', 'Sold', 'DOW'], axis=1).values # create the independent variables dataframe\n",
        "y=data_df['Sold'].values # create the dependent variable array \n",
        "   "
      ],
      "metadata": {
        "id": "a6wnN-ZUjUOb"
      },
      "execution_count": null,
      "outputs": []
    },
    {
      "cell_type": "code",
      "source": [
        "print(x) # display independent variables"
      ],
      "metadata": {
        "id": "-TBF3hBtkDqg",
        "colab": {
          "base_uri": "https://localhost:8080/"
        },
        "outputId": "e1677648-e4f2-4a23-c6ac-c12421d35be2"
      },
      "execution_count": null,
      "outputs": [
        {
          "output_type": "stream",
          "name": "stdout",
          "text": [
            "[[7.06838700e+04 0.00000000e+00 0.00000000e+00 ... 1.00000000e+00\n",
            "  0.00000000e+00 0.00000000e+00]\n",
            " [8.79489100e+04 0.00000000e+00 0.00000000e+00 ... 0.00000000e+00\n",
            "  1.00000000e+00 0.00000000e+00]\n",
            " [9.92382300e+04 0.00000000e+00 0.00000000e+00 ... 0.00000000e+00\n",
            "  0.00000000e+00 1.00000000e+00]\n",
            " ...\n",
            " [1.26615252e+05 0.00000000e+00 0.00000000e+00 ... 0.00000000e+00\n",
            "  0.00000000e+00 0.00000000e+00]\n",
            " [1.34230460e+05 0.00000000e+00 0.00000000e+00 ... 1.00000000e+00\n",
            "  0.00000000e+00 0.00000000e+00]\n",
            " [1.38767510e+05 0.00000000e+00 0.00000000e+00 ... 0.00000000e+00\n",
            "  1.00000000e+00 0.00000000e+00]]\n"
          ]
        }
      ]
    },
    {
      "cell_type": "code",
      "source": [
        "plt.xlabel(\"Amount Produced in USD\")\n",
        "plt.ylabel(\"Amount Sold in USD\")\n",
        "plt.scatter(data_df.Produced,data_df.Sold, c=\"blue\",s=10)"
      ],
      "metadata": {
        "colab": {
          "base_uri": "https://localhost:8080/",
          "height": 297
        },
        "id": "WVyKKUZIPY5f",
        "outputId": "19a2368d-a0ce-4ee5-bcb1-420fd67ae378"
      },
      "execution_count": null,
      "outputs": [
        {
          "output_type": "execute_result",
          "data": {
            "text/plain": [
              "<matplotlib.collections.PathCollection at 0x7f5ced7d84d0>"
            ]
          },
          "metadata": {},
          "execution_count": 8
        },
        {
          "output_type": "display_data",
          "data": {
            "text/plain": [
              "<Figure size 432x288 with 1 Axes>"
            ],
            "image/png": "[encoded data removed]"
          },
          "metadata": {
            "needs_background": "light"
          }
        }
      ]
    },
    {
      "cell_type": "code",
      "source": [
        "#print(y) to display target variable values\n",
        "print(y)"
      ],
      "metadata": {
        "id": "vBGKuhiASxmS",
        "colab": {
          "base_uri": "https://localhost:8080/"
        },
        "outputId": "c5b6839b-e4fe-48a7-f60a-25abcf422a3f"
      },
      "execution_count": null,
      "outputs": [
        {
          "output_type": "stream",
          "name": "stdout",
          "text": [
            "[ 35741.9051  58629.8239  64896.4319  84125.2729  56858.22    52244.8012\n",
            "  49711.3441  50808.8328  53763.7933  61509.3995  64118.5901  62983.73\n",
            "  49876.7053  46788.4132  54131.7787  55733.8279  67300.5415  81076.1643\n",
            "  61763.85    58362.3839  48741.341   49025.7525  50784.3981  64829.8277\n",
            "  80824.2406  57456.56    48604.3173  49265.0325  48907.0346  54068.5655\n",
            "  70517.7677  89838.4379  60578.17    57366.2714  53844.0806  48981.3893\n",
            "  39482.2343  69650.3607  80740.5374  59325.14    47951.5808  49029.8127\n",
            "  51385.5544  49464.2489  59539.0693  78935.4845  52087.54    56541.7024\n",
            "  49810.9927  52615.7471  47080.1756  64845.8341  79661.1255  55179.84\n",
            "  47268.6165  54032.512   63156.948   62303.1718  72505.6454  91438.831\n",
            "  60568.62    53179.5125  56084.4102  53042.7894  55805.4254  67033.304\n",
            "  79448.7112  57543.64    55274.6896  49026.2161  50655.7633  47916.3117\n",
            "  46050.5153  58529.6313  45531.74    36079.3663  30244.6393  25615.2349\n",
            "  25800.3955  27363.0971  27564.79    92477.1531  53164.2     55607.0749\n",
            "  53098.5729  51824.3591  49499.9583  50408.2683  58606.364   36900.1\n",
            "  42428.7188  45177.5186  49400.8746  48385.703   55969.3105  63881.899\n",
            "  46583.21    53406.236   53380.8044  54203.6962  53955.652   58481.5917\n",
            "  69562.342   52291.85    41720.0878  54361.8644  58138.5235  57680.6799\n",
            "  63104.7297  74714.4414  59158.0337  59109.7511  55862.7613  58721.0572\n",
            "  58808.785   63378.5952  75798.9391  59109.7459  59256.9018  59394.1224\n",
            "  59286.5191  55736.8986  61848.5128  72619.854   54036.6367  56788.1322\n",
            "  53997.3403  57929.7249  53990.1627  61565.5061  67709.2315  50546.7774\n",
            "  55107.4414  56437.2237  60606.8444  53655.737   61366.0664  72718.5534\n",
            "  56344.3662  52346.2048  46172.0362  59706.1731  82850.1048 132277.5863\n",
            "  80311.4093  79372.4644  49932.7563  51123.7699  56268.9907  56843.5679\n",
            "  61519.7143  72147.3929  54788.6797  57939.0015  54142.4234  56262.6638\n",
            "  58701.8196  62509.6651  73424.31    59247.8617  56386.6845  57048.4744\n",
            "  59238.3189  57190.0304  67356.6256  73888.9283  66828.9805  60390.7475\n",
            "  55465.7798  63347.2815  59429.9131  71822.7426  87900.0082  69287.873\n",
            "  64254.6601  59776.3473  60148.1556  62892.0224  68304.0548  79082.2688\n",
            "  69090.5453  56015.1347  56476.7888  55692.4891  58477.3182  66528.302\n",
            "  87459.1332  69694.7175  54383.6748  53745.5077  55935.4719  55411.0034\n",
            "  71412.687   88520.8929  67781.6364  54453.7705  50743.3003  56973.0566\n",
            "  56906.85    64262.6402  87060.1713  66434.5025  57342.1789  54556.5106\n",
            "  57493.1155  63426.5201  69982.5276  87821.5151  69667.0584  51751.8759\n",
            "  57593.5474  55605.0513  57719.2004  63386.7402  85348.1047  64688.4896\n",
            "  58786.4159  58816.8823  50269.1294  59778.48    69594.9433  90844.6837\n",
            "  74638.5363  61451.8493  66397.0907  68009.2001  61202.9268  68739.8158\n",
            "  84412.1189  71835.7301  58034.3911  59188.802   64792.8159  70252.2282\n",
            "  76824.3712  94628.5925  71690.1334  62991.5233  61221.9045  58866.6509\n",
            "  58951.5705  67170.0629  83795.7888  69990.5306  66016.1266  56929.7817\n",
            "  60567.5767  62002.3287  74969.5022  84981.2379  71337.8278  59888.9825\n",
            "  58481.4649  57487.5862  60364.9672  72032.396   84046.6369  75507.2052\n",
            "  63178.5001  58142.7718  62537.3098  62784.6528  80686.386   80989.6923\n",
            "  65195.2161  58125.7939  64104.8029  59280.564   61441.5682  68904.8102\n",
            "  84009.5975  65667.9048  55474.593   55734.9604  64500.4654  57788.3989\n",
            "  68009.1454  82722.6587  64848.2029  58141.4094  56317.8785  57437.7797\n",
            "  55507.2737  59204.3768  77119.9746  66065.7551  58738.4645  51655.8366\n",
            "  46692.3292 120542.9748  92870.7584  46184.8215  48450.7371  55008.1718\n",
            "  57849.1977  61724.9944  64219.6874  83956.8193  63011.071   59181.9203\n",
            "  56679.8036  55959.4362  59061.3722  63679.0878  76298.2388  64232.9557\n",
            "  53863.1155  54119.0137  53810.3465  57635.3859  63852.5756  74746.5007\n",
            "  62991.9838  60536.8441  59861.8401  58308.6303  36137.4031  70475.1025\n",
            "  57273.9457  61517.1942  59931.6589  68292.0673  67352.7802  46427.5476\n",
            " 100219.3018  78728.1625  72705.5621  68867.5449  60580.6559  57133.5922\n",
            "  68619.8627  96387.8937  77180.4287  59456.6013  56954.683   58853.8205\n",
            "  61577.5001  72188.6911  95597.3771  70705.4119  69555.1872  56037.0307\n",
            "  55766.7719  61877.4655  71587.0168  90983.6879  70928.5688  58168.6177\n",
            "  55726.5658  59532.6763  62228.3739  71426.8136  94460.6657  68546.0635\n",
            "  57686.0305  60030.0765  66072.6694  63595.1706  72855.4122  94802.1556\n",
            "  69544.3062  61488.981   58024.8051  61253.6679  61329.714   72415.2799\n",
            "  91510.6094  64774.825   57680.7473  56057.5106  62979.2351  59497.2683\n",
            "  78362.7401  93117.4764  67832.1659  59775.9102  61637.7488  65738.8081\n",
            "  68655.4339  78483.7775  94280.0845  74234.7698  66095.4924  62651.0917\n",
            "  79234.1313  69815.3403  75519.3333  94446.3749  72720.9023  64013.9998\n",
            "  62174.7373  68453.8424  66319.4238  77895.3515  97304.8788  77476.1087\n",
            "  70283.4619  69875.9562  81852.0061  84182.4599  90845.9591 110657.5501\n",
            "  78560.7809  74536.4091  67579.0024  72500.0614  69395.0609  71381.932\n",
            "  93928.9643  73590.5823  69816.3905  69395.4104  61773.8753  78365.6828\n",
            "  89157.7007  89715.3548  79766.2906  79667.408   84699.5387  83365.0003\n",
            "  86359.005   99125.5748  78144.3875  73623.912   71614.0235  71948.8882\n",
            "  70042.2332  77829.6185  97426.9937  73757.8654  68867.1071  70379.4599\n",
            "  74185.6     72437.3717  74978.345   82392.3319  74770.1385  67264.2067\n",
            "  66598.6599  69395.4711  70223.6643  82983.915   92382.3026  68026.1813\n",
            "  65343.9922  65288.8958  70150.781   71978.821   74429.6087  88843.5927\n",
            "  57178.8371  69670.4912  62134.3836  66007.0694  70731.4683  75807.5089\n",
            "  89680.4539  70784.731   69638.5887  66202.3604  68399.7319  68246.718\n",
            "  72864.9934  84465.831   68457.7232  68352.7296  65303.5194  71708.4219\n",
            "  71315.9693  78640.6876  93732.8117  70641.6973  54189.1127  71305.5377\n",
            "  71951.2955  78453.5476  77989.5751  93917.5122  77918.8686  69907.5766\n",
            "  69896.0462  72181.9667  69819.5317  77759.3442  94382.3365  69333.4361\n",
            "  68674.6721  66112.6689  75140.5997  70423.7755  73215.7932  88257.1897\n",
            "  65068.2222  71149.6184  70001.3524  68931.0935  72634.3096  77697.3109\n",
            "  89109.2249  70312.3605  71776.4788  67291.6239  69983.2606  74209.4367\n",
            "  85847.7811  85397.9045  44690.0986  77489.6085  71424.5679  74741.1913\n",
            "  72718.105   79254.6174  92914.5519  70099.7393  64965.5149  69462.9612\n",
            "  73096.4272  74912.4484  83480.6053 100811.7342  75272.0727  74816.074\n",
            "  71410.0095  70076.7293  72092.7863  76892.6557  93360.8935  70566.1911\n",
            "  68031.6131  61226.389   69001.9132  68590.5578  84091.7693  97379.3832\n",
            "  74683.2213  65151.4788  75565.1607  69652.879   67179.6506  74821.3307\n",
            "  96859.8123  72532.2408  64712.8353  58554.0377  60124.0633  68175.2869\n",
            "  80682.104   97254.8673  72968.0949  59190.9371  63525.2222  60855.2591\n",
            "  80795.4047  85085.3919 101378.7036  76483.8681  63686.8775  60930.5961\n",
            "  61441.1692  75858.9758  91362.8505  71082.7839  57318.7009  57417.9684\n",
            "  68619.5326  64653.3019  84835.0056  98754.3816  72577.6165  56792.6222\n",
            "  64027.3089  68362.3706  66883.9671  77454.0129  93054.3521  71951.3573\n",
            "  62681.8806  63845.596   68267.0737  72609.4087  82099.4914  98925.0702\n",
            "  81145.7474  66736.9465  67492.5197  65958.9627  74001.2604  85471.0684\n",
            " 101226.766   80540.3888  71973.3454  65160.2227  66609.4211  68056.7471\n",
            "  89053.7608 102661.829   82892.8106  66345.9128  67348.9168  68697.7524\n",
            "  70021.8315  81629.0055  94085.2532  74949.0549  69233.6476  63157.1162\n",
            "  67106.8135  70781.9196  83931.7107 102451.8103  83654.146   73511.6197\n",
            "  71401.8927  71932.3166  72277.8493  83693.1457 102910.9456  79706.7028\n",
            "  72957.4978  72398.1315  71346.4106  80401.4001  93180.8974 102176.1146\n",
            "  75245.9208  67342.506   68516.2798  72394.4893  76591.2585  89157.6872\n",
            " 101321.8057  79470.304   66606.8695  66159.9885  63098.4982  74118.2708\n",
            "  78908.6958 102441.4829  80225.3408  72624.1447  70174.3245  67572.366\n",
            "  68014.4806  79172.5635  93807.1142  73489.7961  68498.0307  68061.0794\n",
            "  60344.257   99821.5848  82770.9709  73527.3117  69371.2296  67139.5422\n",
            "  73349.2185  72250.2925  81304.804   93113.4472  77318.3928  65130.8892\n",
            "  69762.8735  71295.987   71402.4019  77403.6827  93186.2321  76590.5929\n",
            "  68123.2864  69869.383   71197.2152  67307.8186  75338.1356  87845.0265\n",
            "  76291.9441  68990.4228  66234.1934  71743.6047  75009.0785  40367.8388\n",
            "  69018.7618  74149.0236  69095.3455  67505.7751  74225.1191  69798.226\n",
            "  53753.8744  71834.6714  75057.6418  66489.2122  64301.5539  66302.6545\n",
            "  76865.6874  96811.5506  69290.5409  64329.0819  63589.4269  67399.6126\n",
            "  67433.5629  81637.6693  97771.1775  51280.9675  74273.2129  60613.9172\n",
            "  69370.0526  67087.8161  79501.7683 107217.05    81270.4302  64688.4089\n",
            "  68159.5276  70815.9637  71364.2239  87240.0522 109826.9879  82660.5125\n",
            "  70512.9545  75381.9762  72678.1343  77688.4982  86247.91   124029.4165\n",
            "  85851.5145  72594.0421  74082.6293  69700.9232  74668.6724  81963.3205\n",
            " 104288.1392  78003.8229  65349.3312  69120.141   70892.4136  71941.4984\n",
            "  88490.5473 115639.6302  89228.1151  77982.5532  72563.0732  71876.0722\n",
            "  79922.8561  89216.8171 121412.8074  89174.7171  76183.0878  81309.2237\n",
            "  80626.2762  87787.139   90921.2682 112293.612   85961.6387  75871.0492\n",
            "  76045.9831  72437.8111  81814.7095  90609.9227 114047.3319  82890.4226\n",
            "  74016.3612  70278.3808  77558.977   76489.4082  72212.7678 119587.7452\n",
            "  83119.8273  79345.9489  72961.418   71860.0966  75781.8659  89229.1446\n",
            " 100943.1233  81751.832   70937.3941  70511.6415  71247.3158  77555.1865\n",
            " 100181.7637 103990.8174  83052.6768  54756.0473  65133.5258  86902.8736\n",
            "  87988.1755 101580.9795  74082.6745  69394.0693  67601.6198  91816.4153\n",
            "  86659.8859 105905.6362 108962.0733  82335.6299  80017.6107  79209.1513\n",
            "  79215.963  115673.0894 119181.6564  88818.4883  81270.0239  82502.2629\n",
            "  87305.8816  82081.1566 103825.9418 117630.6436  86311.3122  80521.8912\n",
            "  81898.2066  81362.4834  80957.8648  92025.6146 114062.9871  71340.9868\n",
            "  79257.2401  82207.557   81869.9195  82026.3877  92480.6763 115862.0489\n",
            "  83812.3335  75468.1332  75146.1385  76335.3088  80085.9155  89957.8719\n",
            "  99883.3044  85165.2908  78353.4513  77374.3781  73681.1464  79420.52\n",
            "  93977.3826 100147.1543  77252.6176  60613.4951  80420.79    89852.193\n",
            "  82769.5204  97735.8261 112580.3734  82713.695   82711.4774  82165.5315\n",
            "  79028.6403  81697.1517  90113.3658 106817.7837  79973.6992  78661.0885\n",
            "  68413.5417  77026.1782  76493.7888  88094.7006 103148.1699  72462.6812\n",
            "  83535.8226  75843.8121  73892.496   75734.5133  87632.6339 107386.8853\n",
            "  87874.9234  75765.274   73457.1569  75550.976   84728.575 ]\n"
          ]
        }
      ]
    },
    {
      "cell_type": "code",
      "source": [
        "# Split dataset into training and testing datasets\n",
        "from sklearn.model_selection import train_test_split # get the train test and split function from the sklearn library\n",
        "x_train,x_test,y_train,y_test=train_test_split(x,y,test_size=0.3,random_state=0) # will test on 30% of data\n"
      ],
      "metadata": {
        "id": "1I4cksrIlH8Y"
      },
      "execution_count": null,
      "outputs": []
    },
    {
      "cell_type": "code",
      "source": [
        "# train the Model on the Training set\n",
        "from sklearn.linear_model import LinearRegression\n",
        "ml=LinearRegression() # create the model\n",
        "ml.fit(x_train,y_train) # fit the model\n",
        "LinearRegression(copy_X=True, fit_intercept=True, n_jobs=None, normalize=False)"
      ],
      "metadata": {
        "id": "L2ZrOtP0mjlP",
        "colab": {
          "base_uri": "https://localhost:8080/"
        },
        "outputId": "525982cd-b0b0-4e0d-a9fe-ddc9c6a96ec1"
      },
      "execution_count": null,
      "outputs": [
        {
          "output_type": "execute_result",
          "data": {
            "text/plain": [
              "LinearRegression(normalize=False)"
            ]
          },
          "metadata": {},
          "execution_count": 11
        }
      ]
    },
    {
      "cell_type": "code",
      "source": [
        "# Use trained model to predict the target variable (we know these values, it's how we can tell the accuracy of the model before putting into production)\n",
        "y_pred = ml.predict(x_test)\n",
        "print(y_pred)\n"
      ],
      "metadata": {
        "id": "02ppbdRWqYly",
        "colab": {
          "base_uri": "https://localhost:8080/"
        },
        "outputId": "e8d4a2a0-19ed-4cc6-e1e5-028272ac29ea"
      },
      "execution_count": null,
      "outputs": [
        {
          "output_type": "stream",
          "name": "stdout",
          "text": [
            "[ 56187.54937442  47767.72137803  57880.22148939  72848.67384975\n",
            "  84607.7781946   71028.9116718   90537.8111672   71507.40381591\n",
            "  60382.82112114  57470.88448949  68928.15920693  76712.86184478\n",
            "  80830.48633152  69673.36842269  70300.54708132  70974.02501403\n",
            "  60260.80800769  74564.98693465  76169.06932522  71308.7428121\n",
            "  65981.58304701  64083.24159126 102888.69143868  70097.05791375\n",
            "  88820.69933669  72030.89189956  68185.40420108  68684.1802638\n",
            "  58955.40064268  70065.80958588  53520.68090016  73463.27256607\n",
            "  69592.68183408  65297.56731779  59610.75366707  94696.50723089\n",
            "  59355.47743395  63398.74176167  74956.78518764  68143.60801529\n",
            "  63326.63215056  95226.8174762   71413.70286339  89777.97907552\n",
            "  66796.31774448  47286.93549152  83655.12889024  69240.87889184\n",
            "  66976.57305878  99915.53625265  95581.03126718  69443.42135746\n",
            "  51442.2695293   89650.93666487  64101.15002945  64111.7350407\n",
            "  70695.26143534  91023.19318061  85122.08293382  48163.03721517\n",
            " 100000.36213767  67511.8479202   76974.15262643  65274.31652535\n",
            "  82281.00119127  67961.42031109  94297.32195404  70283.40700542\n",
            "  70401.65441699  67188.68018166  95817.12665371  74692.47722573\n",
            "  76845.75968624  62990.10316964  61329.82705672  57635.6925972\n",
            "  92064.32972639  69944.00517877  77881.4441257   77748.26656955\n",
            "  64707.56835712  66253.5945366   77822.56941384  75890.30361462\n",
            "  64114.07110974  90641.12036486  72664.75115156  69694.2469339\n",
            "  68398.37209657  66069.90308876  69825.70200956  69610.11863917\n",
            "  69261.28201027  61835.08997911  64244.89562129  96426.0200698\n",
            "  93839.26711487  90803.92358929  81468.59052277  74139.23469773\n",
            "  69202.92355626  83056.2926046   63908.36380736  59481.05064672\n",
            "  64120.02242756  52696.47321223  54648.69598579  85971.5035493\n",
            "  80165.01361927  67251.9852458   66136.36275648  76692.10147443\n",
            "  62574.56958519  86849.16122014  89648.24867344  66341.8003948\n",
            "  85441.64229615  57265.95607177  82544.09356171  53854.28124225\n",
            "  49081.20694719  64870.92478963  89532.3415537   75664.79103798\n",
            "  66988.51210057  50027.04923161  60980.15532676  52930.09079022\n",
            "  65723.09012113  78154.67981978  64773.73359831  60876.94965699\n",
            "  92675.58552632  66495.14823763  70635.17865253  43936.00539037\n",
            "  78229.2316007   38266.45839955  67104.34166868  70707.83876536\n",
            "  72318.45518946  70265.67233693  81309.87270619  62382.69498017\n",
            "  68911.64548637  62245.74721332  78812.6970386   47705.26699676\n",
            "  78778.80907365  87911.51896047  65983.1756281   63383.93650522\n",
            "  63711.93419899  69400.82010571  54463.44529111  55590.78637334\n",
            "  73365.70161488  84643.61836511  56751.00130176  64509.44030885\n",
            "  65076.53897962  86396.80276193  75843.78530248  56741.99998468\n",
            "  84559.28095847  98898.41007354  73686.22615532  69203.16100167\n",
            "  72992.54667133  66726.25724911  71134.11991959  61594.92013143\n",
            "  65879.63657418  72126.91670616  59210.14615156  72765.56393298\n",
            "  72816.8845901   54548.97121314  83403.05667603  63592.89910972\n",
            "  64066.61291108  67323.26646372  62101.32924801  54642.09723384\n",
            "  75113.83864197  89917.33328948  91528.1025504   89516.61162995\n",
            "  65340.73875453  52791.18176128  71034.85219914  97308.75958428\n",
            "  72334.3544121   75161.26189068  75898.85573324  91196.72906281\n",
            "  67737.73350612  69671.83893854  76633.17600322  67081.521062\n",
            "  72385.98732486  98072.14886215  83814.97385197  61358.04062224\n",
            "  53990.84636285  99561.43280264  67088.83346841  64795.15962065\n",
            "  82095.05734234  63471.92192497  93793.60113706  85006.32149094\n",
            "  84514.71124606  64221.18685592  66080.83476208  74605.80935291\n",
            "  56537.71251385  60448.03987479  69256.28174643  56901.63385111\n",
            "  72003.50795941  59755.10572388  83827.37096042  71383.18357275\n",
            "  79057.12605417  43811.38640767  71255.28988407  73330.61416746\n",
            "  70388.04123574  93368.81000671  66574.99485007  70074.9764735\n",
            "  42970.73875964  52840.9553621   68728.16984746  76177.08667353\n",
            "  86980.74705219  61607.9969392   85939.41768964  72694.43195265\n",
            "  63098.40347823  71048.73443943  63372.67414924  52217.19319978\n",
            "  73343.32640183  66138.83762982  71104.64449715  61870.65140513\n",
            "  62453.79539273  67570.73587226  69185.26348725  85110.56636106\n",
            "  63533.99413272  90838.50511475  70084.99048882  70496.32473498\n",
            "  94404.82261131  65840.32725742  74785.17936084]\n"
          ]
        }
      ]
    },
    {
      "cell_type": "code",
      "source": [
        "# input a row of values for the independent variables and see how close it gets to predicting the already known target variable\n",
        "ml.predict([[142054.7351, 0, 0, 1, 0, 0, 0]])  # the actual value for profit is 82,207.56, if you refit the model, the prediction will (should) change"
      ],
      "metadata": {
        "id": "mrr7sttyrgAb",
        "colab": {
          "base_uri": "https://localhost:8080/"
        },
        "outputId": "7bba8837-90e3-4b39-d160-dfebed066819"
      },
      "execution_count": null,
      "outputs": [
        {
          "output_type": "execute_result",
          "data": {
            "text/plain": [
              "array([83056.2926046])"
            ]
          },
          "metadata": {},
          "execution_count": 13
        }
      ]
    },
    {
      "cell_type": "markdown",
      "source": [
        "Adjusted R2 = 1 – [(1-R2)*(n-1)/(n-k-1)]"
      ],
      "metadata": {
        "id": "Huw4fJjNWbng"
      }
    },
    {
      "cell_type": "code",
      "source": [
        "# R-Square tells how much of the variation in the dependent variable can be explained by the independent variables used in the regression\n",
        "# This means, 70% of the variation can be explained\n",
        "from sklearn.metrics import r2_score\n",
        "R2 = r2_score(y_test,y_pred)\n",
        "adjR2 = adjR2 = 1 - ( 1-R2) * ( len(y) - 1 ) / ( len(y) - x.shape[1] - 1 )\n",
        "print(R2)\n",
        "print(adjR2)"
      ],
      "metadata": {
        "id": "j2kD542Lsaz0",
        "colab": {
          "base_uri": "https://localhost:8080/"
        },
        "outputId": "a84a4611-871e-4735-d30a-e0fc6c0f582d"
      },
      "execution_count": null,
      "outputs": [
        {
          "output_type": "stream",
          "name": "stdout",
          "text": [
            "0.7063691779252618\n",
            "0.7039651828907317\n"
          ]
        }
      ]
    },
    {
      "cell_type": "markdown",
      "source": [
        "### **Plot Results**"
      ],
      "metadata": {
        "id": "qpG1kAUhZnBf"
      }
    },
    {
      "cell_type": "code",
      "source": [
        "# Plot the actual values and the predicte values (y)\n",
        "import matplotlib.pyplot as plt \n",
        "plt.figure(figsize=(15,10))\n",
        "plt.scatter(y_test, y_pred) \n",
        "plt.xlabel('Actual')\n",
        "plt.ylabel('Predicted')\n",
        "plt.title('Actual vs. Predicted')\n",
        "plt.show()\n",
        "# This shows a moderate to low positive correlation"
      ],
      "metadata": {
        "id": "ISlO7MAHmF3x",
        "colab": {
          "base_uri": "https://localhost:8080/",
          "height": 621
        },
        "outputId": "483a5956-ef33-4199-986f-47d3ff2f0db3"
      },
      "execution_count": null,
      "outputs": [
        {
          "output_type": "display_data",
          "data": {
            "text/plain": [
              "<Figure size 1080x720 with 1 Axes>"
            ],
            "image/png": "[encoded data removed]"
          },
          "metadata": {
            "needs_background": "light"
          }
        }
      ]
    },
    {
      "cell_type": "markdown",
      "source": [
        "Predicted Values"
      ],
      "metadata": {
        "id": "WlMZE_uSaQfe"
      }
    },
    {
      "cell_type": "code",
      "source": [
        "#Predicted Values of \"y\" from the test set\n",
        "pred_y_df=pd.DataFrame({'Actual Value':y_test, 'Predicted Value':y_pred, 'Difference':y_test - y_pred})\n",
        "pred_y_df[0:20]\n",
        "# Especially when the prediction is being made by a glorified adding machine"
      ],
      "metadata": {
        "id": "pbzsOGI8uiss",
        "colab": {
          "base_uri": "https://localhost:8080/",
          "height": 677
        },
        "outputId": "76b3b994-c2dc-426e-ea49-9256688b4d02"
      },
      "execution_count": null,
      "outputs": [
        {
          "output_type": "execute_result",
          "data": {
            "text/plain": [
              "    Actual Value  Predicted Value    Difference\n",
              "0     54032.5120     56187.549374  -2155.037374\n",
              "1     36137.4031     47767.721378 -11630.318278\n",
              "2     58481.4649     57880.221489    601.243411\n",
              "3     80686.3860     72848.673850   7837.712150\n",
              "4     89838.4379     84607.778195   5230.659705\n",
              "5     64774.8250     71028.911672  -6254.086672\n",
              "6     84009.5975     90537.811167  -6528.213667\n",
              "7     62991.9838     71507.403816  -8515.420016\n",
              "8     74149.0236     60382.821121  13766.202479\n",
              "9     66489.2122     57470.884489   9018.327711\n",
              "10    72577.6165     68928.159207   3649.457293\n",
              "11    89174.7171     76712.861845  12461.855255\n",
              "12    71340.9868     80830.486332  -9489.499532\n",
              "13    68026.1813     69673.368423  -1647.187123\n",
              "14    83119.8273     70300.547081  12819.280219\n",
              "15    68498.0307     70974.025014  -2475.994314\n",
              "16    58034.3911     60260.808008  -2226.416908\n",
              "17    79372.4644     74564.986935   4807.477465\n",
              "18    72864.9934     76169.069325  -3304.075925\n",
              "19    76291.9441     71308.742812   4983.201288"
            ],
            "text/html": [
              "\n",
              "  <div id=\"df-c4bf38fe-5800-4057-9b73-f4508d9749f3\">\n",
              "    <div class=\"colab-df-container\">\n",
              "      <div>\n",
              "<style scoped>\n",
              "    .dataframe tbody tr th:only-of-type {\n",
              "        vertical-align: middle;\n",
              "    }\n",
              "\n",
              "    .dataframe tbody tr th {\n",
              "        vertical-align: top;\n",
              "    }\n",
              "\n",
              "    .dataframe thead th {\n",
              "        text-align: right;\n",
              "    }\n",
              "</style>\n",
              "<table border=\"1\" class=\"dataframe\">\n",
              "  <thead>\n",
              "    <tr style=\"text-align: right;\">\n",
              "      <th></th>\n",
              "      <th>Actual Value</th>\n",
              "      <th>Predicted Value</th>\n",
              "      <th>Difference</th>\n",
              "    </tr>\n",
              "  </thead>\n",
              "  <tbody>\n",
              "    <tr>\n",
              "      <th>0</th>\n",
              "      <td>54032.5120</td>\n",
              "      <td>56187.549374</td>\n",
              "      <td>-2155.037374</td>\n",
              "    </tr>\n",
              "    <tr>\n",
              "      <th>1</th>\n",
              "      <td>36137.4031</td>\n",
              "      <td>47767.721378</td>\n",
              "      <td>-11630.318278</td>\n",
              "    </tr>\n",
              "    <tr>\n",
              "      <th>2</th>\n",
              "      <td>58481.4649</td>\n",
              "      <td>57880.221489</td>\n",
              "      <td>601.243411</td>\n",
              "    </tr>\n",
              "    <tr>\n",
              "      <th>3</th>\n",
              "      <td>80686.3860</td>\n",
              "      <td>72848.673850</td>\n",
              "      <td>7837.712150</td>\n",
              "    </tr>\n",
              "    <tr>\n",
              "      <th>4</th>\n",
              "      <td>89838.4379</td>\n",
              "      <td>84607.778195</td>\n",
              "      <td>5230.659705</td>\n",
              "    </tr>\n",
              "    <tr>\n",
              "      <th>5</th>\n",
              "      <td>64774.8250</td>\n",
              "      <td>71028.911672</td>\n",
              "      <td>-6254.086672</td>\n",
              "    </tr>\n",
              "    <tr>\n",
              "      <th>6</th>\n",
              "      <td>84009.5975</td>\n",
              "      <td>90537.811167</td>\n",
              "      <td>-6528.213667</td>\n",
              "    </tr>\n",
              "    <tr>\n",
              "      <th>7</th>\n",
              "      <td>62991.9838</td>\n",
              "      <td>71507.403816</td>\n",
              "      <td>-8515.420016</td>\n",
              "    </tr>\n",
              "    <tr>\n",
              "      <th>8</th>\n",
              "      <td>74149.0236</td>\n",
              "      <td>60382.821121</td>\n",
              "      <td>13766.202479</td>\n",
              "    </tr>\n",
              "    <tr>\n",
              "      <th>9</th>\n",
              "      <td>66489.2122</td>\n",
              "      <td>57470.884489</td>\n",
              "      <td>9018.327711</td>\n",
              "    </tr>\n",
              "    <tr>\n",
              "      <th>10</th>\n",
              "      <td>72577.6165</td>\n",
              "      <td>68928.159207</td>\n",
              "      <td>3649.457293</td>\n",
              "    </tr>\n",
              "    <tr>\n",
              "      <th>11</th>\n",
              "      <td>89174.7171</td>\n",
              "      <td>76712.861845</td>\n",
              "      <td>12461.855255</td>\n",
              "    </tr>\n",
              "    <tr>\n",
              "      <th>12</th>\n",
              "      <td>71340.9868</td>\n",
              "      <td>80830.486332</td>\n",
              "      <td>-9489.499532</td>\n",
              "    </tr>\n",
              "    <tr>\n",
              "      <th>13</th>\n",
              "      <td>68026.1813</td>\n",
              "      <td>69673.368423</td>\n",
              "      <td>-1647.187123</td>\n",
              "    </tr>\n",
              "    <tr>\n",
              "      <th>14</th>\n",
              "      <td>83119.8273</td>\n",
              "      <td>70300.547081</td>\n",
              "      <td>12819.280219</td>\n",
              "    </tr>\n",
              "    <tr>\n",
              "      <th>15</th>\n",
              "      <td>68498.0307</td>\n",
              "      <td>70974.025014</td>\n",
              "      <td>-2475.994314</td>\n",
              "    </tr>\n",
              "    <tr>\n",
              "      <th>16</th>\n",
              "      <td>58034.3911</td>\n",
              "      <td>60260.808008</td>\n",
              "      <td>-2226.416908</td>\n",
              "    </tr>\n",
              "    <tr>\n",
              "      <th>17</th>\n",
              "      <td>79372.4644</td>\n",
              "      <td>74564.986935</td>\n",
              "      <td>4807.477465</td>\n",
              "    </tr>\n",
              "    <tr>\n",
              "      <th>18</th>\n",
              "      <td>72864.9934</td>\n",
              "      <td>76169.069325</td>\n",
              "      <td>-3304.075925</td>\n",
              "    </tr>\n",
              "    <tr>\n",
              "      <th>19</th>\n",
              "      <td>76291.9441</td>\n",
              "      <td>71308.742812</td>\n",
              "      <td>4983.201288</td>\n",
              "    </tr>\n",
              "  </tbody>\n",
              "</table>\n",
              "</div>\n",
              "      <button class=\"colab-df-convert\" onclick=\"convertToInteractive('df-c4bf38fe-5800-4057-9b73-f4508d9749f3')\"\n",
              "              title=\"Convert this dataframe to an interactive table.\"\n",
              "              style=\"display:none;\">\n",
              "        \n",
              "  <svg xmlns=\"http://www.w3.org/2000/svg\" height=\"24px\"viewBox=\"0 0 24 24\"\n",
              "       width=\"24px\">\n",
              "    <path d=\"M0 0h24v24H0V0z\" fill=\"none\"/>\n",
              "    <path d=\"M18.56 5.44l.94 2.06.94-2.06 2.06-.94-2.06-.94-.94-2.06-.94 2.06-2.06.94zm-11 1L8.5 8.5l.94-2.06 2.06-.94-2.06-.94L8.5 2.5l-.94 2.06-2.06.94zm10 10l.94 2.06.94-2.06 2.06-.94-2.06-.94-.94-2.06-.94 2.06-2.06.94z\"/><path d=\"M17.41 7.96l-1.37-1.37c-.4-.4-.92-.59-1.43-.59-.52 0-1.04.2-1.43.59L10.3 9.45l-7.72 7.72c-.78.78-.78 2.05 0 2.83L4 21.41c.39.39.9.59 1.41.59.51 0 1.02-.2 1.41-.59l7.78-7.78 2.81-2.81c.8-.78.8-2.07 0-2.86zM5.41 20L4 18.59l7.72-7.72 1.47 1.35L5.41 20z\"/>\n",
              "  </svg>\n",
              "      </button>\n",
              "      \n",
              "  <style>\n",
              "    .colab-df-container {\n",
              "      display:flex;\n",
              "      flex-wrap:wrap;\n",
              "      gap: 12px;\n",
              "    }\n",
              "\n",
              "    .colab-df-convert {\n",
              "      background-color: #E8F0FE;\n",
              "      border: none;\n",
              "      border-radius: 50%;\n",
              "      cursor: pointer;\n",
              "      display: none;\n",
              "      fill: #1967D2;\n",
              "      height: 32px;\n",
              "      padding: 0 0 0 0;\n",
              "      width: 32px;\n",
              "    }\n",
              "\n",
              "    .colab-df-convert:hover {\n",
              "      background-color: #E2EBFA;\n",
              "      box-shadow: 0px 1px 2px rgba(60, 64, 67, 0.3), 0px 1px 3px 1px rgba(60, 64, 67, 0.15);\n",
              "      fill: #174EA6;\n",
              "    }\n",
              "\n",
              "    [theme=dark] .colab-df-convert {\n",
              "      background-color: #3B4455;\n",
              "      fill: #D2E3FC;\n",
              "    }\n",
              "\n",
              "    [theme=dark] .colab-df-convert:hover {\n",
              "      background-color: #434B5C;\n",
              "      box-shadow: 0px 1px 3px 1px rgba(0, 0, 0, 0.15);\n",
              "      filter: drop-shadow(0px 1px 2px rgba(0, 0, 0, 0.3));\n",
              "      fill: #FFFFFF;\n",
              "    }\n",
              "  </style>\n",
              "\n",
              "      <script>\n",
              "        const buttonEl =\n",
              "          document.querySelector('#df-c4bf38fe-5800-4057-9b73-f4508d9749f3 button.colab-df-convert');\n",
              "        buttonEl.style.display =\n",
              "          google.colab.kernel.accessAllowed ? 'block' : 'none';\n",
              "\n",
              "        async function convertToInteractive(key) {\n",
              "          const element = document.querySelector('#df-c4bf38fe-5800-4057-9b73-f4508d9749f3');\n",
              "          const dataTable =\n",
              "            await google.colab.kernel.invokeFunction('convertToInteractive',\n",
              "                                                     [key], {});\n",
              "          if (!dataTable) return;\n",
              "\n",
              "          const docLinkHtml = 'Like what you see? Visit the ' +\n",
              "            '<a target=\"_blank\" href=https://colab.research.google.com/notebooks/data_table.ipynb>data table notebook</a>'\n",
              "            + ' to learn more about interactive tables.';\n",
              "          element.innerHTML = '';\n",
              "          dataTable['output_type'] = 'display_data';\n",
              "          await google.colab.output.renderOutput(dataTable, element);\n",
              "          const docLink = document.createElement('div');\n",
              "          docLink.innerHTML = docLinkHtml;\n",
              "          element.appendChild(docLink);\n",
              "        }\n",
              "      </script>\n",
              "    </div>\n",
              "  </div>\n",
              "  "
            ]
          },
          "metadata": {},
          "execution_count": 23
        }
      ]
    }
  ]
}