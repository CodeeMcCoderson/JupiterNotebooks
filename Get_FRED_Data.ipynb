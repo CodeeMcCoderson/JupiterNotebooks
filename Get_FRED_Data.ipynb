{
 "cells": [
  {
   "cell_type": "code",
   "execution_count": 11,
   "id": "4fe4e664",
   "metadata": {},
   "outputs": [
    {
     "name": "stdout",
     "output_type": "stream",
     "text": [
      "Defaulting to user installation because normal site-packages is not writeable\n",
      "Requirement already satisfied: pytest in c:\\anaconda3\\lib\\site-packages (7.1.1)\n",
      "Requirement already satisfied: attrs>=19.2.0 in c:\\anaconda3\\lib\\site-packages (from pytest) (21.4.0)\n",
      "Requirement already satisfied: iniconfig in c:\\anaconda3\\lib\\site-packages (from pytest) (1.1.1)\n",
      "Requirement already satisfied: packaging in c:\\anaconda3\\lib\\site-packages (from pytest) (21.3)\n",
      "Requirement already satisfied: pluggy<2.0,>=0.12 in c:\\anaconda3\\lib\\site-packages (from pytest) (1.0.0)\n",
      "Requirement already satisfied: py>=1.8.2 in c:\\anaconda3\\lib\\site-packages (from pytest) (1.11.0)\n",
      "Requirement already satisfied: tomli>=1.0.0 in c:\\anaconda3\\lib\\site-packages (from pytest) (1.2.2)\n",
      "Requirement already satisfied: atomicwrites>=1.0 in c:\\anaconda3\\lib\\site-packages (from pytest) (1.4.0)\n",
      "Requirement already satisfied: colorama in c:\\anaconda3\\lib\\site-packages (from pytest) (0.4.4)\n",
      "Requirement already satisfied: pyparsing!=3.0.5,>=2.0.2 in c:\\anaconda3\\lib\\site-packages (from packaging->pytest) (3.0.4)\n",
      "Note: you may need to restart the kernel to use updated packages.\n"
     ]
    },
    {
     "name": "stderr",
     "output_type": "stream",
     "text": [
      "WARNING: You are using pip version 22.0.4; however, version 22.3.1 is available.\n",
      "You should consider upgrading via the 'C:\\Anaconda3\\python.exe -m pip install --upgrade pip' command.\n"
     ]
    }
   ],
   "source": [
    "#pip install full-fred"
   ]
  },
  {
   "cell_type": "code",
   "execution_count": 45,
   "id": "f26bc48a",
   "metadata": {},
   "outputs": [],
   "source": [
    "from full_fred.fred import Fred\n",
    "import pandas as pd"
   ]
  },
  {
   "cell_type": "code",
   "execution_count": 13,
   "id": "b1ba97d6",
   "metadata": {},
   "outputs": [],
   "source": [
    "fred = Fred('FILE PATH/FredApiKey.txt')"
   ]
  },
  {
   "cell_type": "code",
   "execution_count": 14,
   "id": "215af32e",
   "metadata": {},
   "outputs": [
    {
     "data": {
      "text/plain": [
       "'C:/Users/e20789/Desktop/Python Scripts/Macroeconomic Data/FredApiKey.txt'"
      ]
     },
     "execution_count": 14,
     "metadata": {},
     "output_type": "execute_result"
    }
   ],
   "source": [
    "fred.get_api_key_file()"
   ]
  },
  {
   "cell_type": "code",
   "execution_count": 28,
   "id": "b5bd18f9",
   "metadata": {},
   "outputs": [
    {
     "data": {
      "text/plain": [
       "True"
      ]
     },
     "execution_count": 28,
     "metadata": {},
     "output_type": "execute_result"
    }
   ],
   "source": [
    "fred.set_api_key_file('FILE PATH/FredApiKey.txt')"
   ]
  },
  {
   "cell_type": "code",
   "execution_count": 36,
   "id": "4866d8eb",
   "metadata": {},
   "outputs": [],
   "source": [
    "fed_rate = fred.get_series_df('DFF')"
   ]
  },
  {
   "cell_type": "code",
   "execution_count": 38,
   "id": "ea0f809c",
   "metadata": {},
   "outputs": [],
   "source": [
    "fed_rate.drop(['realtime_start','realtime_end'], axis=1, inplace=True)"
   ]
  },
  {
   "cell_type": "code",
   "execution_count": 39,
   "id": "528d0ddb",
   "metadata": {},
   "outputs": [],
   "source": [
    "fed_rate = fed_rate[fed_rate['date']>='2010-01-01']"
   ]
  },
  {
   "cell_type": "code",
   "execution_count": 48,
   "id": "14a55727",
   "metadata": {},
   "outputs": [
    {
     "name": "stderr",
     "output_type": "stream",
     "text": [
      "C:\\Users\\e20789\\AppData\\Local\\Temp\\ipykernel_18228\\3934747240.py:1: SettingWithCopyWarning: \n",
      "A value is trying to be set on a copy of a slice from a DataFrame.\n",
      "Try using .loc[row_indexer,col_indexer] = value instead\n",
      "\n",
      "See the caveats in the documentation: https://pandas.pydata.org/pandas-docs/stable/user_guide/indexing.html#returning-a-view-versus-a-copy\n",
      "  fed_rate[\"value\"] = pd.to_numeric(fed_rate[\"value\"])\n"
     ]
    }
   ],
   "source": [
    "fed_rate[\"value\"] = pd.to_numeric(fed_rate[\"value\"])"
   ]
  },
  {
   "cell_type": "code",
   "execution_count": 49,
   "id": "aa63a7cd",
   "metadata": {},
   "outputs": [
    {
     "name": "stderr",
     "output_type": "stream",
     "text": [
      "C:\\Users\\e20789\\AppData\\Local\\Temp\\ipykernel_18228\\3984878060.py:1: SettingWithCopyWarning: \n",
      "A value is trying to be set on a copy of a slice from a DataFrame.\n",
      "Try using .loc[row_indexer,col_indexer] = value instead\n",
      "\n",
      "See the caveats in the documentation: https://pandas.pydata.org/pandas-docs/stable/user_guide/indexing.html#returning-a-view-versus-a-copy\n",
      "  fed_rate['date'] = pd.to_datetime(fed_rate['date'])\n",
      "C:\\Users\\e20789\\AppData\\Local\\Temp\\ipykernel_18228\\3984878060.py:2: SettingWithCopyWarning: \n",
      "A value is trying to be set on a copy of a slice from a DataFrame.\n",
      "Try using .loc[row_indexer,col_indexer] = value instead\n",
      "\n",
      "See the caveats in the documentation: https://pandas.pydata.org/pandas-docs/stable/user_guide/indexing.html#returning-a-view-versus-a-copy\n",
      "  fed_rate['MonthlyAverage'] = (fed_rate.groupby(fed_rate['date'].dt.to_period('M'))\n"
     ]
    }
   ],
   "source": [
    "fed_rate['date'] = pd.to_datetime(fed_rate['date'])\n",
    "fed_rate['MonthlyAverage'] = (fed_rate.groupby(fed_rate['date'].dt.to_period('M'))\n",
    "                          ['value'].transform('mean')\n",
    "                       )"
   ]
  },
  {
   "cell_type": "code",
   "execution_count": 53,
   "id": "f6e9f022",
   "metadata": {},
   "outputs": [],
   "source": [
    "fed_rate = fed_rate[fed_rate['date'].dt.is_month_start]"
   ]
  },
  {
   "cell_type": "code",
   "execution_count": 59,
   "id": "0917bfb5",
   "metadata": {},
   "outputs": [],
   "source": [
    "fed_rate.drop(['value'], axis=1, inplace=True)"
   ]
  },
  {
   "cell_type": "code",
   "execution_count": 61,
   "id": "06e24e77",
   "metadata": {},
   "outputs": [],
   "source": [
    "excelfilename = 'Fed_Rate.csv'\n",
    "exportpath = 'FILE PATH'\n",
    "fed_rate.to_csv(exportpath+excelfilename)"
   ]
  },
  {
   "cell_type": "code",
   "execution_count": null,
   "id": "75d6459d",
   "metadata": {},
   "outputs": [],
   "source": []
  }
 ],
 "metadata": {
  "kernelspec": {
   "display_name": "Python 3 (ipykernel)",
   "language": "python",
   "name": "python3"
  },
  "language_info": {
   "codemirror_mode": {
    "name": "ipython",
    "version": 3
   },
   "file_extension": ".py",
   "mimetype": "text/x-python",
   "name": "python",
   "nbconvert_exporter": "python",
   "pygments_lexer": "ipython3",
   "version": "3.9.12"
  }
 },
 "nbformat": 4,
 "nbformat_minor": 5
}
