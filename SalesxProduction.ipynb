{
  "nbformat": 4,
  "nbformat_minor": 0,
  "metadata": {
    "colab": {
      "provenance": [],
      "collapsed_sections": []
    },
    "kernelspec": {
      "name": "python3",
      "display_name": "Python 3"
    },
    "language_info": {
      "name": "python"
    }
  },
  "cells": [
    {
      "cell_type": "markdown",
      "source": [
        "Machine Learning"
      ],
      "metadata": {
        "id": "3QLCQ6gQCier"
      }
    },
    {
      "cell_type": "code",
      "source": [
        "from google.colab import drive\n",
        "drive.mount('/content/drive')"
      ],
      "metadata": {
        "id": "Jy-oh3Zni8GJ",
        "colab": {
          "base_uri": "https://localhost:8080/"
        },
        "outputId": "9d27b64b-3a0f-4229-e6eb-9780e34ccc1e"
      },
      "execution_count": 1,
      "outputs": [
        {
          "output_type": "stream",
          "name": "stdout",
          "text": [
            "Mounted at /content/drive\n"
          ]
        }
      ]
    },
    {
      "cell_type": "code",
      "execution_count": 2,
      "metadata": {
        "id": "eOqMjA6Mgml_",
        "colab": {
          "base_uri": "https://localhost:8080/"
        },
        "outputId": "f2de58c7-3d1e-40d2-ba4c-54bd95adf010"
      },
      "outputs": [
        {
          "output_type": "stream",
          "name": "stderr",
          "text": [
            "/usr/local/lib/python3.7/dist-packages/ipykernel_launcher.py:4: FutureWarning: pandas.util.testing is deprecated. Use the functions in the public API at pandas.testing instead.\n",
            "  after removing the cwd from sys.path.\n"
          ]
        }
      ],
      "source": [
        "import pandas as pd\n",
        "import numpy as np\n",
        "import statsmodels.api as sm \n",
        "import pandas.util.testing as tm\n",
        "import matplotlib.pyplot as plt"
      ]
    },
    {
      "cell_type": "code",
      "source": [
        "data_df=pd.read_csv('/content/drive/MyDrive/Data/SalesvProduction.csv')\n"
      ],
      "metadata": {
        "id": "SpAxyhHwhBuL"
      },
      "execution_count": 3,
      "outputs": []
    },
    {
      "cell_type": "code",
      "source": [
        "data_df.head()"
      ],
      "metadata": {
        "id": "GVaY3DPci96b",
        "colab": {
          "base_uri": "https://localhost:8080/",
          "height": 206
        },
        "outputId": "1ce47c18-09ca-4687-edb6-0ed560973605"
      },
      "execution_count": 4,
      "outputs": [
        {
          "output_type": "execute_result",
          "data": {
            "text/plain": [
              "       Date  Production     Sales\n",
              "0  1/1/2017     26879.0  26174.45\n",
              "1  1/2/2017     22456.0  52560.55\n",
              "2  1/3/2017     17247.0  46779.68\n",
              "3  1/4/2017     20987.0  44393.35\n",
              "4  1/5/2017     21905.0  45602.32"
            ],
            "text/html": [
              "\n",
              "  <div id=\"df-6056e40d-7d22-4eed-a91c-fe54a5ac8ead\">\n",
              "    <div class=\"colab-df-container\">\n",
              "      <div>\n",
              "<style scoped>\n",
              "    .dataframe tbody tr th:only-of-type {\n",
              "        vertical-align: middle;\n",
              "    }\n",
              "\n",
              "    .dataframe tbody tr th {\n",
              "        vertical-align: top;\n",
              "    }\n",
              "\n",
              "    .dataframe thead th {\n",
              "        text-align: right;\n",
              "    }\n",
              "</style>\n",
              "<table border=\"1\" class=\"dataframe\">\n",
              "  <thead>\n",
              "    <tr style=\"text-align: right;\">\n",
              "      <th></th>\n",
              "      <th>Date</th>\n",
              "      <th>Production</th>\n",
              "      <th>Sales</th>\n",
              "    </tr>\n",
              "  </thead>\n",
              "  <tbody>\n",
              "    <tr>\n",
              "      <th>0</th>\n",
              "      <td>1/1/2017</td>\n",
              "      <td>26879.0</td>\n",
              "      <td>26174.45</td>\n",
              "    </tr>\n",
              "    <tr>\n",
              "      <th>1</th>\n",
              "      <td>1/2/2017</td>\n",
              "      <td>22456.0</td>\n",
              "      <td>52560.55</td>\n",
              "    </tr>\n",
              "    <tr>\n",
              "      <th>2</th>\n",
              "      <td>1/3/2017</td>\n",
              "      <td>17247.0</td>\n",
              "      <td>46779.68</td>\n",
              "    </tr>\n",
              "    <tr>\n",
              "      <th>3</th>\n",
              "      <td>1/4/2017</td>\n",
              "      <td>20987.0</td>\n",
              "      <td>44393.35</td>\n",
              "    </tr>\n",
              "    <tr>\n",
              "      <th>4</th>\n",
              "      <td>1/5/2017</td>\n",
              "      <td>21905.0</td>\n",
              "      <td>45602.32</td>\n",
              "    </tr>\n",
              "  </tbody>\n",
              "</table>\n",
              "</div>\n",
              "      <button class=\"colab-df-convert\" onclick=\"convertToInteractive('df-6056e40d-7d22-4eed-a91c-fe54a5ac8ead')\"\n",
              "              title=\"Convert this dataframe to an interactive table.\"\n",
              "              style=\"display:none;\">\n",
              "        \n",
              "  <svg xmlns=\"http://www.w3.org/2000/svg\" height=\"24px\"viewBox=\"0 0 24 24\"\n",
              "       width=\"24px\">\n",
              "    <path d=\"M0 0h24v24H0V0z\" fill=\"none\"/>\n",
              "    <path d=\"M18.56 5.44l.94 2.06.94-2.06 2.06-.94-2.06-.94-.94-2.06-.94 2.06-2.06.94zm-11 1L8.5 8.5l.94-2.06 2.06-.94-2.06-.94L8.5 2.5l-.94 2.06-2.06.94zm10 10l.94 2.06.94-2.06 2.06-.94-2.06-.94-.94-2.06-.94 2.06-2.06.94z\"/><path d=\"M17.41 7.96l-1.37-1.37c-.4-.4-.92-.59-1.43-.59-.52 0-1.04.2-1.43.59L10.3 9.45l-7.72 7.72c-.78.78-.78 2.05 0 2.83L4 21.41c.39.39.9.59 1.41.59.51 0 1.02-.2 1.41-.59l7.78-7.78 2.81-2.81c.8-.78.8-2.07 0-2.86zM5.41 20L4 18.59l7.72-7.72 1.47 1.35L5.41 20z\"/>\n",
              "  </svg>\n",
              "      </button>\n",
              "      \n",
              "  <style>\n",
              "    .colab-df-container {\n",
              "      display:flex;\n",
              "      flex-wrap:wrap;\n",
              "      gap: 12px;\n",
              "    }\n",
              "\n",
              "    .colab-df-convert {\n",
              "      background-color: #E8F0FE;\n",
              "      border: none;\n",
              "      border-radius: 50%;\n",
              "      cursor: pointer;\n",
              "      display: none;\n",
              "      fill: #1967D2;\n",
              "      height: 32px;\n",
              "      padding: 0 0 0 0;\n",
              "      width: 32px;\n",
              "    }\n",
              "\n",
              "    .colab-df-convert:hover {\n",
              "      background-color: #E2EBFA;\n",
              "      box-shadow: 0px 1px 2px rgba(60, 64, 67, 0.3), 0px 1px 3px 1px rgba(60, 64, 67, 0.15);\n",
              "      fill: #174EA6;\n",
              "    }\n",
              "\n",
              "    [theme=dark] .colab-df-convert {\n",
              "      background-color: #3B4455;\n",
              "      fill: #D2E3FC;\n",
              "    }\n",
              "\n",
              "    [theme=dark] .colab-df-convert:hover {\n",
              "      background-color: #434B5C;\n",
              "      box-shadow: 0px 1px 3px 1px rgba(0, 0, 0, 0.15);\n",
              "      filter: drop-shadow(0px 1px 2px rgba(0, 0, 0, 0.3));\n",
              "      fill: #FFFFFF;\n",
              "    }\n",
              "  </style>\n",
              "\n",
              "      <script>\n",
              "        const buttonEl =\n",
              "          document.querySelector('#df-6056e40d-7d22-4eed-a91c-fe54a5ac8ead button.colab-df-convert');\n",
              "        buttonEl.style.display =\n",
              "          google.colab.kernel.accessAllowed ? 'block' : 'none';\n",
              "\n",
              "        async function convertToInteractive(key) {\n",
              "          const element = document.querySelector('#df-6056e40d-7d22-4eed-a91c-fe54a5ac8ead');\n",
              "          const dataTable =\n",
              "            await google.colab.kernel.invokeFunction('convertToInteractive',\n",
              "                                                     [key], {});\n",
              "          if (!dataTable) return;\n",
              "\n",
              "          const docLinkHtml = 'Like what you see? Visit the ' +\n",
              "            '<a target=\"_blank\" href=https://colab.research.google.com/notebooks/data_table.ipynb>data table notebook</a>'\n",
              "            + ' to learn more about interactive tables.';\n",
              "          element.innerHTML = '';\n",
              "          dataTable['output_type'] = 'display_data';\n",
              "          await google.colab.output.renderOutput(dataTable, element);\n",
              "          const docLink = document.createElement('div');\n",
              "          docLink.innerHTML = docLinkHtml;\n",
              "          element.appendChild(docLink);\n",
              "        }\n",
              "      </script>\n",
              "    </div>\n",
              "  </div>\n",
              "  "
            ]
          },
          "metadata": {},
          "execution_count": 4
        }
      ]
    },
    {
      "cell_type": "code",
      "source": [
        "# Define x and y\n",
        "x=data_df.drop(['Date', 'Sales'], axis=1).values # create the independent variables dataframe\n",
        "y=data_df['Sales'].values # create the dependent variable array \n",
        "   "
      ],
      "metadata": {
        "id": "a6wnN-ZUjUOb"
      },
      "execution_count": 5,
      "outputs": []
    },
    {
      "cell_type": "code",
      "source": [
        "print(x) # display independent variables"
      ],
      "metadata": {
        "id": "-TBF3hBtkDqg",
        "colab": {
          "base_uri": "https://localhost:8080/"
        },
        "outputId": "45562e8d-04c3-438f-b27c-2efc4ff23594"
      },
      "execution_count": 6,
      "outputs": [
        {
          "output_type": "stream",
          "name": "stdout",
          "text": [
            "[[26879.  ]\n",
            " [22456.  ]\n",
            " [17247.  ]\n",
            " ...\n",
            " [20269.  ]\n",
            " [25268.01]\n",
            " [36212.  ]]\n"
          ]
        }
      ]
    },
    {
      "cell_type": "code",
      "source": [
        "plt.xlabel(\"Items Produced\")\n",
        "plt.ylabel(\"Sales in USD\")\n",
        "plt.scatter(data_df.Production,data_df.Sales, c=\"blue\",s=10)"
      ],
      "metadata": {
        "colab": {
          "base_uri": "https://localhost:8080/",
          "height": 297
        },
        "id": "WVyKKUZIPY5f",
        "outputId": "0d0f0977-7ae2-413c-f7c3-fc454aa6ac85"
      },
      "execution_count": 7,
      "outputs": [
        {
          "output_type": "execute_result",
          "data": {
            "text/plain": [
              "<matplotlib.collections.PathCollection at 0x7fc601525d50>"
            ]
          },
          "metadata": {},
          "execution_count": 7
        },
        {
          "output_type": "display_data",
          "data": {
            "text/plain": [
              "<Figure size 432x288 with 1 Axes>"
            ],
            "image/png": "[encoded data removed]"
          },
          "metadata": {
            "needs_background": "light"
          }
        }
      ]
    },
    {
      "cell_type": "code",
      "source": [
        "#print(y) to display target variable values\n",
        "print(y)"
      ],
      "metadata": {
        "id": "vBGKuhiASxmS",
        "colab": {
          "base_uri": "https://localhost:8080/"
        },
        "outputId": "b2571941-bd8b-4e91-84f8-a76693c0b539"
      },
      "execution_count": 8,
      "outputs": [
        {
          "output_type": "stream",
          "name": "stdout",
          "text": [
            "[26174.45 52560.55 46779.68 ... 82851.82 82212.81 79115.9 ]\n"
          ]
        }
      ]
    },
    {
      "cell_type": "code",
      "source": [
        "# Split dataset into training and testing datasets\n",
        "from sklearn.model_selection import train_test_split # get the train test and split function from the sklearn library\n",
        "x_train,x_test,y_train,y_test=train_test_split(x,y,test_size=0.3,random_state=0) # will test on 30% of data\n"
      ],
      "metadata": {
        "id": "1I4cksrIlH8Y"
      },
      "execution_count": 9,
      "outputs": []
    },
    {
      "cell_type": "code",
      "source": [
        "# train the Model on the Training set\n",
        "from sklearn.linear_model import LinearRegression\n",
        "ml=LinearRegression() # create the model\n",
        "ml.fit(x_train,y_train) # fit the model\n",
        "LinearRegression(copy_X=True, fit_intercept=True, n_jobs=None, normalize=False)"
      ],
      "metadata": {
        "id": "L2ZrOtP0mjlP",
        "colab": {
          "base_uri": "https://localhost:8080/"
        },
        "outputId": "b53d7c80-9092-48ae-b313-6bf26a628b1c"
      },
      "execution_count": 10,
      "outputs": [
        {
          "output_type": "execute_result",
          "data": {
            "text/plain": [
              "LinearRegression(normalize=False)"
            ]
          },
          "metadata": {},
          "execution_count": 10
        }
      ]
    },
    {
      "cell_type": "code",
      "source": [
        "# Use trained model to predict the target variable (we know these values, it's how we can tell the accuracy of the model before putting into production)\n",
        "y_pred = ml.predict(x_test)\n",
        "print(y_pred)\n"
      ],
      "metadata": {
        "id": "02ppbdRWqYly",
        "colab": {
          "base_uri": "https://localhost:8080/"
        },
        "outputId": "dbff14fe-384a-4cc1-d510-199eceb24fd5"
      },
      "execution_count": 11,
      "outputs": [
        {
          "output_type": "stream",
          "name": "stdout",
          "text": [
            "[ 67025.56091017  61880.60761674  62459.76278357  58343.5860434\n",
            "  57838.25442613  66356.48146606  57662.73080108  67741.74354714\n",
            "  64590.11173361  70747.78367364  65552.51560602  70610.00683451\n",
            "  65307.36489769  62125.75832507  58713.99912894  64264.99265013\n",
            "  59228.91196385  58712.91789655  47214.38620187  60758.69520486\n",
            "  64282.32448405  60133.50737229  59709.5786365   55671.55037541\n",
            "  48993.60225964  65456.16816606  66883.18080446  69160.19196865\n",
            "  58752.52739964  61957.68556871  49830.75446011  70297.41291822\n",
            "  68501.80709038  74938.88660627  67479.46440505  61407.43463387\n",
            "  66525.61404426  68827.23662672  57668.05132082  58441.00401047\n",
            "  70029.45998244  61486.65364005  50189.38104216  67697.86264088\n",
            "  57089.99879692  52645.17023381  62628.90606704  66082.42652575\n",
            "  53388.10534328  60831.49104838  67323.17815218  64834.19191482\n",
            "  54386.91784272  55121.29944057  54311.98094498  61445.97360985\n",
            "  56305.30242487  65644.58093753  59855.15961827  56501.20888611\n",
            "  59416.2542082   59254.92577264  56332.06560263  63157.74645966\n",
            "  69069.53973293  64243.26094978  65795.52526012  55202.64879571\n",
            "  65074.00069286  49845.7632502   56014.11905079  65201.70387188\n",
            "  60998.49327763  61747.86225503  65998.60425299  52874.25233021\n",
            "  58333.95129941  62330.22900319  68075.74800564  53281.0633375\n",
            "  65040.80364716  69672.98515989  66416.42027898  52148.3386018\n",
            "  70162.20534415  58818.9000805   64403.84001637  63474.62248439\n",
            "  59014.80654174  68041.4911381   69444.95218007  66026.76982127\n",
            "  57462.5422314   54068.65013275  59030.86444839  41626.78065349\n",
            "  60632.37300581  56212.16656625  69003.89501051  68399.04719304\n",
            "  57037.55367377  65762.33891969  64258.24832933  58541.63355886\n",
            "  58580.17253484  67140.107311    64979.78360186  55434.96388397\n",
            "  56926.208149    55846.04629443  63226.902511    53933.00364257\n",
            "  61530.54525159  63002.52002863  68776.94326307  63124.56011923\n",
            "  62776.6388083   64434.88530258  66314.75231929  64593.32331494\n",
            "  54944.65176206  59052.79954889  60927.83848833  64130.85560317\n",
            "  52288.68470599  58422.80504959  58996.60758086  60872.69563687\n",
            "  64988.34781874  66792.18600006  61517.69892626  60538.14520954\n",
            "  58239.74491368  62862.16321916  65458.94083128  64091.24610008\n",
            "  60564.92979785  56016.27081029  51129.30384524  56525.82030438\n",
            "  57728.03295482  71036.82599349  52933.14202656  59157.37934232\n",
            "  56571.85297013  61767.13174302  46967.09443933  67955.84896926\n",
            "  64207.93355513  58529.85776065  60954.58025556  57433.63799942\n",
            "  66581.29215928  65740.92837748  70268.1875281   59337.03520202\n",
            "  58635.83994459  67853.07836664  59637.85332009  63272.27144995\n",
            "  51540.3862557   65581.40913273  65711.1677238   60900.00478346\n",
            "  60264.11167978  61369.966185    69110.94772157  59660.33438941\n",
            "  67570.45920945  61662.22008619  65670.27358818  54465.06632179\n",
            "  54996.04776864  48681.00834336  56744.21854021  63995.96918724\n",
            "  64120.16103734  59181.80877099  70076.53105949  69427.8237463\n",
            "  65943.25800138  64763.53712552  54265.94827923  60208.44427003\n",
            "  65697.03676594  60002.9030648   54941.450886    61020.97434695\n",
            "  67772.78883335  54933.96790149  65929.34114894  67136.89572967\n",
            "  59583.25643745  63688.72790651  60279.42021746  58159.45538039\n",
            "  66355.40023368  68023.28147195  65601.7598531   66764.35229519\n",
            "  53988.68175759  61490.9357485   63067.82218237  62581.80287417\n",
            "  65764.35151066  68128.20383406  64298.91765426  65751.63364858\n",
            "  63868.57646108  57115.6807423   52034.96978079  56681.05744068\n",
            "  71923.22244105  63307.62025514  65451.88605762  61849.56233054\n",
            "  62731.67666965  60327.2727793   69201.9318207   63862.13188788\n",
            "  66028.90017022  55303.28904937  58010.65211202  63115.99590235\n",
            "  46026.10110913  63274.43391471  67520.14443525  68647.40948269\n",
            "  54295.92303832  64401.69896215  65633.88637169  49631.62571227\n",
            "  58424.94610381  65508.62399448  71879.84468253  58342.51551629\n",
            "  58394.97134471  68427.95142502  62656.73977191  67856.61110611\n",
            "  75685.05470761  59132.5645239   62314.17109653  66434.62994513\n",
            "  59014.80654174  71109.62183701  56484.08045234  51950.39813905\n",
            "  62391.24904849  66599.81227829  56505.49099455  50043.78935512\n",
            "  63595.59204789  66736.51859031  55840.69365888  59793.07975112\n",
            "  55967.01585793  57507.51507532  58938.79911688  57653.09605708\n",
            "  59724.56601605  65619.95881398  66344.70566784  61593.70635111\n",
            "  50987.99426664  66021.40648045  59209.64247586  55928.47688195\n",
            "  54138.86600593  52594.85545962  55782.87448964  67616.49187521\n",
            "  60630.23195159  69003.89501051  61517.69892626  61923.42870117\n",
            "  56421.98987992  63140.60732062  63891.0575304   80047.44197793\n",
            "  68877.57281146  65525.75242825  64745.33816464  65148.92688533\n",
            "  57869.33182815  68997.47184785  53755.82070049  50931.25632978\n",
            "  66761.14071386  53399.89184677  67736.39091159  62192.13100592\n",
            "  48914.38325346  53031.63052073  57080.35334766 158339.38238799\n",
            "  67495.52231171  53648.25413642  55676.90301096  51730.94008138\n",
            "  68936.45180254  53836.66690788  67301.7569047   63735.80968883\n",
            "  60264.11167978  61129.09758512  60369.02333661  60072.48732698\n",
            "  61794.9654479   71325.86831335  70199.68449829  68501.81779565\n",
            "  61970.53189403  64702.51708022  68481.47778055  58288.98916077\n",
            "  61035.9617265   63420.02560175  62594.6491995   58112.35218752\n",
            "  68843.31594392  61062.72490427  60708.38043067  51047.94378484\n",
            "  56739.93643176  59393.77313888  55897.43159574  58448.4762897\n",
            "  62289.54897298  64368.50191645  60043.583095    55711.1598785\n",
            "  63253.0233725   57456.11906874  58709.71702049  51973.94973548\n",
            "  64666.11915846  62529.34704575  59827.33661866  66631.60693348\n",
            "  67680.15612247  59743.83550404  66810.38496094  59296.35517182\n",
            "  69828.20088565  62955.41683576  65336.26912968  64619.0159656\n",
            "  51023.32166129  54368.72958711  61166.56603399  67120.83782301\n",
            "  64543.00854074  66718.31962943  60300.50960154  60549.9424183\n",
            "  70274.61069076  60525.32029476  57844.72040988  64409.19265192\n",
            "  66479.59208377  67226.82000696  66384.31517093  65389.79548521\n",
            "  58002.08789513  66407.86676737  65780.96609141 100384.25620279\n",
            "  67527.63812503  47655.44337142  55749.69885448  66001.06646535\n",
            "  61277.89014822  62091.50145753  56190.75602404  63036.77689617\n",
            "  55573.06188124  49892.84503253  71971.39616102  59159.32770166\n",
            "  67978.33003858  52825.01878839  67281.4168896   66206.60767058\n",
            "  64973.37114447  58891.69592402  51278.10711361  59633.57121165\n",
            "  66721.53121076  54662.04331014  66578.05916741  61649.35235032\n",
            "  61485.58311294  62152.52150283  50984.78268531  66870.65563727\n",
            "  61164.42497977  60223.43164957  54299.13461965  54975.68634299\n",
            "  55104.17100681  53548.69511514  64376.00631149  67561.89499257\n",
            "  54322.68621609  61229.72713352  61452.39677251  60572.42348762\n",
            "  57270.91787861  65155.35004799  57992.45315114  53637.54886532\n",
            "  64454.1440853   58001.01736802  61336.7691393   65026.88679472\n",
            "  68866.87824563  50652.92998631  62439.42276846  61510.20523649\n",
            "  62243.51630723  59195.72562342  60910.71005456  58206.86902611\n",
            "  61547.67368536  67178.64628698  93779.1574569   51009.40480886\n",
            "  56130.80650585  60844.33737371  58065.24899466  53734.96683238\n",
            "  67292.1221607   72168.37314937  52995.23259897  56841.9576654\n",
            "  65063.27401121  58095.22375375  59099.37818347  54215.61209449\n",
            "  59211.78353008  54582.81359868  50014.88512313  64394.20527237\n",
            "  60457.88779206  57832.92320112  55361.09751334  70895.52712017\n",
            "  71017.54580023  59150.76348478  64134.0671845   60516.75607787\n",
            "  55538.8050137   54803.35288873  65345.8931684   52615.18476945\n",
            "  67840.23204132  53093.72109315  53374.19919612  62816.24831139\n",
            "  55019.59936507  72728.24812293  57913.55530309  67703.20457116\n",
            "  55421.04703154  68837.21393939  56972.25152003  62719.89016616\n",
            "  64691.81180911  55382.50805555  65153.20899377  52692.27342668\n",
            "  54048.63127578  65884.25054704  53313.17915081  65659.56831707\n",
            "  47166.21248189  65576.04579191  61961.97838242  63779.7227109\n",
            "  64062.3418681   67640.04347164  49095.30233515  56306.37295198\n",
            "  55017.44760558  51270.61342384  65664.92095263  60738.35518976\n",
            " 172365.42859074  58831.94980598  68673.10213334  67735.84494276\n",
            "  68472.91356367  58754.66845387  68303.77028019  67662.52454096\n",
            "  59879.79244708  66901.3583548   62896.53784468  59983.63357681\n",
            " 102260.89022763  60958.88377454  57857.5667352   67098.35675369\n",
            "  65329.83526175  59591.82065434  69146.27511622  57445.41379763\n",
            "  61391.37672721  51791.96012669  51111.10488436  57379.04111678\n",
            "  67917.29928801  54818.34026828  61299.3113957   54457.57263202\n",
            "  72980.9032263   65790.17262456  57322.18542193  62314.17109653\n",
            "  64727.13920376  67694.64035428  58391.75976338  65832.99370899\n",
            "  60674.12356313  57645.60236731  53361.35287079  65702.37869623\n",
            "  54518.59267732  64369.58314883  64081.61135609  58872.42643603\n",
            "  66111.33075774  67176.50523276  67807.04570089  63077.45692637\n",
            "  57966.76050048  57011.85031785  55402.84807066  49761.17019793\n",
            "  68583.14574024  63839.6722291   48355.56810174  58412.08907321\n",
            "  62019.77614112  57859.70778943  71590.27780439]\n"
          ]
        }
      ]
    },
    {
      "cell_type": "code",
      "source": [
        "# input a row of values for the independent variables and see how close it gets to predicting the already known target variable\n",
        "ml.predict([[61037]])  # the actual value for profit is 41754.42, if you refit the model, the prediction will (should) change"
      ],
      "metadata": {
        "id": "mrr7sttyrgAb",
        "colab": {
          "base_uri": "https://localhost:8080/"
        },
        "outputId": "04c4cfc5-66b8-42f2-ca3b-8dc69fe24cac"
      },
      "execution_count": 12,
      "outputs": [
        {
          "output_type": "execute_result",
          "data": {
            "text/plain": [
              "array([102260.89022763])"
            ]
          },
          "metadata": {},
          "execution_count": 12
        }
      ]
    },
    {
      "cell_type": "code",
      "source": [
        "# R-Square tells how much of the variation in the dependent variable can be explained by the independent variables used in the regression\n",
        "# This means, 10% of the variation can be explained\n",
        "from sklearn.metrics import r2_score\n",
        "r2_score(y_test,y_pred)"
      ],
      "metadata": {
        "id": "j2kD542Lsaz0",
        "colab": {
          "base_uri": "https://localhost:8080/"
        },
        "outputId": "e3034d26-99b7-4718-ce7b-0865ab172804"
      },
      "execution_count": null,
      "outputs": [
        {
          "output_type": "execute_result",
          "data": {
            "text/plain": [
              "0.10188053659464802"
            ]
          },
          "metadata": {},
          "execution_count": 19
        }
      ]
    },
    {
      "cell_type": "markdown",
      "source": [
        "### **Plot Results**"
      ],
      "metadata": {
        "id": "qpG1kAUhZnBf"
      }
    },
    {
      "cell_type": "code",
      "source": [
        "# Plot the actual values and the predicte values (y)\n",
        "import matplotlib.pyplot as plt \n",
        "plt.figure(figsize=(15,10))\n",
        "plt.scatter(y_test, y_pred) \n",
        "plt.xlabel('Actual')\n",
        "plt.ylabel('Predicted')\n",
        "plt.title('Actual vs. Predicted')\n",
        "# This shows a moderate to low positive correlation"
      ],
      "metadata": {
        "id": "ISlO7MAHmF3x",
        "colab": {
          "base_uri": "https://localhost:8080/",
          "height": 638
        },
        "outputId": "7e76259d-8c5d-40aa-c910-c5d38e281972"
      },
      "execution_count": null,
      "outputs": [
        {
          "output_type": "execute_result",
          "data": {
            "text/plain": [
              "Text(0.5, 1.0, 'Actual vs. Predicted')"
            ]
          },
          "metadata": {},
          "execution_count": 20
        },
        {
          "output_type": "display_data",
          "data": {
            "text/plain": [
              "<Figure size 1080x720 with 1 Axes>"
            ],
            "image/png": "[encoded data removed]"
          },
          "metadata": {
            "needs_background": "light"
          }
        }
      ]
    },
    {
      "cell_type": "markdown",
      "source": [
        "Predicted Values"
      ],
      "metadata": {
        "id": "WlMZE_uSaQfe"
      }
    },
    {
      "cell_type": "code",
      "source": [
        "#Predicted Values of \"y\" from the test set\n",
        "pred_y_df=pd.DataFrame({'Actual Value':y_test, 'Predicted Value':y_pred, 'Difference':y_test - y_pred})\n",
        "pred_y_df[0:20]\n",
        "# Especially when the prediction is being made by a glorified adding machine"
      ],
      "metadata": {
        "id": "pbzsOGI8uiss",
        "colab": {
          "base_uri": "https://localhost:8080/",
          "height": 677
        },
        "outputId": "30c93e10-ffa3-4890-ada5-4d6ab07c72a7"
      },
      "execution_count": null,
      "outputs": [
        {
          "output_type": "execute_result",
          "data": {
            "text/plain": [
              "    Actual Value  Predicted Value    Difference\n",
              "0       65928.35     67025.560910  -1097.210910\n",
              "1       51222.42     61880.607617 -10658.187617\n",
              "2       46043.26     62459.762784 -16416.502784\n",
              "3       44410.41     58343.586043 -13933.176043\n",
              "4       60648.42     57838.254426   2810.165574\n",
              "5       53087.60     66356.481466 -13268.881466\n",
              "6       48616.99     57662.730801  -9045.740801\n",
              "7       73098.35     67741.743547   5356.606453\n",
              "8       50906.17     64590.111734 -13683.941734\n",
              "9       57906.71     70747.783674 -12841.073674\n",
              "10      72621.85     65552.515606   7069.334394\n",
              "11     107540.34     70610.006835  36930.333165\n",
              "12      86009.28     65307.364898  20701.915102\n",
              "13      52486.95     62125.758325  -9638.808325\n",
              "14      68404.46     58713.999129   9690.460871\n",
              "15      82920.88     64264.992650  18655.887350\n",
              "16      46700.95     59228.911964 -12527.961964\n",
              "17      25067.45     58712.917897 -33645.467897\n",
              "18      59637.89     47214.386202  12423.503798\n",
              "19      69506.57     60758.695205   8747.874795"
            ],
            "text/html": [
              "\n",
              "  <div id=\"df-2338f59e-c46b-44b2-bda3-dfa8aa3b57d2\">\n",
              "    <div class=\"colab-df-container\">\n",
              "      <div>\n",
              "<style scoped>\n",
              "    .dataframe tbody tr th:only-of-type {\n",
              "        vertical-align: middle;\n",
              "    }\n",
              "\n",
              "    .dataframe tbody tr th {\n",
              "        vertical-align: top;\n",
              "    }\n",
              "\n",
              "    .dataframe thead th {\n",
              "        text-align: right;\n",
              "    }\n",
              "</style>\n",
              "<table border=\"1\" class=\"dataframe\">\n",
              "  <thead>\n",
              "    <tr style=\"text-align: right;\">\n",
              "      <th></th>\n",
              "      <th>Actual Value</th>\n",
              "      <th>Predicted Value</th>\n",
              "      <th>Difference</th>\n",
              "    </tr>\n",
              "  </thead>\n",
              "  <tbody>\n",
              "    <tr>\n",
              "      <th>0</th>\n",
              "      <td>65928.35</td>\n",
              "      <td>67025.560910</td>\n",
              "      <td>-1097.210910</td>\n",
              "    </tr>\n",
              "    <tr>\n",
              "      <th>1</th>\n",
              "      <td>51222.42</td>\n",
              "      <td>61880.607617</td>\n",
              "      <td>-10658.187617</td>\n",
              "    </tr>\n",
              "    <tr>\n",
              "      <th>2</th>\n",
              "      <td>46043.26</td>\n",
              "      <td>62459.762784</td>\n",
              "      <td>-16416.502784</td>\n",
              "    </tr>\n",
              "    <tr>\n",
              "      <th>3</th>\n",
              "      <td>44410.41</td>\n",
              "      <td>58343.586043</td>\n",
              "      <td>-13933.176043</td>\n",
              "    </tr>\n",
              "    <tr>\n",
              "      <th>4</th>\n",
              "      <td>60648.42</td>\n",
              "      <td>57838.254426</td>\n",
              "      <td>2810.165574</td>\n",
              "    </tr>\n",
              "    <tr>\n",
              "      <th>5</th>\n",
              "      <td>53087.60</td>\n",
              "      <td>66356.481466</td>\n",
              "      <td>-13268.881466</td>\n",
              "    </tr>\n",
              "    <tr>\n",
              "      <th>6</th>\n",
              "      <td>48616.99</td>\n",
              "      <td>57662.730801</td>\n",
              "      <td>-9045.740801</td>\n",
              "    </tr>\n",
              "    <tr>\n",
              "      <th>7</th>\n",
              "      <td>73098.35</td>\n",
              "      <td>67741.743547</td>\n",
              "      <td>5356.606453</td>\n",
              "    </tr>\n",
              "    <tr>\n",
              "      <th>8</th>\n",
              "      <td>50906.17</td>\n",
              "      <td>64590.111734</td>\n",
              "      <td>-13683.941734</td>\n",
              "    </tr>\n",
              "    <tr>\n",
              "      <th>9</th>\n",
              "      <td>57906.71</td>\n",
              "      <td>70747.783674</td>\n",
              "      <td>-12841.073674</td>\n",
              "    </tr>\n",
              "    <tr>\n",
              "      <th>10</th>\n",
              "      <td>72621.85</td>\n",
              "      <td>65552.515606</td>\n",
              "      <td>7069.334394</td>\n",
              "    </tr>\n",
              "    <tr>\n",
              "      <th>11</th>\n",
              "      <td>107540.34</td>\n",
              "      <td>70610.006835</td>\n",
              "      <td>36930.333165</td>\n",
              "    </tr>\n",
              "    <tr>\n",
              "      <th>12</th>\n",
              "      <td>86009.28</td>\n",
              "      <td>65307.364898</td>\n",
              "      <td>20701.915102</td>\n",
              "    </tr>\n",
              "    <tr>\n",
              "      <th>13</th>\n",
              "      <td>52486.95</td>\n",
              "      <td>62125.758325</td>\n",
              "      <td>-9638.808325</td>\n",
              "    </tr>\n",
              "    <tr>\n",
              "      <th>14</th>\n",
              "      <td>68404.46</td>\n",
              "      <td>58713.999129</td>\n",
              "      <td>9690.460871</td>\n",
              "    </tr>\n",
              "    <tr>\n",
              "      <th>15</th>\n",
              "      <td>82920.88</td>\n",
              "      <td>64264.992650</td>\n",
              "      <td>18655.887350</td>\n",
              "    </tr>\n",
              "    <tr>\n",
              "      <th>16</th>\n",
              "      <td>46700.95</td>\n",
              "      <td>59228.911964</td>\n",
              "      <td>-12527.961964</td>\n",
              "    </tr>\n",
              "    <tr>\n",
              "      <th>17</th>\n",
              "      <td>25067.45</td>\n",
              "      <td>58712.917897</td>\n",
              "      <td>-33645.467897</td>\n",
              "    </tr>\n",
              "    <tr>\n",
              "      <th>18</th>\n",
              "      <td>59637.89</td>\n",
              "      <td>47214.386202</td>\n",
              "      <td>12423.503798</td>\n",
              "    </tr>\n",
              "    <tr>\n",
              "      <th>19</th>\n",
              "      <td>69506.57</td>\n",
              "      <td>60758.695205</td>\n",
              "      <td>8747.874795</td>\n",
              "    </tr>\n",
              "  </tbody>\n",
              "</table>\n",
              "</div>\n",
              "      <button class=\"colab-df-convert\" onclick=\"convertToInteractive('df-2338f59e-c46b-44b2-bda3-dfa8aa3b57d2')\"\n",
              "              title=\"Convert this dataframe to an interactive table.\"\n",
              "              style=\"display:none;\">\n",
              "        \n",
              "  <svg xmlns=\"http://www.w3.org/2000/svg\" height=\"24px\"viewBox=\"0 0 24 24\"\n",
              "       width=\"24px\">\n",
              "    <path d=\"M0 0h24v24H0V0z\" fill=\"none\"/>\n",
              "    <path d=\"M18.56 5.44l.94 2.06.94-2.06 2.06-.94-2.06-.94-.94-2.06-.94 2.06-2.06.94zm-11 1L8.5 8.5l.94-2.06 2.06-.94-2.06-.94L8.5 2.5l-.94 2.06-2.06.94zm10 10l.94 2.06.94-2.06 2.06-.94-2.06-.94-.94-2.06-.94 2.06-2.06.94z\"/><path d=\"M17.41 7.96l-1.37-1.37c-.4-.4-.92-.59-1.43-.59-.52 0-1.04.2-1.43.59L10.3 9.45l-7.72 7.72c-.78.78-.78 2.05 0 2.83L4 21.41c.39.39.9.59 1.41.59.51 0 1.02-.2 1.41-.59l7.78-7.78 2.81-2.81c.8-.78.8-2.07 0-2.86zM5.41 20L4 18.59l7.72-7.72 1.47 1.35L5.41 20z\"/>\n",
              "  </svg>\n",
              "      </button>\n",
              "      \n",
              "  <style>\n",
              "    .colab-df-container {\n",
              "      display:flex;\n",
              "      flex-wrap:wrap;\n",
              "      gap: 12px;\n",
              "    }\n",
              "\n",
              "    .colab-df-convert {\n",
              "      background-color: #E8F0FE;\n",
              "      border: none;\n",
              "      border-radius: 50%;\n",
              "      cursor: pointer;\n",
              "      display: none;\n",
              "      fill: #1967D2;\n",
              "      height: 32px;\n",
              "      padding: 0 0 0 0;\n",
              "      width: 32px;\n",
              "    }\n",
              "\n",
              "    .colab-df-convert:hover {\n",
              "      background-color: #E2EBFA;\n",
              "      box-shadow: 0px 1px 2px rgba(60, 64, 67, 0.3), 0px 1px 3px 1px rgba(60, 64, 67, 0.15);\n",
              "      fill: #174EA6;\n",
              "    }\n",
              "\n",
              "    [theme=dark] .colab-df-convert {\n",
              "      background-color: #3B4455;\n",
              "      fill: #D2E3FC;\n",
              "    }\n",
              "\n",
              "    [theme=dark] .colab-df-convert:hover {\n",
              "      background-color: #434B5C;\n",
              "      box-shadow: 0px 1px 3px 1px rgba(0, 0, 0, 0.15);\n",
              "      filter: drop-shadow(0px 1px 2px rgba(0, 0, 0, 0.3));\n",
              "      fill: #FFFFFF;\n",
              "    }\n",
              "  </style>\n",
              "\n",
              "      <script>\n",
              "        const buttonEl =\n",
              "          document.querySelector('#df-2338f59e-c46b-44b2-bda3-dfa8aa3b57d2 button.colab-df-convert');\n",
              "        buttonEl.style.display =\n",
              "          google.colab.kernel.accessAllowed ? 'block' : 'none';\n",
              "\n",
              "        async function convertToInteractive(key) {\n",
              "          const element = document.querySelector('#df-2338f59e-c46b-44b2-bda3-dfa8aa3b57d2');\n",
              "          const dataTable =\n",
              "            await google.colab.kernel.invokeFunction('convertToInteractive',\n",
              "                                                     [key], {});\n",
              "          if (!dataTable) return;\n",
              "\n",
              "          const docLinkHtml = 'Like what you see? Visit the ' +\n",
              "            '<a target=\"_blank\" href=https://colab.research.google.com/notebooks/data_table.ipynb>data table notebook</a>'\n",
              "            + ' to learn more about interactive tables.';\n",
              "          element.innerHTML = '';\n",
              "          dataTable['output_type'] = 'display_data';\n",
              "          await google.colab.output.renderOutput(dataTable, element);\n",
              "          const docLink = document.createElement('div');\n",
              "          docLink.innerHTML = docLinkHtml;\n",
              "          element.appendChild(docLink);\n",
              "        }\n",
              "      </script>\n",
              "    </div>\n",
              "  </div>\n",
              "  "
            ]
          },
          "metadata": {},
          "execution_count": 21
        }
      ]
    }
  ]
}